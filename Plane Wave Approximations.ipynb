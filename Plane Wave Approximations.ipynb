{
 "cells": [
  {
   "attachments": {},
   "cell_type": "markdown",
   "id": "d079000f",
   "metadata": {},
   "source": [
    " # BEM coupling with plane wave approximation"
   ]
  },
  {
   "cell_type": "code",
   "execution_count": 5,
   "id": "e6919821",
   "metadata": {},
   "outputs": [],
   "source": [
    "import capytaine as cpt\n",
    "import numpy as np\n",
    "import matplotlib.pyplot as plt\n",
    "from capytaine.bem.airy_waves import airy_waves_potential, airy_waves_velocity, froude_krylov_force\n",
    "from capytaine.bem.solver import BEMSolver\n",
    "from capytaine.green_functions.delhommeau import Delhommeau\n",
    "from capytaine.bem.engines import BasicMatrixEngine\n",
    "from capytaine.bem.problems_and_results import RadiationProblem\n",
    "from capytaine.bodies.predefined.spheres import Sphere\n",
    "cpt.__version__ #get_potential_on_mesh if not version 2.0\n",
    "\n",
    "\n",
    "\n",
    "omega = 1.0\n",
    "rho = 1000# density of our special material\n",
    "wave_amp = 1\n",
    "wave_num =  1.0/9.81\n"
   ]
  },
  {
   "attachments": {},
   "cell_type": "markdown",
   "id": "583a1170",
   "metadata": {},
   "source": [
    "### Some functions that are required down the road for implementation"
   ]
  },
  {
   "cell_type": "code",
   "execution_count": 6,
   "id": "20283704",
   "metadata": {},
   "outputs": [],
   "source": [
    "#%%writefile pwa_utils.py\n",
    "def generate_body(xyz):\n",
    "    mesh1 = cpt.meshes.predefined.mesh_vertical_cylinder(radius=1, length=2, center=(0, 0, 0))\n",
    "    body = cpt.FloatingBody(mesh1)\n",
    "    body.add_translation_dof(name='Heave')\n",
    "    body = body.immersed_part()\n",
    "    body.name = f'{xyz[0]}_{xyz[1]}_{xyz[2]}'\n",
    "    return body\n",
    "\n",
    "\n",
    "\n",
    "\n",
    "#calculate angle theta_ij from centre of one body to other\n",
    "def theta_ij(X,Y): \n",
    "    x1,y1= X[0],X[1]\n",
    "    x2,y2 = Y[0], Y[1]\n",
    "    \n",
    "    if x1 ==x2 and y1==y2:\n",
    "        return 0\n",
    "    if x2==x1:\n",
    "        theta = np.pi/2\n",
    "    else:\n",
    "        theta = np.arctan2((y2-y1),(x2-x1))\n",
    "    return theta\n",
    "\n",
    "\n",
    "#step 2\n",
    "def phi_j_star(phi_ij,theta,X,Y,z,k):\n",
    "    \n",
    "    '''phi_ij is the vector of all the effect at that body from all other bodies'''\n",
    "   # print(f'body 1 is at {X} and body2 is at {Y}')\n",
    "    x,y = X[0],X[1]\n",
    "    xj,yj = Y[0],Y[1]\n",
    "    if x==xj and y==yj:\n",
    "        return 0\n",
    "    #multiplier = np.exp((1j*k*(xj-x)*np.cos(theta)) + ((yj-y)*np.sin(theta)))\n",
    "    #doing some stuff\n",
    "    #divider = np.exp((1j*k*(xj)*np.cos(theta)) + ((yj)*np.sin(theta)))\n",
    "    multiplier = np.exp(1j*k*((x-xj)*np.cos(theta) + (y-yj))*np.sin(theta))\n",
    "  #  print(f'the multiplier for body at {X} and {Y} with angle {theta} is {multiplier}')\n",
    "    res = phi_ij * multiplier * np.exp(k*z)#kz = 0 #e^kz = 1\n",
    "    return res\n",
    "\n",
    "#{(10, 10, 0): {(10, 10, 0): 0,\n",
    "  #(0, 0, 0): (8.415476709952118-2.9519008598532284j),\n",
    "  #(5, 5, 0): (8.415476709952118-2.9519008598532284j),\n",
    "  #(15, 15, 0): (8.415476709952118-2.9519008598532284j)\n",
    "\n",
    "def get_phistarj_sum(phi_starj,xyzees):\n",
    "    xyz_phi = {xyz :[] for xyz in xyzees}\n",
    "    for k,v in phi_starj.items():\n",
    "        for s,m in v.items():\n",
    "          #  print(f\"thee value of m = {m}\")\n",
    "            xyz_phi[k].append(m)\n",
    "     #   print(\"next xyz\")\n",
    "    print(xyz_phi.items())\n",
    "    xyz_phi = {k:sum(v) for k,v in xyz_phi.items()}\n",
    "    #print(\"Afteer summation \")\n",
    "  \n",
    "    return xyz_phi\n",
    "\n",
    "\n",
    "\n",
    "def solve_forces(diff_result):\n",
    "    \n",
    "    \"\"\"\n",
    "    \"\"\"\n",
    "    return diff_result.forces\n",
    "\n"
   ]
  },
  {
   "attachments": {},
   "cell_type": "markdown",
   "id": "b15b09f8",
   "metadata": {},
   "source": [
    "The method is based upon an idea due to Simon 3\n",
    "originally devised in connection with the theory of arrays\n",
    "of wave-power devices. A diverging wave scattered from\n",
    "one cylinder is replaced by a plane wave of appropriate\n",
    "amplitude in the neighbourhood of another cylinder. Once\n",
    "the amplitude and phase of the equivalent plane wave have\n",
    "been determined, **the problem reduces to summing the\n",
    "effects of plane waves on any given cylinder**"
   ]
  },
  {
   "attachments": {},
   "cell_type": "markdown",
   "id": "43c39ca8",
   "metadata": {},
   "source": [
    "#### 1. Initialize the bodies and define diffraction and radiation problems and solve\n",
    "\n",
    "This step is performed in isolation and this is the first BEM run where we evaluate the green's function"
   ]
  },
  {
   "attachments": {},
   "cell_type": "markdown",
   "id": "c26cdadc",
   "metadata": {},
   "source": [
    "#### generating the arrays of the converter as discussed in the paper\n",
    "\n",
    "Square grid of cylinders with diameter and draft of 10m"
   ]
  },
  {
   "cell_type": "code",
   "execution_count": 7,
   "id": "942e9e67",
   "metadata": {},
   "outputs": [],
   "source": [
    "resolution = 2\n",
    "length = 10\n",
    "radius = 5\n",
    "\n",
    "\n"
   ]
  },
  {
   "cell_type": "code",
   "execution_count": 8,
   "id": "9365d0f2",
   "metadata": {},
   "outputs": [
    {
     "data": {
      "image/png": "[encoded data removed]",
      "text/plain": [
       "<Figure size 640x480 with 1 Axes>"
      ]
     },
     "metadata": {},
     "output_type": "display_data"
    }
   ],
   "source": [
    "x_coords,y_coords = np.arange(0,500,100),np.arange(0,500,100)\n",
    "X, Y = np.meshgrid(x_coords, y_coords)\n",
    "# Flatten the mesh grid coordinates\n",
    "x_flattened = X.flatten()\n",
    "y_flattened = Y.flatten()\n",
    "\n",
    "# Plot the scatter plot\n",
    "plt.scatter(x_flattened, y_flattened, color='blue')\n",
    "plt.xlabel('X')\n",
    "plt.ylabel('Y')\n",
    "plt.title('Scatter Plot of WEC Grid Points')\n",
    "plt.grid(True)\n",
    "plt.show()"
   ]
  },
  {
   "attachments": {},
   "cell_type": "markdown",
   "id": "2b269491",
   "metadata": {},
   "source": [
    "### Locations of the WECs and mapping out their neighbors"
   ]
  },
  {
   "cell_type": "code",
   "execution_count": 9,
   "id": "f4af552a",
   "metadata": {},
   "outputs": [],
   "source": [
    "from capytaine import assemble_dataset\n",
    "\n",
    "xyzees = {(0,0,0),(5,5,0)}\n",
    "#if using more bodies from above\n",
    "#xyzees = {(x,y,0) for x,y in zip(x_flattened,y_flattened)}\n",
    "#print(xyzees)\n",
    "    \n",
    "bodies = [generate_body(xyz) for xyz in xyzees ]\n",
    "\n",
    "#print(get_neighbors(xyzees))\n",
    "\n",
    "\n",
    "def get_neighbors(xyzees):\n",
    "    neighbor = {xyz:[] for xyz in xyzees}\n",
    "    for xyz in xyzees:\n",
    "        for zyx in xyzees:\n",
    "            if not xyz == zyx:\n",
    "                neighbor[xyz].append(zyx)\n",
    "    return neighbor\n",
    "\n",
    "neighbors = get_neighbors(xyzees)\n",
    "cache_engine = BasicMatrixEngine(matrix_cache_size=0)\n",
    "\n",
    "solver = cpt.BEMSolver(engine=cache_engine)\n",
    "# if using more bodies\n",
    "#neighbors = get_neighbors(xyzees)"
   ]
  },
  {
   "attachments": {},
   "cell_type": "markdown",
   "id": "0296dab8",
   "metadata": {},
   "source": [
    "#### Let's first solve usine BEM Direct way. (Joining the bodies) \n",
    "##### Considering an array as a single unit\n",
    "\n",
    "Note that all body (one body after joining) has same Heave forces. Is that what happens in \n",
    "PWA convergence as well? Like, all the bodies in different location have same heave forces."
   ]
  },
  {
   "cell_type": "code",
   "execution_count": 10,
   "id": "efe8057f",
   "metadata": {},
   "outputs": [
    {
     "name": "stdout",
     "output_type": "stream",
     "text": [
      "single force of one body :{'Heave': (-1806.5738092592817-258.5293723028756j)} and \n",
      " in array {'0_0_0__Heave': (-3309.7383562105933-109.44907886177624j), '5_5_0__Heave': (-3309.7383562105933-109.44907886177624j)}\n"
     ]
    }
   ],
   "source": [
    "Jointbodies =cpt.FloatingBody.join_bodies(*bodies)\n",
    "singleBody = bodies[0]\n",
    "Jointbodies.name = \"joint\"\n",
    "#Jointbodies.show_matplotlib()\n",
    "diffProblem = cpt.DiffractionProblem(body=Jointbodies, water_depth = np.infty,\n",
    "                                      omega=omega, wave_direction=0.) \n",
    "\n",
    "SinglediffProblem = cpt.DiffractionProblem(body=singleBody, water_depth = np.infty,\n",
    "                                      omega=omega, wave_direction=0.)\n",
    "radProblem  = cpt.RadiationProblem(body= Jointbodies, water_depth = np.infty,\n",
    "                                      omega=omega) \n",
    " \n",
    "diff_results = solver.solve(diffProblem) \n",
    "single_diff_results = solver.solve(SinglediffProblem) \n",
    "rad_results = solver.solve(radProblem)\n",
    "forces_direct_way = diff_results.forces\n",
    "single_forces = single_diff_results.forces\n",
    "print(f\"single force of one body :{single_forces} and \\n in array {forces_direct_way}\")\n"
   ]
  },
  {
   "attachments": {},
   "cell_type": "markdown",
   "id": "f562ae08",
   "metadata": {},
   "source": [
    "### PWA Coupling with BEM method"
   ]
  },
  {
   "cell_type": "code",
   "execution_count": 11,
   "id": "2071aded",
   "metadata": {},
   "outputs": [],
   "source": [
    "\n",
    "loc_bodies = {body:xyz for xyz,body in zip(xyzees,bodies)}\n",
    "loc_to_body = {xyz:body for xyz,body in zip(xyzees,bodies)}\n",
    "#caching interaction matrices help make things go brrrrrrrr\n",
    "\n",
    "\n",
    "\n",
    "def get_results(problems):\n",
    "    results = [solver.solve(pb, keep_details = True) for pb in sorted(problems)]\n",
    "    return results\n",
    " \n",
    "diff_problems = {body:cpt.DiffractionProblem(body=body, water_depth = np.infty,\n",
    "                                      omega=omega, wave_direction=0.) for body in bodies}\n",
    "\n",
    "diff_loc= {generate_body(loc):loc for loc in xyzees }\n",
    "\n",
    "loc_diff = {loc_bodies.get(body):diff for body,diff in diff_problems.items() }\n",
    "\n",
    "rad_problems = {body: cpt.RadiationProblem(body=body, water_depth = np.infty,\n",
    "                                      omega=omega) for body in bodies}\n",
    "\n",
    "diff_results = {body:solver.solve(problem) for body,problem in diff_problems.items()}\n",
    "rad_results = {body:solver.solve(problem) for body,problem in rad_problems.items()}\n",
    "\n",
    "\n",
    "diff_results_first_iter = diff_results\n",
    "rad_results_first_iter = rad_results\n",
    "#added_mass = {body:assemble_dataset(result) for body, result in rad_results.items()}\n",
    "\n"
   ]
  },
  {
   "attachments": {},
   "cell_type": "markdown",
   "id": "ea2b61e9",
   "metadata": {},
   "source": [
    "### UPDATE"
   ]
  },
  {
   "cell_type": "code",
   "execution_count": 60,
   "id": "2678ffa4",
   "metadata": {},
   "outputs": [],
   "source": [
    "def update_boundary_condition(DiffProblem,new_boundary_excitation):\n",
    "    '''Take in the normal velocities not the potential at the other location'''\n",
    "    #normal_velocities = np.einsum('...k,...k->...', new_boundary_excitation, DiffProblem.body.mesh.faces_normals)\n",
    "    DiffProblem.boundary_condition  = DiffProblem.boundary_condition + new_boundary_excitation\n",
    "    print(f\"excitation updater: {np.exp(new_boundary_excitation)}\")\n",
    "    return DiffProblem"
   ]
  },
  {
   "attachments": {},
   "cell_type": "markdown",
   "id": "eee436e8",
   "metadata": {},
   "source": [
    "### 2. Get the Incident potentials, diffraction potentials, radiation potentials for each body at their own location and the location of other bodies\n",
    "\n",
    "\n",
    "STEPS\n",
    "\n",
    "1) Assume each body as isolated and solve the diffraction and radiation problem with $usual$ body condition\n",
    "2) Find the potential of the incident PLANE WAVE.$A_{ij}$ being the apmplitude of body $j$ at body $i$, this can be generated at any other location from capytaine. And according to simon(1982) we can approximate the impact of outgoing waves from a body on all other bodies by an incident plane wave of appropriately chosen amplitude $A_{ij}$.\n",
    "\n",
    "3) Find the total effect at each body j due to other body i\n",
    "4) The diffraction potential depends on the boundary condition from the incoming incident plane waves so that has to be updated for new iteration.\n",
    "5)  Having computed the effect at all the bodies in the array we compute the contribution of all the bodies as isolated (step 1) due to the excitation induced by new φ∗\n",
    "    1) New excitation means new boundary condition. CALCULATE NEW BOUNDARY CONDITION for each iteration until convergence. Is new boundary condition  = usual boundary condition + new $\\phi^*$?\n",
    "    2) For each body to calculate new diffraction and radiation problem ? Meaning either re-evaluate the influence matrices or store from last time (step 1) if the matrix do not change themselves.\n",
    "    3) Use the already stored influence matrices (green's function matrix and its normal derivative matrix)\n",
    "   \n",
    "\n"
   ]
  },
  {
   "attachments": {},
   "cell_type": "markdown",
   "id": "ae8c255b",
   "metadata": {},
   "source": [
    "#### find the location of neighbors to each floating body"
   ]
  },
  {
   "cell_type": "code",
   "execution_count": 61,
   "id": "17f6faac",
   "metadata": {},
   "outputs": [
    {
     "data": {
      "text/plain": [
       "{FloatingBody(mesh=cylinder_24, dofs={Heave}, name=0_0_0): [(5, 5, 0)],\n",
       " FloatingBody(mesh=cylinder_30, dofs={Heave}, name=5_5_0): [(0, 0, 0)]}"
      ]
     },
     "execution_count": 61,
     "metadata": {},
     "output_type": "execute_result"
    }
   ],
   "source": [
    "body_neighbors_locs = {body:neighbors.get(loc_bodies.get(body)) for body in bodies}\n",
    "body_neighbors_locs"
   ]
  },
  {
   "cell_type": "code",
   "execution_count": null,
   "id": "babac853",
   "metadata": {},
   "outputs": [],
   "source": []
  },
  {
   "attachments": {},
   "cell_type": "markdown",
   "id": "de1f8894",
   "metadata": {},
   "source": [
    "###  Get the potential of a body to other location - Find the potential of incident PLANE WAVE $A_{IJ}$\n",
    "\n",
    "> Capytaine version 1.5 has the function as `get_potential_on_mesh` while new v2.0 have `compute_potential`"
   ]
  },
  {
   "cell_type": "code",
   "execution_count": 62,
   "id": "93052bf9",
   "metadata": {},
   "outputs": [
    {
     "data": {
      "text/plain": [
       "{FloatingBody(mesh=cylinder_24, dofs={Heave}, name=0_0_0): {(5,\n",
       "   5,\n",
       "   0): (8.482332126973382e-05+0.000134004463130016j)},\n",
       " FloatingBody(mesh=cylinder_30, dofs={Heave}, name=5_5_0): {(0,\n",
       "   0,\n",
       "   0): (0.000832587057951646+0.0010773170673753223j)}}"
      ]
     },
     "execution_count": 62,
     "metadata": {},
     "output_type": "execute_result"
    }
   ],
   "source": [
    "body_potential_at_neighbors = {body:(dict(zip(body_neighbors_locs[body], \n",
    "                                     solver.compute_potential(np.array(body_neighbors_locs[body]),\n",
    "                                                              diff_results[body]))))\n",
    "                                       for body in bodies}\n",
    "\n",
    "\n",
    "body_velocity_at_neighbors = {body:(dict(zip(body_neighbors_locs[body], \n",
    "                                     solver.compute_velocity(np.array(body_neighbors_locs[body]),\n",
    "                                                              diff_results[body]))))\n",
    "                                       for body in bodies}\n",
    "\n",
    "body_potential_at_neighbors "
   ]
  },
  {
   "cell_type": "code",
   "execution_count": 63,
   "id": "836fc5cc",
   "metadata": {},
   "outputs": [
    {
     "data": {
      "text/plain": [
       "{FloatingBody(mesh=cylinder_24, dofs={Heave}, name=0_0_0): {(5,\n",
       "   5,\n",
       "   0): (8.482332126973382e-05+0.000134004463130016j)},\n",
       " FloatingBody(mesh=cylinder_30, dofs={Heave}, name=5_5_0): {(0,\n",
       "   0,\n",
       "   0): (0.000832587057951646+0.0010773170673753223j)}}"
      ]
     },
     "execution_count": 63,
     "metadata": {},
     "output_type": "execute_result"
    }
   ],
   "source": [
    "# body_potential_at_neighbors = {}\n",
    "\n",
    "# for body in bodies:\n",
    "#     neighbor_locs = body_neighbors_locs[body]\n",
    "#     potentials = solver.compute_velocity(np.array(neighbor_locs), diff_results[body])\n",
    "#     neighbor_potentials = dict(zip(neighbor_locs, potentials))\n",
    "#     print(neighbor_potentials)\n",
    "#     body_potential_at_neighbors[body] = neighbor_potentials\n",
    "body_potential_at_neighbors"
   ]
  },
  {
   "attachments": {},
   "cell_type": "markdown",
   "id": "d054351c",
   "metadata": {},
   "source": [
    "We need new updated diffraction problem as well because the $B_{ij}$ is also changing..\n",
    "\n",
    "$ \\phi^*_j = \\displaystyle\\sum_{i}^{N}A_{ij} \\frac{\\phi_0 (x_i,y_i,0;\\beta_{ij})}{\\phi_0 (x_j,y_j,0;\\beta_{ij})} $"
   ]
  },
  {
   "cell_type": "code",
   "execution_count": 64,
   "id": "c806690d",
   "metadata": {},
   "outputs": [
    {
     "data": {
      "text/plain": [
       "{FloatingBody(mesh=cylinder_24, dofs={Heave}, name=0_0_0): array([0.00076873+0.00017863j]),\n",
       " FloatingBody(mesh=cylinder_30, dofs={Heave}, name=5_5_0): array([-3.28076924e-05+0.00027163j])}"
      ]
     },
     "execution_count": 64,
     "metadata": {},
     "output_type": "execute_result"
    }
   ],
   "source": [
    "\n",
    "\n",
    "\n",
    "body_potential_at_itself = {body:   solver.compute_potential(loc_bodies[body],\n",
    "                                                              diff_results[body])\n",
    "                                       for body in bodies}\n",
    "\n",
    "body_potential_at_itself"
   ]
  },
  {
   "attachments": {},
   "cell_type": "markdown",
   "id": "6ccd673e",
   "metadata": {},
   "source": [
    "### $\\phi_{ij}$ or  $𝐴_{ij}$ Get the all other potential at each location/body..\n",
    "\n",
    "\n",
    "This is just re-structuring earlier result so that we have results of all other WECs at each location"
   ]
  },
  {
   "cell_type": "code",
   "execution_count": 65,
   "id": "5053af60",
   "metadata": {},
   "outputs": [
    {
     "data": {
      "text/plain": [
       "{(0, 0, 0): {(0, 0, 0): 0,\n",
       "  (5, 5, 0): (0.000832587057951646+0.0010773170673753223j)},\n",
       " (5, 5, 0): {(0, 0, 0): (8.482332126973382e-05+0.000134004463130016j),\n",
       "  (5, 5, 0): 0}}"
      ]
     },
     "execution_count": 65,
     "metadata": {},
     "output_type": "execute_result"
    }
   ],
   "source": [
    "# def get_all_other_phi(body_potential_at_neighbors):\n",
    "all_other_phi_each_loc = {xyz:{loc_bodies.get(d):k.get(xyz,0) for d,k in body_potential_at_neighbors.items()} for xyz in xyzees }\n",
    "\n",
    "#phi_n normal velocity now\n",
    "all_other_velo_n_each_loc = {xyz:{loc_bodies.get(d):k.get(xyz,0) for d,k in body_velocity_at_neighbors.items()} for xyz in xyzees }\n",
    "\n",
    "all_other_phi_each_loc "
   ]
  },
  {
   "attachments": {},
   "cell_type": "markdown",
   "id": "09092ce1",
   "metadata": {},
   "source": [
    "### $\\phi_j^*$ get the total effect of each bodies"
   ]
  },
  {
   "attachments": {},
   "cell_type": "markdown",
   "id": "90d1200c",
   "metadata": {},
   "source": [
    "Like all the body had same exact potential at that location? I don't trust it."
   ]
  },
  {
   "cell_type": "code",
   "execution_count": 66,
   "id": "bb84ea89",
   "metadata": {},
   "outputs": [
    {
     "data": {
      "text/plain": [
       "{(0, 0, 0): {(0, 0, 0): 0, (5, 5, 0): 0.7853981633974483},\n",
       " (5, 5, 0): {(0, 0, 0): -2.356194490192345, (5, 5, 0): 0}}"
      ]
     },
     "execution_count": 66,
     "metadata": {},
     "output_type": "execute_result"
    }
   ],
   "source": [
    "#First fet the thetas\n",
    "\n",
    "thetas = {k:{s:theta_ij(k,s) for s,m in v.items()} for k,v in all_other_phi_each_loc.items()}\n",
    "thetas"
   ]
  },
  {
   "attachments": {},
   "cell_type": "markdown",
   "id": "27253271",
   "metadata": {},
   "source": []
  },
  {
   "cell_type": "code",
   "execution_count": null,
   "id": "f656ad61",
   "metadata": {},
   "outputs": [],
   "source": []
  },
  {
   "cell_type": "code",
   "execution_count": 67,
   "id": "e549c17e",
   "metadata": {},
   "outputs": [],
   "source": [
    "def phi_j_star(phi_ij,theta,X,Y,z,k):\n",
    "    \n",
    "    '''phi_ij is the vector of all the effect at that body from all other bodies'''\n",
    "   # print(f'body 1 is at {X} and body2 is at {Y}')\n",
    "    x,y = X[0],X[1]\n",
    "    #print(f\"the phi ij is {phi_ij}\")\n",
    "    xj,yj = Y[0],Y[1]\n",
    "    if x==xj and y==yj:\n",
    "        return 0\n",
    "    #multiplier = np.exp((1j*k*(xj-x)*np.cos(theta)) + ((yj-y)*np.sin(theta)))\n",
    "    #doing some stuff\n",
    "    #divider = np.exp((1j*k*(xj)*np.cos(theta)) + ((yj)*np.sin(theta)))\n",
    "    multiplier = np.exp(1j*k*((x-xj)*np.cos(theta) + (y-yj)*np.sin(theta)))\n",
    "  #  print(f'the multiplier for body at {X} and {Y} with angle {theta} is {multiplier}')\n",
    "    res = phi_ij * multiplier #kz = 0 #e^kz = 1\n",
    "    return res\n"
   ]
  },
  {
   "cell_type": "code",
   "execution_count": 68,
   "id": "46fc875a",
   "metadata": {},
   "outputs": [
    {
     "data": {
      "text/plain": [
       "{(0, 0, 0): {(0, 0, 0): 0,\n",
       "  (5, 5, 0): (0.0013365189288326584+0.0002598661686305971j)},\n",
       " (5, 5, 0): {(0, 0, 0): (0.00015216704073204982+4.469209868470038e-05j),\n",
       "  (5, 5, 0): 0}}"
      ]
     },
     "execution_count": 68,
     "metadata": {},
     "output_type": "execute_result"
    }
   ],
   "source": [
    "z = 0\n",
    "phi_starij = {xyz:{nbros:phi_j_star(all_other_phi_each_loc[xyz][nbros],thetas[xyz][nbros],xyz,nbros,z,wave_num) for nbros in neighbors} for xyz in xyzees}\n",
    "#for velocity now\n",
    "#phi_starij_velo = {xyz:{nbros:phi_j_star(all_other_velo_n_each_loc[xyz][nbros],thetas[xyz][nbros],xyz,nbros,z,wave_num) for nbros in neighbors} for xyz in xyzees}\n",
    "phi_starij "
   ]
  },
  {
   "attachments": {},
   "cell_type": "markdown",
   "id": "03269320",
   "metadata": {},
   "source": [
    "### Get the Total potential on the body surface - \n",
    "#### Make sure we add all N but not when i==j so the value should be 0 for same location "
   ]
  },
  {
   "cell_type": "code",
   "execution_count": 69,
   "id": "dad614bc",
   "metadata": {},
   "outputs": [
    {
     "name": "stdout",
     "output_type": "stream",
     "text": [
      "dict_items([((0, 0, 0), [0, (0.0013365189288326584+0.0002598661686305971j)]), ((5, 5, 0), [(0.00015216704073204982+4.469209868470038e-05j), 0])])\n"
     ]
    },
    {
     "data": {
      "text/plain": [
       "{(0, 0, 0): (0.0013365189288326584+0.0002598661686305971j),\n",
       " (5, 5, 0): (0.00015216704073204982+4.469209868470038e-05j)}"
      ]
     },
     "execution_count": 69,
     "metadata": {},
     "output_type": "execute_result"
    }
   ],
   "source": [
    "\n",
    "new_excitation = get_phistarj_sum(phi_starij,xyzees)\n",
    "#new_excitation_velo = get_phistarj_sum(phi_starij_velo,xyzees)\n",
    "\n",
    "new_excitation"
   ]
  },
  {
   "attachments": {},
   "cell_type": "markdown",
   "id": "19cc4376",
   "metadata": {},
   "source": [
    "Having computed this effect at each body in the array we then compute the contribution of all the bodies as isolated ( as in step 1) induced by new excitation"
   ]
  },
  {
   "attachments": {},
   "cell_type": "markdown",
   "id": "dfef575a",
   "metadata": {},
   "source": [
    "#### Get the all other potential at each location/body with new excitation\n",
    "If new excitation is the potential and we have this new excitation **at** each location, how do we go from getting the contribution of this $\\phi$ to other location?\n",
    "\n",
    "- New boundary condition !!!!! and solve the diffraction and radiation problems with new boundary condition. \n",
    " - but how does the new excitation give new boundary condition?\n",
    "\n",
    "- Write a function to get the influence matrices and store them in a dictionary \n",
    "\n",
    "- Calculate new `body_potential_at_neighbors` from earlier to loop it back in a while loop. The potential at other location this time is not going to be the airywave potential calculation but just the  calculation function `phi_j_star` but keep new potential at each neigbors in the format `body_potential_at_neighbors` \n",
    "\n"
   ]
  },
  {
   "attachments": {},
   "cell_type": "markdown",
   "id": "c71cd160",
   "metadata": {},
   "source": [
    "### Updated diffraction and radiation problems\n",
    "\n",
    "1) Normal velocity\n",
    "$\\frac{\\partial}{}$"
   ]
  },
  {
   "cell_type": "code",
   "execution_count": 70,
   "id": "849928e6",
   "metadata": {},
   "outputs": [],
   "source": [
    "# def get_influence_matrices(prob):\n",
    "#             S, K = self.engine.build_matrices(\n",
    "#             problem.body.mesh, problem.body.mesh,\n",
    "#             problem.free_surface, problem.water_depth, problem.wavenumber,\n",
    "#             self.green_function\n",
    "#         )\n",
    "        \n",
    "#         return S,K\n",
    "\n",
    "\n",
    "# diff_problems = {body:update_boundary_condition(cpt.DiffractionProblem(body=body, water_depth = np.infty,\n",
    "#                                       omega=omega, wave_direction=0.), new_excitation_velo[loc_bodies[body]]) for body in bodies}\n",
    " \n",
    "# # think about updating rad_problems too\n",
    "# rad_problems = {body: cpt.RadiationProblem(body=body, water_depth = np.infty,\n",
    "#                                       omega=omega) for body in bodies}"
   ]
  },
  {
   "attachments": {},
   "cell_type": "markdown",
   "id": "12ca9156",
   "metadata": {},
   "source": [
    "> Now we solve the updated diffraction problem and radiation problem - (back to step1)\n"
   ]
  },
  {
   "cell_type": "code",
   "execution_count": null,
   "id": "19e0d147",
   "metadata": {},
   "outputs": [],
   "source": []
  },
  {
   "attachments": {},
   "cell_type": "markdown",
   "id": "5a1d7a05",
   "metadata": {},
   "source": [
    "### Now we basically while loop the whole thing until the max-iteration"
   ]
  },
  {
   "cell_type": "code",
   "execution_count": 71,
   "id": "838ffde2",
   "metadata": {},
   "outputs": [
    {
     "name": "stdout",
     "output_type": "stream",
     "text": [
      "excitation updater: (1.0013373786579187+0.00026021371395588646j)\n",
      "excitation updater: (1.0001521776198798+4.469889985166593e-05j)\n",
      "dict_items([((0, 0, 0), [0, (-0.324707889671331+0.2101074488590497j)]), ((5, 5, 0), [(-0.07584145018220761-0.016136370808812188j), 0])])\n",
      "excitation updater: (0.706844347167015+0.1507379337591311j)\n",
      "excitation updater: (0.9268424848925411-0.014957172235237433j)\n",
      "dict_items([((0, 0, 0), [0, (-0.2785198657027925+0.3255041618552371j)]), ((5, 5, 0), [(-0.047720496054904096+0.13382832432049868j), 0])])\n",
      "excitation updater: (0.7171579569180041+0.24204744619366653j)\n",
      "excitation updater: (0.9448752551347084+0.12721143354704909j)\n",
      "dict_items([((0, 0, 0), [0, (-0.10428844535750204+0.15455706585593307j)]), ((5, 5, 0), [(0.0011906588699735765+0.13411125823831577j), 0])])\n",
      "excitation updater: (0.8902257058017318+0.13869682718090262j)\n",
      "excitation updater: (0.9922012260447283+0.13386889991453613j)\n",
      "dict_items([((0, 0, 0), [0, (-0.14747932330243568+0.08930973938438752j)]), ((5, 5, 0), [(-0.03527125222668258+0.04524971199210344j), 0])])\n"
     ]
    }
   ],
   "source": [
    "N_bodies = len(xyzees)\n",
    "max_iteration = 4 #(dead or alive lol)\n",
    "\n",
    "# body_potential_at_neighbors = {body:(dict(zip(body_neighbors_locs[body], \n",
    "#                                        airy_waves_potential(np.array(body_neighbors_locs[body]),diff_problems[body])))) for body in bodies}\n",
    "\n",
    "iterate = 1\n",
    "while iterate<=max_iteration:\n",
    "    #go back to step 1 and solve the diff and radiation problems again\n",
    "    #if it is slow it is running green's function again so we may need to cache it. now let's just go through with it\n",
    "    diff_problems = {body:update_boundary_condition(cpt.DiffractionProblem(body=body, water_depth = np.infty,\n",
    "                                      omega=omega, wave_direction=0.), new_excitation[loc_bodies[body]]) for body in bodies}\n",
    " \n",
    "    rad_problems = {body: cpt.RadiationProblem(body=body, water_depth = np.infty,\n",
    "                                      omega=omega) for body in bodies}\n",
    "    \n",
    "    diff_results = {body:solver.solve(problem) for body,problem in diff_problems.items()}\n",
    "    rad_results = {body:solver.solve(problem) for body,problem in rad_problems.items()}\n",
    "    body_potential_at_neighbors = {body:dict(zip(body_neighbors_locs[body], \n",
    "                                      solver.compute_potential(np.array(body_neighbors_locs[body]),diff_results[body]))) for body in bodies}\n",
    "   \n",
    "   \n",
    "   \n",
    "    all_other_phi_each_loc = {xyz:{loc_bodies.get(d):k.get(xyz,0) for d,k in body_potential_at_neighbors.items()} for xyz in xyzees}\n",
    "    \n",
    "    \n",
    "    \n",
    "    phi_starij = {xyz:{nbros:phi_j_star(all_other_phi_each_loc[xyz][nbros],thetas[xyz][nbros],nbros,xyz,z,wave_num) for nbros in neighbors} for xyz in xyzees}\n",
    "    \n",
    "   \n",
    "    new_excitation = get_phistarj_sum(phi_starij,xyzees)\n",
    " \n",
    "    iterate+=1\n",
    "    \n",
    "    \n"
   ]
  },
  {
   "cell_type": "code",
   "execution_count": null,
   "id": "367ad575",
   "metadata": {},
   "outputs": [],
   "source": []
  },
  {
   "cell_type": "code",
   "execution_count": null,
   "id": "e8dc324a",
   "metadata": {},
   "outputs": [],
   "source": []
  },
  {
   "cell_type": "code",
   "execution_count": 72,
   "id": "2399ab33",
   "metadata": {},
   "outputs": [
    {
     "data": {
      "text/plain": [
       "{FloatingBody(mesh=cylinder_24, dofs={Heave}, name=0_0_0): {'Heave': (-1320.302925590679+296.7728865604022j)},\n",
       " FloatingBody(mesh=cylinder_30, dofs={Heave}, name=5_5_0): {'Heave': (-1292.0251231658494-127.62743487018291j)}}"
      ]
     },
     "execution_count": 72,
     "metadata": {},
     "output_type": "execute_result"
    }
   ],
   "source": [
    "new_results = {loc_to_body.get(loc):solve_forces(diff_results[loc_to_body.get(loc)]) for loc,diff_prob in loc_diff.items()}\n",
    "new_results\n"
   ]
  },
  {
   "attachments": {},
   "cell_type": "markdown",
   "id": "c286326f",
   "metadata": {},
   "source": [
    "Actual result: Comparing that to the direct way..only run for less than 5 bodies"
   ]
  },
  {
   "cell_type": "code",
   "execution_count": 75,
   "id": "e5f6d0ad",
   "metadata": {},
   "outputs": [
    {
     "name": "stdout",
     "output_type": "stream",
     "text": [
      "Merged body name: cylinder_1+cylinder_2\n",
      "Merged body dofs: ['cylinder_1__Heave', 'cylinder_2__Heave']\n",
      "<xarray.DataArray 'diffraction_force' (omega: 1, wave_direction: 1,\n",
      "                                       influenced_dof: 2)>\n",
      "array([[[-1727.76524261 -538.23363363j, -1547.31331668-1272.36899862j]]])\n",
      "Coordinates:\n",
      "    g               float64 9.81\n",
      "    rho             float64 1e+03\n",
      "    body_name       <U21 'cylinder_1+cylinder_2'\n",
      "    water_depth     float64 inf\n",
      "  * omega           (omega) float64 1.0\n",
      "  * influenced_dof  (influenced_dof) object 'cylinder_1__Heave' 'cylinder_2__...\n",
      "  * wave_direction  (wave_direction) float64 0.0\n",
      "    period          (omega) float64 6.283\n",
      "    wavenumber      (omega) float64 0.1019\n",
      "    wavelength      (omega) float64 61.64\n",
      "Attributes:\n",
      "    long_name:  Diffraction force\n"
     ]
    }
   ],
   "source": [
    "\n",
    "\n",
    "import capytaine as cpt\n",
    "\n",
    "# Define the first body\n",
    "sphere = cpt.FloatingBody(\n",
    "        cpt.meshes.predefined.mesh_vertical_cylinder(radius=1, length=2, center=(0, 0, 0)),\n",
    "        name=\"cylinder_1\")\n",
    "\n",
    "sphere.add_translation_dof(name=\"Heave\")\n",
    "\n",
    "# Define the second body\n",
    "other_sphere  = cpt.FloatingBody(\n",
    "        cpt.meshes.predefined.mesh_vertical_cylinder(radius=1, length=2, center=(5, 5, 0)),\n",
    "        name=\"cylinder_2\")\n",
    "other_sphere.add_translation_dof(name=\"Heave\")\n",
    "\n",
    "\n",
    "\n",
    "# Combine the two individual bodies into a single body.\n",
    "all_bodies =  sphere + other_sphere\n",
    "all_bodies.keep_immersed_part()\n",
    "print(\"Merged body name:\", all_bodies.name)\n",
    "print(\"Merged body dofs:\", list(all_bodies.dofs.keys()))\n",
    "\n",
    "# The merged body can be used to define the problems in the usual way\n",
    "problems = [cpt.RadiationProblem(body=all_bodies, radiating_dof=dof, omega=1.0) for dof in all_bodies.dofs]\n",
    "problems += [cpt.DiffractionProblem(body=all_bodies, wave_direction=0.0, omega=1.0)]\n",
    "\n",
    "# Solves the problem\n",
    "solver = cpt.BEMSolver()\n",
    "results = solver.solve_all(problems)\n",
    "data = cpt.assemble_dataset(results)\n",
    "\n",
    "print(data['diffraction_force'])"
   ]
  }
 ],
 "metadata": {
  "kernelspec": {
   "display_name": "WEC_array",
   "language": "python",
   "name": "python3"
  },
  "language_info": {
   "codemirror_mode": {
    "name": "ipython",
    "version": 3
   },
   "file_extension": ".py",
   "mimetype": "text/x-python",
   "name": "python",
   "nbconvert_exporter": "python",
   "pygments_lexer": "ipython3",
   "version": "3.11.4"
  }
 },
 "nbformat": 4,
 "nbformat_minor": 5
}

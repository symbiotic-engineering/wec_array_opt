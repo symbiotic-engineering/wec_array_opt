{
 "cells": [
  {
   "attachments": {},
   "cell_type": "markdown",
   "id": "d079000f",
   "metadata": {},
   "source": [
    " # BEM coupling with plane wave approximation"
   ]
  },
  {
   "cell_type": "code",
   "execution_count": 139,
   "id": "e6919821",
   "metadata": {},
   "outputs": [],
   "source": [
    "import capytaine as cpt\n",
    "import numpy as np\n",
    "import matplotlib.pyplot as plt\n",
    "from capytaine.bem.airy_waves import airy_waves_potential, airy_waves_velocity, froude_krylov_force\n",
    "from capytaine.bem.solver import BEMSolver\n",
    "from capytaine.green_functions.delhommeau import Delhommeau\n",
    "from capytaine.bem.engines import BasicMatrixEngine\n",
    "from capytaine.bem.problems_and_results import RadiationProblem\n",
    "from capytaine.bodies.predefined.spheres import Sphere\n",
    "cpt.__version__ #get_potential_on_mesh if not version 2.0\n",
    "\n",
    "\n",
    "\n",
    "omega = 1.0\n",
    "rho = 1000# density of our special material\n",
    "wave_amp = 1\n",
    "wave_num =  1.0/9.81\n"
   ]
  },
  {
   "attachments": {},
   "cell_type": "markdown",
   "id": "583a1170",
   "metadata": {},
   "source": [
    "### Some functions that are required down the road for implementation"
   ]
  },
  {
   "cell_type": "code",
   "execution_count": 140,
   "id": "20283704",
   "metadata": {},
   "outputs": [],
   "source": [
    "#%%writefile pwa_utils.py\n",
    "def generate_body(xyz):\n",
    "    mesh1 = cpt.meshes.predefined.mesh_vertical_cylinder(radius=1, length=2, center=(xyz[0],xyz[1], 0))\n",
    "    body = cpt.FloatingBody(mesh1)\n",
    "    body.add_translation_dof(name='Heave')\n",
    "    body = body.immersed_part()\n",
    "    body.name = f'{xyz[0]}_{xyz[1]}_{xyz[2]}'\n",
    "    return body\n",
    "\n",
    "\n",
    "\n",
    "\n",
    "#calculate angle theta_ij from centre of one body to other\n",
    "def theta_ij(X,Y): \n",
    "    x1,y1= X[0],X[1]\n",
    "    x2,y2 = Y[0], Y[1]\n",
    "    \n",
    "    if x1 ==x2 and y1==y2:\n",
    "        return 0\n",
    "    if x2==x1:\n",
    "        theta = np.pi/2\n",
    "    else:\n",
    "        theta = np.arctan2((y2-y1),(x2-x1))\n",
    "    return theta\n",
    "\n",
    "\n",
    "#step 2\n",
    "def phi_j_star(phi_ij,theta,X,Y,z,k):\n",
    "    \n",
    "    '''phi_ij is the vector of all the effect at that body from all other bodies'''\n",
    "   # print(f'body 1 is at {X} and body2 is at {Y}')\n",
    "    x,y = X[0],X[1]\n",
    "    xj,yj = Y[0],Y[1]\n",
    "    if x==xj and y==yj:\n",
    "        return 0\n",
    "    #multiplier = np.exp((1j*k*(xj-x)*np.cos(theta)) + ((yj-y)*np.sin(theta)))\n",
    "    #doing some stuff\n",
    "    #divider = np.exp((1j*k*(xj)*np.cos(theta)) + ((yj)*np.sin(theta)))\n",
    "    multiplier = np.exp(1j*k*((x-xj)*np.cos(theta) + (y-yj))*np.sin(theta))\n",
    "  #  print(f'the multiplier for body at {X} and {Y} with angle {theta} is {multiplier}')\n",
    "    res = phi_ij * multiplier * np.exp(k*z)#kz = 0 #e^kz = 1\n",
    "    return res\n",
    "\n",
    "#{(10, 10, 0): {(10, 10, 0): 0,\n",
    "  #(0, 0, 0): (8.415476709952118-2.9519008598532284j),\n",
    "  #(5, 5, 0): (8.415476709952118-2.9519008598532284j),\n",
    "  #(15, 15, 0): (8.415476709952118-2.9519008598532284j)\n",
    "\n",
    "def get_phistarj_sum(phi_starj,xyzees):\n",
    "    xyz_phi = {xyz :[] for xyz in xyzees}\n",
    "    for k,v in phi_starj.items():\n",
    "        for s,m in v.items():\n",
    "          #  print(f\"thee value of m = {m}\")\n",
    "            xyz_phi[k].append(m)\n",
    "     #   print(\"next xyz\")\n",
    "    print(xyz_phi.items())\n",
    "    xyz_phi = {k:sum(v) for k,v in xyz_phi.items()}\n",
    "    #print(\"Afteer summation \")\n",
    "  \n",
    "    return xyz_phi\n",
    "\n",
    "\n",
    "\n",
    "def solve_forces(diff_result):\n",
    "    \n",
    "    \"\"\"\n",
    "    \"\"\"\n",
    "    return diff_result.forces\n",
    "\n"
   ]
  },
  {
   "attachments": {},
   "cell_type": "markdown",
   "id": "b15b09f8",
   "metadata": {},
   "source": [
    "The method is based upon an idea due to Simon 3\n",
    "originally devised in connection with the theory of arrays\n",
    "of wave-power devices. A diverging wave scattered from\n",
    "one cylinder is replaced by a plane wave of appropriate\n",
    "amplitude in the neighbourhood of another cylinder. Once\n",
    "the amplitude and phase of the equivalent plane wave have\n",
    "been determined, **the problem reduces to summing the\n",
    "effects of plane waves on any given cylinder**"
   ]
  },
  {
   "attachments": {},
   "cell_type": "markdown",
   "id": "43c39ca8",
   "metadata": {},
   "source": [
    "#### 1. Initialize the bodies and define diffraction and radiation problems and solve\n",
    "\n",
    "This step is performed in isolation and this is the first BEM run where we evaluate the green's function"
   ]
  },
  {
   "attachments": {},
   "cell_type": "markdown",
   "id": "c26cdadc",
   "metadata": {},
   "source": [
    "#### generating the arrays of the converter as discussed in the paper\n",
    "\n",
    "Square grid of cylinders with diameter and draft of 10m"
   ]
  },
  {
   "cell_type": "code",
   "execution_count": 141,
   "id": "942e9e67",
   "metadata": {},
   "outputs": [],
   "source": [
    "resolution = 2\n",
    "length = 10\n",
    "radius = 5\n",
    "\n",
    "\n"
   ]
  },
  {
   "cell_type": "code",
   "execution_count": 142,
   "id": "9365d0f2",
   "metadata": {},
   "outputs": [
    {
     "data": {
      "image/png": "[encoded data removed]",
      "text/plain": [
       "<Figure size 640x480 with 1 Axes>"
      ]
     },
     "metadata": {},
     "output_type": "display_data"
    }
   ],
   "source": [
    "x_coords,y_coords = np.arange(0,500,100),np.arange(0,500,100)\n",
    "X, Y = np.meshgrid(x_coords, y_coords)\n",
    "# Flatten the mesh grid coordinates\n",
    "x_flattened = X.flatten()\n",
    "y_flattened = Y.flatten()\n",
    "\n",
    "# Plot the scatter plot\n",
    "plt.scatter(x_flattened, y_flattened, color='blue')\n",
    "plt.xlabel('X')\n",
    "plt.ylabel('Y')\n",
    "plt.title('Scatter Plot of WEC Grid Points')\n",
    "plt.grid(True)\n",
    "plt.show()"
   ]
  },
  {
   "attachments": {},
   "cell_type": "markdown",
   "id": "2b269491",
   "metadata": {},
   "source": [
    "### Locations of the WECs and mapping out their neighbors"
   ]
  },
  {
   "cell_type": "code",
   "execution_count": 143,
   "id": "f4af552a",
   "metadata": {},
   "outputs": [],
   "source": [
    "from capytaine import assemble_dataset\n",
    "\n",
    "xyzees = {(0,0,0),(10,10,0),(20,20,0),(30,30,0)}\n",
    "#if using more bodies from above\n",
    "#xyzees = {(x,y,0) for x,y in zip(x_flattened,y_flattened)}\n",
    "#print(xyzees)\n",
    "    \n",
    "bodies = [generate_body(xyz) for xyz in xyzees ]\n",
    "\n",
    "#print(get_neighbors(xyzees))\n",
    "\n",
    "\n",
    "def get_neighbors(xyzees):\n",
    "    neighbor = {xyz:[] for xyz in xyzees}\n",
    "    for xyz in xyzees:\n",
    "        for zyx in xyzees:\n",
    "            if not xyz == zyx:\n",
    "                neighbor[xyz].append(zyx)\n",
    "    return neighbor\n",
    "\n",
    "neighbors = get_neighbors(xyzees)\n",
    "cache_engine = BasicMatrixEngine(matrix_cache_size=0)\n",
    "\n",
    "solver = cpt.BEMSolver(engine=cache_engine)\n",
    "# if using more bodies\n",
    "#neighbors = get_neighbors(xyzees)"
   ]
  },
  {
   "attachments": {},
   "cell_type": "markdown",
   "id": "0296dab8",
   "metadata": {},
   "source": [
    "#### Let's first solve usine BEM Direct way. (Joining the bodies) \n",
    "##### Considering an array as a single unit\n",
    "\n",
    "Note that all body (one body after joining) has same Heave forces. Is that what happens in \n",
    "PWA convergence as well? Like, all the bodies in different location have same heave forces."
   ]
  },
  {
   "cell_type": "code",
   "execution_count": 144,
   "id": "efe8057f",
   "metadata": {},
   "outputs": [
    {
     "name": "stdout",
     "output_type": "stream",
     "text": [
      "single force of one body :{'Heave': (-726.2625482431679-1674.2428365276799j)} and \n",
      " in array {'10_10_0__Heave': (-694.0466960986379-1684.8614951018967j), '0_0_0__Heave': (-1695.0970937208845-287.7175153598009j), '20_20_0__Heave': (1183.4290785193434-1294.6070242176934j), '30_30_0__Heave': (1889.4660524975109+391.3534912198079j)}\n"
     ]
    }
   ],
   "source": [
    "Jointbodies =cpt.FloatingBody.join_bodies(*bodies)\n",
    "singleBody = bodies[0]\n",
    "Jointbodies.name = \"joint\"\n",
    "#Jointbodies.show_matplotlib()\n",
    "diffProblem = cpt.DiffractionProblem(body=Jointbodies, water_depth = np.infty,\n",
    "                                      omega=omega, wave_direction=0.) \n",
    "\n",
    "SinglediffProblem = cpt.DiffractionProblem(body=singleBody, water_depth = np.infty,\n",
    "                                      omega=omega, wave_direction=0.)\n",
    "radProblem  = cpt.RadiationProblem(body= Jointbodies, water_depth = np.infty,\n",
    "                                      omega=omega) \n",
    " \n",
    "diff_results = solver.solve(diffProblem) \n",
    "single_diff_results = solver.solve(SinglediffProblem) \n",
    "rad_results = solver.solve(radProblem)\n",
    "forces_direct_way = diff_results.forces\n",
    "single_forces = single_diff_results.forces\n",
    "print(f\"single force of one body :{single_forces} and \\n in array {forces_direct_way}\")\n"
   ]
  },
  {
   "attachments": {},
   "cell_type": "markdown",
   "id": "f562ae08",
   "metadata": {},
   "source": [
    "### PWA Coupling with BEM method"
   ]
  },
  {
   "cell_type": "code",
   "execution_count": 145,
   "id": "2071aded",
   "metadata": {},
   "outputs": [],
   "source": [
    "\n",
    "loc_bodies = {body:xyz for xyz,body in zip(xyzees,bodies)}\n",
    "loc_to_body = {xyz:body for xyz,body in zip(xyzees,bodies)}\n",
    "#caching interaction matrices help make things go brrrrrrrr\n",
    "\n",
    "\n",
    "\n",
    "def get_results(problems):\n",
    "    results = [solver.solve(pb, keep_details = True) for pb in sorted(problems)]\n",
    "    return results\n",
    " \n",
    "diff_problems = {body:cpt.DiffractionProblem(body=body, water_depth = np.infty,\n",
    "                                      omega=omega, wave_direction=0.) for body in bodies}\n",
    "\n",
    "diff_loc= {generate_body(loc):loc for loc in xyzees }\n",
    "\n",
    "loc_diff = {loc_bodies.get(body):diff for body,diff in diff_problems.items() }\n",
    "\n",
    "rad_problems = {body: cpt.RadiationProblem(body=body, water_depth = np.infty,\n",
    "                                      omega=omega) for body in bodies}\n",
    "\n",
    "diff_results = {body:solver.solve(problem) for body,problem in diff_problems.items()}\n",
    "rad_results = {body:solver.solve(problem) for body,problem in rad_problems.items()}\n",
    "\n",
    "\n",
    "diff_results_first_iter = diff_results\n",
    "rad_results_first_iter = rad_results\n",
    "#added_mass = {body:assemble_dataset(result) for body, result in rad_results.items()}\n",
    "\n"
   ]
  },
  {
   "attachments": {},
   "cell_type": "markdown",
   "id": "ea2b61e9",
   "metadata": {},
   "source": [
    "### UPDATE"
   ]
  },
  {
   "cell_type": "code",
   "execution_count": 146,
   "id": "2678ffa4",
   "metadata": {},
   "outputs": [],
   "source": [
    "def update_boundary_condition(DiffProblem,new_boundary_excitation):\n",
    "    '''Take in the normal velocities not the potential at the other location'''\n",
    "    #normal_velocities = np.einsum('...k,...k->...', new_boundary_excitation, DiffProblem.body.mesh.faces_normals)\n",
    "    DiffProblem.boundary_condition  = DiffProblem.boundary_condition + new_boundary_excitation\n",
    "    print(f\"excitation updater: {np.exp(new_boundary_excitation)}\")\n",
    "    return DiffProblem"
   ]
  },
  {
   "attachments": {},
   "cell_type": "markdown",
   "id": "eee436e8",
   "metadata": {},
   "source": [
    "### 2. Get the Incident potentials, diffraction potentials, radiation potentials for each body at their own location and the location of other bodies\n",
    "\n",
    "\n",
    "STEPS\n",
    "\n",
    "1) Assume each body as isolated and solve the diffraction and radiation problem with $usual$ body condition\n",
    "2) Find the potential of the incident PLANE WAVE.$A_{ij}$ being the apmplitude of body $j$ at body $i$, this can be generated at any other location from capytaine. And according to simon(1982) we can approximate the impact of outgoing waves from a body on all other bodies by an incident plane wave of appropriately chosen amplitude $A_{ij}$.\n",
    "\n",
    "3) Find the total effect at each body j due to other body i\n",
    "4) The diffraction potential depends on the boundary condition from the incoming incident plane waves so that has to be updated for new iteration.\n",
    "5)  Having computed the effect at all the bodies in the array we compute the contribution of all the bodies as isolated (step 1) due to the excitation induced by new φ∗\n",
    "    1) New excitation means new boundary condition. CALCULATE NEW BOUNDARY CONDITION for each iteration until convergence. Is new boundary condition  = usual boundary condition + new $\\phi^*$?\n",
    "    2) For each body to calculate new diffraction and radiation problem ? Meaning either re-evaluate the influence matrices or store from last time (step 1) if the matrix do not change themselves.\n",
    "    3) Use the already stored influence matrices (green's function matrix and its normal derivative matrix)\n",
    "   \n",
    "\n"
   ]
  },
  {
   "attachments": {},
   "cell_type": "markdown",
   "id": "ae8c255b",
   "metadata": {},
   "source": [
    "#### find the location of neighbors to each floating body"
   ]
  },
  {
   "cell_type": "code",
   "execution_count": 147,
   "id": "17f6faac",
   "metadata": {},
   "outputs": [
    {
     "data": {
      "text/plain": [
       "{FloatingBody(mesh=cylinder_255, dofs={Heave}, name=10_10_0): [(0, 0, 0),\n",
       "  (20, 20, 0),\n",
       "  (30, 30, 0)],\n",
       " FloatingBody(mesh=cylinder_261, dofs={Heave}, name=0_0_0): [(10, 10, 0),\n",
       "  (20, 20, 0),\n",
       "  (30, 30, 0)],\n",
       " FloatingBody(mesh=cylinder_267, dofs={Heave}, name=20_20_0): [(10, 10, 0),\n",
       "  (0, 0, 0),\n",
       "  (30, 30, 0)],\n",
       " FloatingBody(mesh=cylinder_273, dofs={Heave}, name=30_30_0): [(10, 10, 0),\n",
       "  (0, 0, 0),\n",
       "  (20, 20, 0)]}"
      ]
     },
     "execution_count": 147,
     "metadata": {},
     "output_type": "execute_result"
    }
   ],
   "source": [
    "body_neighbors_locs = {body:neighbors.get(loc_bodies.get(body)) for body in bodies}\n",
    "body_neighbors_locs"
   ]
  },
  {
   "cell_type": "code",
   "execution_count": null,
   "id": "babac853",
   "metadata": {},
   "outputs": [],
   "source": []
  },
  {
   "attachments": {},
   "cell_type": "markdown",
   "id": "de1f8894",
   "metadata": {},
   "source": [
    "###  Get the potential of a body to other location - Find the potential of incident PLANE WAVE $A_{IJ}$\n",
    "\n",
    "> Capytaine version 1.5 has the function as `get_potential_on_mesh` while new v2.0 have `compute_potential`"
   ]
  },
  {
   "cell_type": "code",
   "execution_count": 148,
   "id": "93052bf9",
   "metadata": {},
   "outputs": [
    {
     "data": {
      "text/plain": [
       "{FloatingBody(mesh=cylinder_255, dofs={Heave}, name=10_10_0): {(0,\n",
       "   0,\n",
       "   0): (0.0013275677590386123-0.08173190532340102j),\n",
       "  (20, 20, 0): (-0.005655922236692609-0.056215094363437114j),\n",
       "  (30, 30, 0): (0.04168113077616632-0.004374797572444111j)},\n",
       " FloatingBody(mesh=cylinder_261, dofs={Heave}, name=0_0_0): {(10,\n",
       "   10,\n",
       "   0): (-0.05084589140855986-0.024633749562472274j),\n",
       "  (20, 20, 0): (0.018110574920392593-0.03779500750936014j),\n",
       "  (30, 30, 0): (0.0330047961979047+0.011612015542676777j)},\n",
       " FloatingBody(mesh=cylinder_267, dofs={Heave}, name=20_20_0): {(10,\n",
       "   10,\n",
       "   0): (0.07031288225050047-0.04168891187804554j),\n",
       "  (0, 0, 0): (0.03303839283415754+0.04847671613589236j),\n",
       "  (30, 30, 0): (0.04491956647622786-0.034268919420159444j)},\n",
       " FloatingBody(mesh=cylinder_273, dofs={Heave}, name=30_30_0): {(10,\n",
       "   10,\n",
       "   0): (-0.0239823968207173+0.05353850998223329j),\n",
       "  (0, 0, 0): (-0.04658512570777066-0.014171564094002937j),\n",
       "  (20, 20, 0): (0.07234688703490043+0.03804989777000268j)}}"
      ]
     },
     "execution_count": 148,
     "metadata": {},
     "output_type": "execute_result"
    }
   ],
   "source": [
    "body_potential_at_neighbors = {body:(dict(zip(body_neighbors_locs[body], \n",
    "                                     solver.compute_potential(np.array(body_neighbors_locs[body]),\n",
    "                                                              diff_results[body]))))\n",
    "                                       for body in bodies}\n",
    "\n",
    "\n",
    "body_velocity_at_neighbors = {body:(dict(zip(body_neighbors_locs[body], \n",
    "                                     solver.compute_velocity(np.array(body_neighbors_locs[body]),\n",
    "                                                              diff_results[body]))))\n",
    "                                       for body in bodies}\n",
    "\n",
    "body_potential_at_neighbors "
   ]
  },
  {
   "cell_type": "code",
   "execution_count": 149,
   "id": "836fc5cc",
   "metadata": {},
   "outputs": [
    {
     "data": {
      "text/plain": [
       "{FloatingBody(mesh=cylinder_255, dofs={Heave}, name=10_10_0): {(0,\n",
       "   0,\n",
       "   0): (0.0013275677590386123-0.08173190532340102j),\n",
       "  (20, 20, 0): (-0.005655922236692609-0.056215094363437114j),\n",
       "  (30, 30, 0): (0.04168113077616632-0.004374797572444111j)},\n",
       " FloatingBody(mesh=cylinder_261, dofs={Heave}, name=0_0_0): {(10,\n",
       "   10,\n",
       "   0): (-0.05084589140855986-0.024633749562472274j),\n",
       "  (20, 20, 0): (0.018110574920392593-0.03779500750936014j),\n",
       "  (30, 30, 0): (0.0330047961979047+0.011612015542676777j)},\n",
       " FloatingBody(mesh=cylinder_267, dofs={Heave}, name=20_20_0): {(10,\n",
       "   10,\n",
       "   0): (0.07031288225050047-0.04168891187804554j),\n",
       "  (0, 0, 0): (0.03303839283415754+0.04847671613589236j),\n",
       "  (30, 30, 0): (0.04491956647622786-0.034268919420159444j)},\n",
       " FloatingBody(mesh=cylinder_273, dofs={Heave}, name=30_30_0): {(10,\n",
       "   10,\n",
       "   0): (-0.0239823968207173+0.05353850998223329j),\n",
       "  (0, 0, 0): (-0.04658512570777066-0.014171564094002937j),\n",
       "  (20, 20, 0): (0.07234688703490043+0.03804989777000268j)}}"
      ]
     },
     "execution_count": 149,
     "metadata": {},
     "output_type": "execute_result"
    }
   ],
   "source": [
    "# body_potential_at_neighbors = {}\n",
    "\n",
    "# for body in bodies:\n",
    "#     neighbor_locs = body_neighbors_locs[body]\n",
    "#     potentials = solver.compute_velocity(np.array(neighbor_locs), diff_results[body])\n",
    "#     neighbor_potentials = dict(zip(neighbor_locs, potentials))\n",
    "#     print(neighbor_potentials)\n",
    "#     body_potential_at_neighbors[body] = neighbor_potentials\n",
    "body_potential_at_neighbors"
   ]
  },
  {
   "attachments": {},
   "cell_type": "markdown",
   "id": "d054351c",
   "metadata": {},
   "source": [
    "We need new updated diffraction problem as well because the $B_{ij}$ is also changing..\n",
    "\n",
    "$ \\phi^*_j = \\displaystyle\\sum_{i}^{N}A_{ij} \\frac{\\phi_0 (x_i,y_i,0;\\beta_{ij})}{\\phi_0 (x_j,y_j,0;\\beta_{ij})} $"
   ]
  },
  {
   "cell_type": "code",
   "execution_count": 150,
   "id": "c806690d",
   "metadata": {},
   "outputs": [
    {
     "data": {
      "text/plain": [
       "{FloatingBody(mesh=cylinder_255, dofs={Heave}, name=10_10_0): array([-0.37214408+0.10555305j]),\n",
       " FloatingBody(mesh=cylinder_261, dofs={Heave}, name=0_0_0): array([-0.10506024+0.3722835j]),\n",
       " FloatingBody(mesh=cylinder_267, dofs={Heave}, name=20_20_0): array([-0.28487559-0.26168409j]),\n",
       " FloatingBody(mesh=cylinder_273, dofs={Heave}, name=30_30_0): array([0.07364894-0.37974794j])}"
      ]
     },
     "execution_count": 150,
     "metadata": {},
     "output_type": "execute_result"
    }
   ],
   "source": [
    "\n",
    "\n",
    "\n",
    "body_potential_at_itself = {body:   solver.compute_potential(loc_bodies[body],\n",
    "                                                              diff_results[body])\n",
    "                                       for body in bodies}\n",
    "\n",
    "body_potential_at_itself"
   ]
  },
  {
   "attachments": {},
   "cell_type": "markdown",
   "id": "6ccd673e",
   "metadata": {},
   "source": [
    "### $\\phi_{ij}$ or  $𝐴_{ij}$ Get the all other potential at each location/body..\n",
    "\n",
    "\n",
    "This is just re-structuring earlier result so that we have results of all other WECs at each location"
   ]
  },
  {
   "cell_type": "code",
   "execution_count": 151,
   "id": "5053af60",
   "metadata": {},
   "outputs": [
    {
     "data": {
      "text/plain": [
       "{(10, 10, 0): {(10, 10, 0): 0,\n",
       "  (0, 0, 0): (-0.05084589140855986-0.024633749562472274j),\n",
       "  (20, 20, 0): (0.07031288225050047-0.04168891187804554j),\n",
       "  (30, 30, 0): (-0.0239823968207173+0.05353850998223329j)},\n",
       " (0, 0, 0): {(10, 10, 0): (0.0013275677590386123-0.08173190532340102j),\n",
       "  (0, 0, 0): 0,\n",
       "  (20, 20, 0): (0.03303839283415754+0.04847671613589236j),\n",
       "  (30, 30, 0): (-0.04658512570777066-0.014171564094002937j)},\n",
       " (20, 20, 0): {(10, 10, 0): (-0.005655922236692609-0.056215094363437114j),\n",
       "  (0, 0, 0): (0.018110574920392593-0.03779500750936014j),\n",
       "  (20, 20, 0): 0,\n",
       "  (30, 30, 0): (0.07234688703490043+0.03804989777000268j)},\n",
       " (30, 30, 0): {(10, 10, 0): (0.04168113077616632-0.004374797572444111j),\n",
       "  (0, 0, 0): (0.0330047961979047+0.011612015542676777j),\n",
       "  (20, 20, 0): (0.04491956647622786-0.034268919420159444j),\n",
       "  (30, 30, 0): 0}}"
      ]
     },
     "execution_count": 151,
     "metadata": {},
     "output_type": "execute_result"
    }
   ],
   "source": [
    "# def get_all_other_phi(body_potential_at_neighbors):\n",
    "all_other_phi_each_loc = {xyz:{loc_bodies.get(d):k.get(xyz,0) for d,k in body_potential_at_neighbors.items()} for xyz in xyzees }\n",
    "\n",
    "#phi_n normal velocity now\n",
    "all_other_velo_n_each_loc = {xyz:{loc_bodies.get(d):k.get(xyz,0) for d,k in body_velocity_at_neighbors.items()} for xyz in xyzees }\n",
    "\n",
    "all_other_phi_each_loc "
   ]
  },
  {
   "attachments": {},
   "cell_type": "markdown",
   "id": "09092ce1",
   "metadata": {},
   "source": [
    "### $\\phi_j^*$ get the total effect of each bodies"
   ]
  },
  {
   "attachments": {},
   "cell_type": "markdown",
   "id": "90d1200c",
   "metadata": {},
   "source": [
    "Like all the body had same exact potential at that location? I don't trust it."
   ]
  },
  {
   "cell_type": "code",
   "execution_count": 152,
   "id": "bb84ea89",
   "metadata": {},
   "outputs": [
    {
     "data": {
      "text/plain": [
       "{(10, 10, 0): {(10, 10, 0): 0,\n",
       "  (0, 0, 0): -2.356194490192345,\n",
       "  (20, 20, 0): 0.7853981633974483,\n",
       "  (30, 30, 0): 0.7853981633974483},\n",
       " (0, 0, 0): {(10, 10, 0): 0.7853981633974483,\n",
       "  (0, 0, 0): 0,\n",
       "  (20, 20, 0): 0.7853981633974483,\n",
       "  (30, 30, 0): 0.7853981633974483},\n",
       " (20, 20, 0): {(10, 10, 0): -2.356194490192345,\n",
       "  (0, 0, 0): -2.356194490192345,\n",
       "  (20, 20, 0): 0,\n",
       "  (30, 30, 0): 0.7853981633974483},\n",
       " (30, 30, 0): {(10, 10, 0): -2.356194490192345,\n",
       "  (0, 0, 0): -2.356194490192345,\n",
       "  (20, 20, 0): -2.356194490192345,\n",
       "  (30, 30, 0): 0}}"
      ]
     },
     "execution_count": 152,
     "metadata": {},
     "output_type": "execute_result"
    }
   ],
   "source": [
    "#First fet the thetas\n",
    "\n",
    "thetas = {k:{s:theta_ij(k,s) for s,m in v.items()} for k,v in all_other_phi_each_loc.items()}\n",
    "thetas"
   ]
  },
  {
   "attachments": {},
   "cell_type": "markdown",
   "id": "27253271",
   "metadata": {},
   "source": []
  },
  {
   "cell_type": "code",
   "execution_count": null,
   "id": "f656ad61",
   "metadata": {},
   "outputs": [],
   "source": []
  },
  {
   "cell_type": "code",
   "execution_count": 153,
   "id": "e549c17e",
   "metadata": {},
   "outputs": [],
   "source": [
    "def phi_j_star(phi_ij,theta,X,Y,z,k):\n",
    "    \n",
    "    '''phi_ij is the vector of all the effect at that body from all other bodies'''\n",
    "   # print(f'body 1 is at {X} and body2 is at {Y}')\n",
    "    x,y = X[0],X[1]\n",
    "    #print(f\"the phi ij is {phi_ij}\")\n",
    "    xj,yj = Y[0],Y[1]\n",
    "    if x==xj and y==yj:\n",
    "        return 0\n",
    "    #multiplier = np.exp((1j*k*(xj-x)*np.cos(theta)) + ((yj-y)*np.sin(theta)))\n",
    "    #doing some stuff\n",
    "    #divider = np.exp((1j*k*(xj)*np.cos(theta)) + ((yj)*np.sin(theta)))\n",
    "    multiplier = np.exp(1j*k*((x-xj)*np.cos(theta) + (y-yj)*np.sin(theta)))\n",
    "  #  print(f'the multiplier for body at {X} and {Y} with angle {theta} is {multiplier}')\n",
    "    res = phi_ij * multiplier #kz = 0 #e^kz = 1\n",
    "    return res\n"
   ]
  },
  {
   "cell_type": "code",
   "execution_count": 154,
   "id": "46fc875a",
   "metadata": {},
   "outputs": [
    {
     "data": {
      "text/plain": [
       "{(10, 10, 0): {(10, 10, 0): 0,\n",
       "  (0, 0, 0): (-0.03097909780897727+0.04724851097737879j),\n",
       "  (20, 20, 0): (-0.03228285416991504-0.07509783026554223j),\n",
       "  (30, 30, 0): (0.036866388633308676-0.04563328606973087j)},\n",
       " (0, 0, 0): {(10, 10, 0): (-0.08087973948535448-0.011846287381682825j),\n",
       "  (0, 0, 0): 0,\n",
       "  (20, 20, 0): (-0.01955492447267274-0.055309423584521865j),\n",
       "  (30, 30, 0): (0.030727092566093416-0.03777370710578927j)},\n",
       " (20, 20, 0): {(10, 10, 0): (-0.05647528393971398-0.0016335833515119299j),\n",
       "  (0, 0, 0): (-0.027166722289391793+0.0319127672982273j),\n",
       "  (20, 20, 0): 0,\n",
       "  (30, 30, 0): (0.04705348170676942-0.06684187791511408j)},\n",
       " (30, 30, 0): {(10, 10, 0): (-0.04141532870990852-0.0064207526373447465j),\n",
       "  (0, 0, 0): (-0.023224759049400835+0.02616803477767992j),\n",
       "  (20, 20, 0): (-0.028196200094013225-0.04896019394258977j),\n",
       "  (30, 30, 0): 0}}"
      ]
     },
     "execution_count": 154,
     "metadata": {},
     "output_type": "execute_result"
    }
   ],
   "source": [
    "z = 0\n",
    "phi_starij = {xyz:{nbros:phi_j_star(all_other_phi_each_loc[xyz][nbros],thetas[xyz][nbros],xyz,nbros,z,wave_num) for nbros in neighbors} for xyz in xyzees}\n",
    "#for velocity now\n",
    "#phi_starij_velo = {xyz:{nbros:phi_j_star(all_other_velo_n_each_loc[xyz][nbros],thetas[xyz][nbros],xyz,nbros,z,wave_num) for nbros in neighbors} for xyz in xyzees}\n",
    "phi_starij "
   ]
  },
  {
   "attachments": {},
   "cell_type": "markdown",
   "id": "03269320",
   "metadata": {},
   "source": [
    "### Get the Total potential on the body surface - \n",
    "#### Make sure we add all N but not when i==j so the value should be 0 for same location "
   ]
  },
  {
   "cell_type": "code",
   "execution_count": 155,
   "id": "dad614bc",
   "metadata": {},
   "outputs": [
    {
     "name": "stdout",
     "output_type": "stream",
     "text": [
      "dict_items([((10, 10, 0), [0, (-0.03097909780897727+0.04724851097737879j), (-0.03228285416991504-0.07509783026554223j), (0.036866388633308676-0.04563328606973087j)]), ((0, 0, 0), [(-0.08087973948535448-0.011846287381682825j), 0, (-0.01955492447267274-0.055309423584521865j), (0.030727092566093416-0.03777370710578927j)]), ((20, 20, 0), [(-0.05647528393971398-0.0016335833515119299j), (-0.027166722289391793+0.0319127672982273j), 0, (0.04705348170676942-0.06684187791511408j)]), ((30, 30, 0), [(-0.04141532870990852-0.0064207526373447465j), (-0.023224759049400835+0.02616803477767992j), (-0.028196200094013225-0.04896019394258977j), 0])])\n"
     ]
    },
    {
     "data": {
      "text/plain": [
       "{(10, 10, 0): (-0.026395563345583635-0.0734826053578943j),\n",
       " (0, 0, 0): (-0.0697075713919338-0.10492941807199396j),\n",
       " (20, 20, 0): (-0.03658852452233636-0.03656269396839871j),\n",
       " (30, 30, 0): (-0.09283628785332257-0.029212911802254597j)}"
      ]
     },
     "execution_count": 155,
     "metadata": {},
     "output_type": "execute_result"
    }
   ],
   "source": [
    "\n",
    "new_excitation = get_phistarj_sum(phi_starij,xyzees)\n",
    "#new_excitation_velo = get_phistarj_sum(phi_starij_velo,xyzees)\n",
    "\n",
    "new_excitation"
   ]
  },
  {
   "attachments": {},
   "cell_type": "markdown",
   "id": "19cc4376",
   "metadata": {},
   "source": [
    "Having computed this effect at each body in the array we then compute the contribution of all the bodies as isolated ( as in step 1) induced by new excitation"
   ]
  },
  {
   "attachments": {},
   "cell_type": "markdown",
   "id": "dfef575a",
   "metadata": {},
   "source": [
    "#### Get the all other potential at each location/body with new excitation\n",
    "If new excitation is the potential and we have this new excitation **at** each location, how do we go from getting the contribution of this $\\phi$ to other location?\n",
    "\n",
    "- New boundary condition !!!!! and solve the diffraction and radiation problems with new boundary condition. \n",
    " - but how does the new excitation give new boundary condition?\n",
    "\n",
    "- Write a function to get the influence matrices and store them in a dictionary \n",
    "\n",
    "- Calculate new `body_potential_at_neighbors` from earlier to loop it back in a while loop. The potential at other location this time is not going to be the airywave potential calculation but just the  calculation function `phi_j_star` but keep new potential at each neigbors in the format `body_potential_at_neighbors` \n",
    "\n"
   ]
  },
  {
   "attachments": {},
   "cell_type": "markdown",
   "id": "c71cd160",
   "metadata": {},
   "source": [
    "### Updated diffraction and radiation problems\n",
    "\n",
    "1) Normal velocity\n",
    "$\\frac{\\partial}{}$"
   ]
  },
  {
   "cell_type": "code",
   "execution_count": 156,
   "id": "849928e6",
   "metadata": {},
   "outputs": [],
   "source": [
    "# def get_influence_matrices(prob):\n",
    "#             S, K = self.engine.build_matrices(\n",
    "#             problem.body.mesh, problem.body.mesh,\n",
    "#             problem.free_surface, problem.water_depth, problem.wavenumber,\n",
    "#             self.green_function\n",
    "#         )\n",
    "        \n",
    "#         return S,K\n",
    "\n",
    "\n",
    "# diff_problems = {body:update_boundary_condition(cpt.DiffractionProblem(body=body, water_depth = np.infty,\n",
    "#                                       omega=omega, wave_direction=0.), new_excitation_velo[loc_bodies[body]]) for body in bodies}\n",
    " \n",
    "# # think about updating rad_problems too\n",
    "# rad_problems = {body: cpt.RadiationProblem(body=body, water_depth = np.infty,\n",
    "#                                       omega=omega) for body in bodies}"
   ]
  },
  {
   "attachments": {},
   "cell_type": "markdown",
   "id": "12ca9156",
   "metadata": {},
   "source": [
    "> Now we solve the updated diffraction problem and radiation problem - (back to step1)\n"
   ]
  },
  {
   "cell_type": "code",
   "execution_count": null,
   "id": "19e0d147",
   "metadata": {},
   "outputs": [],
   "source": []
  },
  {
   "attachments": {},
   "cell_type": "markdown",
   "id": "5a1d7a05",
   "metadata": {},
   "source": [
    "### Now we basically while loop the whole thing until the max-iteration"
   ]
  },
  {
   "cell_type": "code",
   "execution_count": 157,
   "id": "838ffde2",
   "metadata": {},
   "outputs": [
    {
     "name": "stdout",
     "output_type": "stream",
     "text": [
      "excitation updater: (0.971321422602415-0.07150397497053555j)\n",
      "excitation updater: (0.9275368131594232-0.09768467016215417j)\n",
      "excitation updater: (0.9634284168550071-0.03524124362317087j)\n",
      "excitation updater: (0.9109538463170255-0.02661918701930346j)\n",
      "dict_items([((10, 10, 0), [0, (0.011378584323064257-0.0869910666989944j), (0.04506859591287686+0.051443783276424154j), (0.025988267638760804-0.04827218642572109j)]), ((0, 0, 0), [(0.0822612856417235-0.030274682283425197j), 0, (-0.0389202332607648-0.029845763134514085j), (-0.01082375573659807+0.043939622619078814j)]), ((20, 20, 0), [(0.05605741931831112-0.033912561307218134j), (0.0009197958028360834+0.06425791858765897j), 0, (-0.04853195226199409+0.05973266260927379j)]), ((30, 30, 0), [(-0.03732367006802052+0.030076282906612906j), (-0.013439793460563346-0.0519765805417581j), (0.034438937391415875+0.027218029752454232j), 0])])\n",
      "excitation updater: (1.082116098973347-0.09091541243338071j)\n",
      "excitation updater: (1.0329165279657486-0.016714898089939048j)\n",
      "excitation updater: (1.004392357891025+0.09071917425018275j)\n",
      "excitation updater: (0.9837940866710964+0.005231602725169196j)\n",
      "dict_items([((10, 10, 0), [0, (0.027664615218065777-0.05425802390309645j), (0.043163289884595835+0.08769387361978008j), (0.012858401629806704-0.05819708878892375j)]), ((0, 0, 0), [(0.1104716199722422-0.021564511006791416j), 0, (-0.042031526281576054-0.05601555129125479j), (0.0018219056154914343+0.04940181703282875j)]), ((20, 20, 0), [(0.08426775364882991-0.0252023900305844j), (-0.014772115199529827+0.042849743285055336j), 0, (-0.033034366431649226+0.07627893910996106j)]), ((30, 30, 0), [(-0.05858146627627912+0.0273267693855841j), (0.0035689968192759314-0.03768685201828883j), (0.03253363136313482+0.06346812009581018j), 0])])\n",
      "excitation updater: (1.0869544641126647-0.026919841259787136j)\n",
      "excitation updater: (1.0723633380848074-0.030225317347542715j)\n",
      "excitation updater: (1.0325626238583039+0.0972709936510672j)\n",
      "excitation updater: (0.976393367465156+0.0519031416905738j)\n",
      "dict_items([((10, 10, 0), [0, (0.03832102630069174-0.05333489177119736j), (0.049750253432550295+0.09155925937928444j), (0.016110414023028333-0.06706753468094956j)]), ((0, 0, 0), [(0.1046581080839087-0.006707953787271731j), 0, (-0.04722118773320124-0.0579679453083824j), (0.0009392278776073452+0.05725947690241189j)]), ((20, 20, 0), [(0.07845424176049634-0.01034583281106469j), (-0.022510037204280728+0.043504642467731634j), 0, (-0.03952574759576247+0.08755766232605158j)]), ((30, 30, 0), [(-0.05625604464968791+0.015980283622777473j), (0.00973012741964578-0.039755739741330995j), (0.039120594911089275+0.06733350585531457j), 0])])\n",
      "excitation updater: (1.1093404748381197-0.03200576865016241j)\n",
      "excitation updater: (1.060084525854661-0.00786217855342587j)\n",
      "excitation updater: (1.0091561213410118+0.12241698428012697j)\n",
      "excitation updater: (0.9916805256732396+0.043223008843311414j)\n",
      "dict_items([((10, 10, 0), [0, (0.033203774653858716-0.04939048447528918j), (0.04197372129509612+0.09616087620951569j), (0.012813592008361182-0.06589610336186703j)]), ((0, 0, 0), [(0.11019222968678849-0.0056000779945360735j), 0, (-0.04222556445322087-0.06221997882006267j), (0.0033870464789508836+0.055652453527346046j)]), ((20, 20, 0), [(0.08398836336337626-0.009237957018329059j), (-0.019335837792483275+0.040051040207411945j), 0, (-0.03477649068387053+0.08673966921594918j)]), ((30, 30, 0), [(-0.06035210060703481+0.01587075670201132j), (0.007835150506654544-0.036317589561828664j), (0.03134406277363505+0.07193512268554574j), 0])])\n"
     ]
    }
   ],
   "source": [
    "N_bodies = len(xyzees)\n",
    "max_iteration = 4 #(dead or alive lol)\n",
    "\n",
    "# body_potential_at_neighbors = {body:(dict(zip(body_neighbors_locs[body], \n",
    "#                                        airy_waves_potential(np.array(body_neighbors_locs[body]),diff_problems[body])))) for body in bodies}\n",
    "\n",
    "iterate = 1\n",
    "while iterate<=max_iteration:\n",
    "    #go back to step 1 and solve the diff and radiation problems again\n",
    "    #if it is slow it is running green's function again so we may need to cache it. now let's just go through with it\n",
    "    diff_problems = {body:update_boundary_condition(cpt.DiffractionProblem(body=body, water_depth = np.infty,\n",
    "                                      omega=omega, wave_direction=0.), new_excitation[loc_bodies[body]]) for body in bodies}\n",
    " \n",
    "    rad_problems = {body: cpt.RadiationProblem(body=body, water_depth = np.infty,\n",
    "                                      omega=omega) for body in bodies}\n",
    "    \n",
    "    diff_results = {body:solver.solve(problem) for body,problem in diff_problems.items()}\n",
    "    rad_results = {body:solver.solve(problem) for body,problem in rad_problems.items()}\n",
    "    body_potential_at_neighbors = {body:dict(zip(body_neighbors_locs[body], \n",
    "                                      solver.compute_potential(np.array(body_neighbors_locs[body]),diff_results[body]))) for body in bodies}\n",
    "   \n",
    "   \n",
    "   \n",
    "    all_other_phi_each_loc = {xyz:{loc_bodies.get(d):k.get(xyz,0) for d,k in body_potential_at_neighbors.items()} for xyz in xyzees}\n",
    "    \n",
    "    \n",
    "    \n",
    "    phi_starij = {xyz:{nbros:phi_j_star(all_other_phi_each_loc[xyz][nbros],thetas[xyz][nbros],nbros,xyz,z,wave_num) for nbros in neighbors} for xyz in xyzees}\n",
    "    \n",
    "   \n",
    "    new_excitation = get_phistarj_sum(phi_starij,xyzees)\n",
    " \n",
    "    iterate+=1\n",
    "    \n",
    "    \n"
   ]
  },
  {
   "cell_type": "code",
   "execution_count": null,
   "id": "367ad575",
   "metadata": {},
   "outputs": [],
   "source": []
  },
  {
   "cell_type": "code",
   "execution_count": null,
   "id": "e8dc324a",
   "metadata": {},
   "outputs": [],
   "source": []
  },
  {
   "cell_type": "code",
   "execution_count": 158,
   "id": "2399ab33",
   "metadata": {},
   "outputs": [
    {
     "data": {
      "text/plain": [
       "{FloatingBody(mesh=cylinder_255, dofs={Heave}, name=10_10_0): {'Heave': (-731.438297722256-2102.1587579401594j)},\n",
       " FloatingBody(mesh=cylinder_261, dofs={Heave}, name=0_0_0): {'Heave': (-1775.9991011252714-489.4703892122504j)},\n",
       " FloatingBody(mesh=cylinder_267, dofs={Heave}, name=20_20_0): {'Heave': (1524.2470501221158-1436.672862272154j)},\n",
       " FloatingBody(mesh=cylinder_273, dofs={Heave}, name=30_30_0): {'Heave': (1981.0905448779392+179.31733593282598j)}}"
      ]
     },
     "execution_count": 158,
     "metadata": {},
     "output_type": "execute_result"
    }
   ],
   "source": [
    "new_results = {loc_to_body.get(loc):solve_forces(diff_results[loc_to_body.get(loc)]) for loc,diff_prob in loc_diff.items()}\n",
    "new_results\n"
   ]
  },
  {
   "attachments": {},
   "cell_type": "markdown",
   "id": "c286326f",
   "metadata": {},
   "source": [
    "Actual result: Comparing that to the direct way..only run for less than 5 bodies"
   ]
  },
  {
   "cell_type": "code",
   "execution_count": 159,
   "id": "e5f6d0ad",
   "metadata": {},
   "outputs": [
    {
     "name": "stdout",
     "output_type": "stream",
     "text": [
      "Merged body name: 10_10_0+0_0_0+20_20_0+30_30_0\n",
      "Merged body dofs: ['10_10_0__Heave', '0_0_0__Heave', '20_20_0__Heave', '30_30_0__Heave']\n",
      "<xarray.DataArray 'diffraction_force' (omega: 1, wave_direction: 1,\n",
      "                                       influenced_dof: 4)>\n",
      "array([[[ -694.0466961 -1684.8614951j , -1695.09709372 -287.71751536j,\n",
      "          1183.42907852-1294.60702422j,  1889.4660525  +391.35349122j]]])\n",
      "Coordinates:\n",
      "    g               float64 9.81\n",
      "    rho             float64 1e+03\n",
      "    body_name       <U29 '10_10_0+0_0_0+20_20_0+30_30_0'\n",
      "    water_depth     float64 inf\n",
      "  * omega           (omega) float64 1.0\n",
      "  * influenced_dof  (influenced_dof) object '10_10_0__Heave' ... '30_30_0__He...\n",
      "  * wave_direction  (wave_direction) float64 0.0\n",
      "    period          (omega) float64 6.283\n",
      "    wavenumber      (omega) float64 0.1019\n",
      "    wavelength      (omega) float64 61.64\n",
      "Attributes:\n",
      "    long_name:  Diffraction force\n"
     ]
    }
   ],
   "source": [
    "\n",
    "\n",
    "import capytaine as cpt\n",
    "\n",
    "# Define the first body\n",
    "sphere = cpt.FloatingBody(\n",
    "        cpt.meshes.predefined.mesh_vertical_cylinder(radius=1, length=2, center=(0, 0, 0)),\n",
    "        name=\"cylinder_1\")\n",
    "\n",
    "sphere.add_translation_dof(name=\"Heave\")\n",
    "\n",
    "# Define the second body\n",
    "other_sphere  = cpt.FloatingBody(\n",
    "        cpt.meshes.predefined.mesh_vertical_cylinder(radius=1, length=2, center=(10, 10, 0)),\n",
    "        name=\"cylinder_2\")\n",
    "other_sphere.add_translation_dof(name=\"Heave\")\n",
    "\n",
    "# Define the third body\n",
    "other_sphere  = cpt.FloatingBody(\n",
    "        cpt.meshes.predefined.mesh_vertical_cylinder(radius=1, length=2, center=(20, 20, 0)),\n",
    "        name=\"cylinder_2\")\n",
    "other_sphere.add_translation_dof(name=\"Heave\")\n",
    "\n",
    "# Combine the two individual bodies into a single body.\n",
    "all_bodies =  bodies[0].join_bodies(*bodies[1:])\n",
    "all_bodies.keep_immersed_part()\n",
    "print(\"Merged body name:\", all_bodies.name)\n",
    "print(\"Merged body dofs:\", list(all_bodies.dofs.keys()))\n",
    "\n",
    "# The merged body can be used to define the problems in the usual way\n",
    "problems = [cpt.RadiationProblem(body=all_bodies, radiating_dof=dof, omega=1.0) for dof in all_bodies.dofs]\n",
    "problems += [cpt.DiffractionProblem(body=all_bodies, wave_direction=0.0, omega=1.0)]\n",
    "\n",
    "# Solves the problem\n",
    "solver = cpt.BEMSolver()\n",
    "results = solver.solve_all(problems)\n",
    "data = cpt.assemble_dataset(results)\n",
    "\n",
    "print(data['diffraction_force'])"
   ]
  }
 ],
 "metadata": {
  "kernelspec": {
   "display_name": "WEC_array",
   "language": "python",
   "name": "python3"
  },
  "language_info": {
   "codemirror_mode": {
    "name": "ipython",
    "version": 3
   },
   "file_extension": ".py",
   "mimetype": "text/x-python",
   "name": "python",
   "nbconvert_exporter": "python",
   "pygments_lexer": "ipython3",
   "version": "3.11.4"
  }
 },
 "nbformat": 4,
 "nbformat_minor": 5
}

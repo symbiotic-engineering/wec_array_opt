{
 "cells": [
  {
   "cell_type": "markdown",
   "id": "a574ea04",
   "metadata": {},
   "source": [
    " # BEM coupling with plane wave approximation"
   ]
  },
  {
   "cell_type": "code",
   "execution_count": 18,
   "id": "e6919821",
   "metadata": {},
   "outputs": [],
   "source": [
    "import capytaine as cpt\n",
    "import numpy as np\n",
    "import matplotlib.pyplot as plt\n",
    "from capytaine.bem.airy_waves import airy_waves_potential, airy_waves_velocity, froude_krylov_force\n",
    "from capytaine.bem.solver import BEMSolver\n",
    "from capytaine.green_functions.delhommeau import Delhommeau\n",
    "from capytaine.bem.engines import BasicMatrixEngine\n",
    "from capytaine.bem.problems_and_results import RadiationProblem\n",
    "from capytaine.bodies.predefined.spheres import Sphere\n",
    "cpt.__version__ #get_potential_on_mesh if not version 2.0\n",
    "\n",
    "\n",
    "p = 0\n",
    "omega = 1.1\n",
    "rho = 850 # density of our special material\n",
    "wave_amp = 1\n",
    "wave_num =  1.0/9.81\n"
   ]
  },
  {
   "cell_type": "markdown",
   "id": "5723b85c",
   "metadata": {},
   "source": [
    "### Some functions that are required down the road for implementation"
   ]
  },
  {
   "cell_type": "code",
   "execution_count": 19,
   "id": "20283704",
   "metadata": {},
   "outputs": [],
   "source": [
    "#%%writefile pwa_utils.py\n",
    "def generate_body(xyz):\n",
    "    mesh1 = cpt.meshes.predefined.mesh_sphere(radius=2,center=(xyz[0],xyz[1],xyz[2]))\n",
    "    body = cpt.FloatingBody(mesh1)\n",
    "    body.add_translation_dof(name='Heave')\n",
    "    body = body.immersed_part()\n",
    "    body.name = f'{xyz[0]}_{xyz[1]}_{xyz[2]}'\n",
    "    return body\n",
    "\n",
    "\n",
    "def get_results(problems):\n",
    "    results = [solver.solve(pb, keep_details = True) for pb in sorted(problems)]\n",
    "    return results\n",
    "\n",
    "\n",
    "#calculate angle theta_ij from centre of one body to other\n",
    "def theta_ij(X,Y): \n",
    "    x1,y1= X[0],X[1]\n",
    "    x2,y2 = Y[0], Y[1]\n",
    "    \n",
    "    if x1 ==x2 and y1==y2:\n",
    "        return 0\n",
    "    if x2==x1:\n",
    "        theta = np.pi/2\n",
    "    else:\n",
    "        theta = np.arctan((y2-y1)/(x2-x1))\n",
    "    return theta\n",
    "\n",
    "\n",
    "#step 2\n",
    "def phi_j_star(phi_ij,theta,X,Y,z,k):\n",
    "    \n",
    "    '''phi_ij is the vector of all the effect at that body from all other bodies'''\n",
    "    x,y = X[0],X[1]\n",
    "    xj,yj = Y[0],Y[1]\n",
    "    if x==xj and y==yj:\n",
    "        return 0\n",
    "    multiplier = np.exp((1j*k*(-1*np.abs(x-xj))*np.cos(theta)) + ((-1*np.abs(y-yj))*np.sin(theta)))\n",
    "   # print(f'the multiplier for {X}{Y} and {theta} is {multiplier}')\n",
    "    res = phi_ij * multiplier #kz = 0 #e^kz = 1\n",
    "    return res\n",
    "\n",
    "#{(10, 10, 0): {(10, 10, 0): 0,\n",
    "  #(0, 0, 0): (8.415476709952118-2.9519008598532284j),\n",
    "  #(5, 5, 0): (8.415476709952118-2.9519008598532284j),\n",
    "  #(15, 15, 0): (8.415476709952118-2.9519008598532284j)\n",
    "\n",
    "def get_phistarj_sum(phi_starj,xyzees):\n",
    "    xyz_phi = {xyz :[] for xyz in xyzees}\n",
    "    for k,v in phi_starj.items():\n",
    "        for s,m in v.items():\n",
    "          #  print(f\"thee value of m = {m}\")\n",
    "            xyz_phi[k].append(m)\n",
    "     #   print(\"next xyz\")\n",
    "    print(xyz_phi.items())\n",
    "    xyz_phi = {k:sum(v) for k,v in xyz_phi.items()}\n",
    "    #print(\"Afteer summation \")\n",
    "   # print(xyz_phi.items())\n",
    "    return xyz_phi\n"
   ]
  },
  {
   "cell_type": "markdown",
   "id": "b15b09f8",
   "metadata": {},
   "source": [
    "The method is based upon an idea due to Simon 3\n",
    "originally devised in connection with the theory of arrays\n",
    "of wave-power devices. A diverging wave scattered from\n",
    "one cylinder is replaced by a plane wave of appropriate\n",
    "amplitude in the neighbourhood of another cylinder. Once\n",
    "the amplitude and phase of the equivalent plane wave have\n",
    "been determined, **the problem reduces to summing the\n",
    "effects of plane waves on any given cylinder**"
   ]
  },
  {
   "cell_type": "markdown",
   "id": "43c39ca8",
   "metadata": {},
   "source": [
    "#### 1. Initialize the bodies and define diffraction and radiation problems and solve\n",
    "\n",
    "This step is performed in isolation and this is the first BEM run where we evaluate the green's function"
   ]
  },
  {
   "cell_type": "code",
   "execution_count": 20,
   "id": "2071aded",
   "metadata": {},
   "outputs": [
    {
     "name": "stdout",
     "output_type": "stream",
     "text": [
      "{(15000000, 15000000, 0): [(0, 0, 0)], (0, 0, 0): [(15000000, 15000000, 0)]}\n"
     ]
    }
   ],
   "source": [
    "from capytaine import assemble_dataset\n",
    "#xyzees = {(0,0,0),(5,5,0),(10,10,0),(15,15,0)}\n",
    "xyzees = {(0,0,0),(15000000,15000000,0)}\n",
    "    \n",
    "bodies = [generate_body(xyz) for xyz in xyzees ]\n",
    "\n",
    "#neighbors = {(0,0,0):[(5,5,0),(10,10,0),(15,15,0)],  #so bad..need to write a funky func for it\n",
    " #           (10,10,0):[(0,0,0),(5,5,0),(15,15,0)],\n",
    "  #           (5,5,0):[(0,0,0),(10,10,0),(15,15,0)],\n",
    "   #          (15,15,0):[(0,0,0),(10,10,0),(5,5,0)]     \n",
    "    #        }\n",
    "\n",
    "\n",
    "neighbors = {(15000000,15000000,0):(0,0,0),(0,0,0):(15000000,15000000,0)}\n",
    "\n",
    "def get_neighbors(xyzees):\n",
    "    neighbor = {xyz:[] for xyz in xyzees}\n",
    "    for xyz in xyzees:\n",
    "        for zyx in xyzees:\n",
    "            if not xyz == zyx:\n",
    "                neighbor[xyz].append(zyx)\n",
    "    return neighbor\n",
    "\n",
    "\n",
    "print(get_neighbors(xyzees))\n",
    "\n",
    "\n",
    "loc_bodies = {body:xyz for xyz,body in zip(xyzees,bodies)}\n",
    "loc_to_body = {xyz:body for xyz,body in zip(xyzees,bodies)}\n",
    "#caching interaction matrices help make things go brrrrrrrr\n",
    "\n",
    "cache_engine = BasicMatrixEngine(matrix_cache_size=1)\n",
    "\n",
    "solver = cpt.BEMSolver(engine=cache_engine)\n",
    "\n",
    "\n",
    "diff_problems = {body:cpt.DiffractionProblem(body=body, water_depth = np.infty,\n",
    "                                      omega=omega, wave_direction=0.) for body in bodies}\n",
    "\n",
    "diff_loc= {generate_body(loc):loc for loc in xyzees }\n",
    "\n",
    "loc_diff = {loc_bodies.get(body):diff for body,diff in diff_problems.items() }\n",
    "\n",
    "rad_problems = {body: cpt.RadiationProblem(body=body, water_depth = np.infty,\n",
    "                                      omega=omega) for body in bodies}\n",
    "\n",
    "diff_results = {body:solver.solve(problem) for body,problem in diff_problems.items()}\n",
    "rad_results = {body:solver.solve(problem) for body,problem in rad_problems.items()}\n",
    "\n",
    "\n",
    "diff_results_first_iter = diff_results\n",
    "rad_results_first_iter = rad_results\n",
    "#added_mass = {body:assemble_dataset(result) for body, result in rad_results.items()}\n",
    "\n"
   ]
  },
  {
   "cell_type": "code",
   "execution_count": null,
   "id": "c758d7a0",
   "metadata": {},
   "outputs": [],
   "source": []
  },
  {
   "cell_type": "code",
   "execution_count": 21,
   "id": "28324a4e",
   "metadata": {},
   "outputs": [],
   "source": [
    "#diff problem round 2 \n",
    "def update_boundary_condition(DiffProblem,new_boundary_excitation):\n",
    "    DiffProblem.boundary_condition +=new_boundary_excitation\n",
    "    return DiffProblem\n",
    "# {body:update_boundary_condition(cpt.DiffractionProblem(body=body, water_depth = np.infty,\n",
    "#                                       omega=omega, wave_direction=0.), 0.2) for body in bodies}\n"
   ]
  },
  {
   "cell_type": "markdown",
   "id": "eee436e8",
   "metadata": {},
   "source": [
    "### 2. Get the Incident potentials, diffraction potentials, radiation potentials for each body at their own location and the location of other bodies\n",
    "\n",
    "\n",
    "STEPS\n",
    "\n",
    "1) Assume each body as isolated and solve the diffraction and radiation problem with $usual$ body condition\n",
    "2) Find the potential of the incident PLANE WAVE.$A_{ij}$ being the apmplitude of body $j$ at body $i$, this can be generated at any other location from capytaine. And according to simon(1982) we can approximate the impact of outgoing waves from a body on all other bodies by an incident plane wave of appropriately chosen amplitude $A_{ij}$.\n",
    "\n",
    "3) Find the total effect at each body j due to other body i\n",
    "4) The diffraction potential depends on the boundary condition from the incoming incident plane waves so that has to be updated for new iteration.\n",
    "5)  Having computed the effect at all the bodies in the array we compute the contribution of all the bodies as isolated (step 1) due to the excitation induced by new φ∗\n",
    "    1) New excitation means new boundary condition. CALCULATE NEW BOUNDARY CONDITION for each iteration until convergence. Is new boundary condition  = usual boundary condition + new $\\phi^*$?\n",
    "    2) For each body to calculate new diffraction and radiation problem ? Meaning either re-evaluate the influence matrices or store from last time (step 1) if the matrix do not change themselves.\n",
    "    3) Use the already stored influence matrices (green's function matrix and its normal derivative matrix)\n",
    "   \n",
    "\n"
   ]
  },
  {
   "cell_type": "markdown",
   "id": "ae8c255b",
   "metadata": {},
   "source": [
    "#### find the location of neighbors to each floating body"
   ]
  },
  {
   "cell_type": "code",
   "execution_count": 22,
   "id": "17f6faac",
   "metadata": {},
   "outputs": [
    {
     "data": {
      "text/plain": [
       "{FloatingBody(mesh=sphere_24, dofs={Heave}, name=15000000_15000000_0): (0,\n",
       "  0,\n",
       "  0),\n",
       " FloatingBody(mesh=sphere_30, dofs={Heave}, name=0_0_0): (15000000,\n",
       "  15000000,\n",
       "  0)}"
      ]
     },
     "execution_count": 22,
     "metadata": {},
     "output_type": "execute_result"
    }
   ],
   "source": [
    "body_neighbors_locs = {body:neighbors.get(loc_bodies.get(body)) for body in bodies}\n",
    "body_neighbors_locs"
   ]
  },
  {
   "cell_type": "code",
   "execution_count": null,
   "id": "babac853",
   "metadata": {},
   "outputs": [],
   "source": []
  },
  {
   "cell_type": "markdown",
   "id": "de1f8894",
   "metadata": {},
   "source": [
    "###  Get the potential of a body to other location - Find the potential of incident PLANE WAVE $A_{IJ}$\n",
    "\n",
    "> Capytaine version 1.5 has the function as `get_potential_on_mesh` while new v2.0 have `compute_potential`"
   ]
  },
  {
   "cell_type": "code",
   "execution_count": 23,
   "id": "04fe5850",
   "metadata": {},
   "outputs": [
    {
     "data": {
      "text/plain": [
       "{FloatingBody(mesh=sphere_24, dofs={Heave}, name=15000000_15000000_0): {0: (0.0003390139419528805+0.0001298202123125508j)},\n",
       " FloatingBody(mesh=sphere_30, dofs={Heave}, name=0_0_0): {15000000: (0.00022358294664560224+0.00011046447632589434j)}}"
      ]
     },
     "execution_count": 23,
     "metadata": {},
     "output_type": "execute_result"
    }
   ],
   "source": [
    "body_potential_at_neighbors = {body:dict(zip(body_neighbors_locs[body], \n",
    "                                      solver.compute_potential(np.array(body_neighbors_locs[body]),diff_results[body]))) for body in bodies}\n",
    "body_potential_at_neighbors"
   ]
  },
  {
   "cell_type": "markdown",
   "id": "6ccd673e",
   "metadata": {},
   "source": [
    "### $\\phi_{ij}$ or  $𝐴_{ij}$ Get the all other potential at each location/body..\n",
    "\n",
    "\n",
    "This is just re-structuring earlier result so that we have results of all other WECs at each location"
   ]
  },
  {
   "cell_type": "code",
   "execution_count": 24,
   "id": "5053af60",
   "metadata": {},
   "outputs": [
    {
     "data": {
      "text/plain": [
       "{(15000000, 15000000, 0): {(15000000, 15000000, 0): 0, (0, 0, 0): 0},\n",
       " (0, 0, 0): {(15000000, 15000000, 0): 0, (0, 0, 0): 0}}"
      ]
     },
     "execution_count": 24,
     "metadata": {},
     "output_type": "execute_result"
    }
   ],
   "source": [
    "# def get_all_other_phi(body_potential_at_neighbors):\n",
    "all_other_phi_each_loc = {xyz:{loc_bodies.get(d):k.get(xyz,0) for d,k in body_potential_at_neighbors.items()} for xyz in xyzees}\n",
    "all_other_phi_each_loc"
   ]
  },
  {
   "cell_type": "markdown",
   "id": "09092ce1",
   "metadata": {},
   "source": [
    "### $\\phi_j^*$ get the total effect of each bodies"
   ]
  },
  {
   "cell_type": "code",
   "execution_count": 25,
   "id": "bb84ea89",
   "metadata": {},
   "outputs": [
    {
     "data": {
      "text/plain": [
       "{(15000000, 15000000, 0): {(15000000, 15000000, 0): 0,\n",
       "  (0, 0, 0): 0.7853981633974483},\n",
       " (0, 0, 0): {(15000000, 15000000, 0): 0.7853981633974483, (0, 0, 0): 0}}"
      ]
     },
     "execution_count": 25,
     "metadata": {},
     "output_type": "execute_result"
    }
   ],
   "source": [
    "#First fet the thetas\n",
    "\n",
    "thetas = {k:{s:theta_ij(k,s) for s,m in v.items()} for k,v in all_other_phi_each_loc.items()}\n",
    "thetas"
   ]
  },
  {
   "cell_type": "markdown",
   "id": "27253271",
   "metadata": {},
   "source": []
  },
  {
   "cell_type": "code",
   "execution_count": 26,
   "id": "46fc875a",
   "metadata": {},
   "outputs": [
    {
     "data": {
      "text/plain": [
       "{(15000000, 15000000, 0): {(15000000, 15000000, 0): 0, (0, 0, 0): 0j},\n",
       " (0, 0, 0): {(15000000, 15000000, 0): 0j, (0, 0, 0): 0}}"
      ]
     },
     "execution_count": 26,
     "metadata": {},
     "output_type": "execute_result"
    }
   ],
   "source": [
    "z = 0\n",
    "phi_starj = {xyz:{nbros:phi_j_star(all_other_phi_each_loc[xyz][nbros],thetas[xyz][nbros],nbros,xyz,z,wave_num) for nbros in neighbors} for xyz in xyzees}\n",
    "phi_starj"
   ]
  },
  {
   "cell_type": "markdown",
   "id": "03269320",
   "metadata": {},
   "source": [
    "### Get the Total potential on the body surface - \n",
    "#### Make sure we add all N but not when i==j so the value should be 0 for same location "
   ]
  },
  {
   "cell_type": "code",
   "execution_count": 27,
   "id": "dad614bc",
   "metadata": {},
   "outputs": [
    {
     "name": "stdout",
     "output_type": "stream",
     "text": [
      "dict_items([((15000000, 15000000, 0), [0, 0j]), ((0, 0, 0), [0j, 0])])\n"
     ]
    },
    {
     "data": {
      "text/plain": [
       "{(15000000, 15000000, 0): 0j, (0, 0, 0): 0j}"
      ]
     },
     "execution_count": 27,
     "metadata": {},
     "output_type": "execute_result"
    }
   ],
   "source": [
    "\n",
    "new_excitation = get_phistarj_sum(phi_starj,xyzees)\n",
    "new_excitation     "
   ]
  },
  {
   "cell_type": "markdown",
   "id": "19cc4376",
   "metadata": {},
   "source": [
    "Having computed this effect at each body in the array we then compute the contribution of all the bodies as isolated ( as in step 1) induced by new excitation"
   ]
  },
  {
   "cell_type": "markdown",
   "id": "dfef575a",
   "metadata": {},
   "source": [
    "#### Get the all other potential at each location/body with new excitation\n",
    "If new excitation is the potential and we have this new excitation **at** each location, how do we go from getting the contribution of this $\\phi$ to other location?\n",
    "\n",
    "- New boundary condition !!!!! and solve the diffraction and radiation problems with new boundary condition. \n",
    " - but how does the new excitation give new boundary condition?\n",
    "\n",
    "- Write a function to get the influence matrices and store them in a dictionary \n",
    "\n",
    "- Calculate new `body_potential_at_neighbors` from earlier to loop it back in a while loop. The potential at other location this time is not going to be the airywave potential calculation but just the  calculation function `phi_j_star` but keep new potential at each neigbors in the format `body_potential_at_neighbors` \n",
    "\n"
   ]
  },
  {
   "cell_type": "code",
   "execution_count": 28,
   "id": "c801bc44",
   "metadata": {},
   "outputs": [],
   "source": [
    "def update_boundary_condition(DiffProblem,new_boundary_excitation):\n",
    "    DiffProblem.boundary_condition +=new_boundary_excitation\n",
    "    return DiffProblem"
   ]
  },
  {
   "cell_type": "markdown",
   "id": "13426c5c",
   "metadata": {},
   "source": [
    "### Updated diffraction and radiation problems"
   ]
  },
  {
   "cell_type": "code",
   "execution_count": 29,
   "id": "8c0e04eb",
   "metadata": {},
   "outputs": [],
   "source": [
    "# def get_influence_matrices(prob):\n",
    "#             S, K = self.engine.build_matrices(\n",
    "#             problem.body.mesh, problem.body.mesh,\n",
    "#             problem.free_surface, problem.water_depth, problem.wavenumber,\n",
    "#             self.green_function\n",
    "#         )\n",
    "        \n",
    "#         return S,K\n",
    "\n",
    "\n",
    "diff_problems = {body:update_boundary_condition(cpt.DiffractionProblem(body=body, water_depth = np.infty,\n",
    "                                      omega=omega, wave_direction=0.), new_excitation[loc_bodies[body]]) for body in bodies}\n",
    " \n",
    "# think about updating rad_problems too\n",
    "rad_problems = {body: cpt.RadiationProblem(body=body, water_depth = np.infty,\n",
    "                                      omega=omega) for body in bodies}"
   ]
  },
  {
   "cell_type": "markdown",
   "id": "3600551c",
   "metadata": {},
   "source": [
    "> Now we solve the updated diffraction problem and radiation problem - (back to step1)\n"
   ]
  },
  {
   "cell_type": "code",
   "execution_count": null,
   "id": "4dce8921",
   "metadata": {},
   "outputs": [],
   "source": []
  },
  {
   "cell_type": "markdown",
   "id": "5a1d7a05",
   "metadata": {},
   "source": [
    "### Now we basically while loop the whole thing until the max-iteration"
   ]
  },
  {
   "cell_type": "code",
   "execution_count": 30,
   "id": "838ffde2",
   "metadata": {},
   "outputs": [
    {
     "name": "stdout",
     "output_type": "stream",
     "text": [
      "dict_items([((15000000, 15000000, 0), [0, 0j]), ((0, 0, 0), [0j, 0])])\n",
      "dict_items([((15000000, 15000000, 0), [0, 0j]), ((0, 0, 0), [0j, 0])])\n",
      "dict_items([((15000000, 15000000, 0), [0, 0j]), ((0, 0, 0), [0j, 0])])\n",
      "dict_items([((15000000, 15000000, 0), [0, 0j]), ((0, 0, 0), [0j, 0])])\n",
      "dict_items([((15000000, 15000000, 0), [0, 0j]), ((0, 0, 0), [0j, 0])])\n",
      "dict_items([((15000000, 15000000, 0), [0, 0j]), ((0, 0, 0), [0j, 0])])\n",
      "dict_items([((15000000, 15000000, 0), [0, 0j]), ((0, 0, 0), [0j, 0])])\n",
      "dict_items([((15000000, 15000000, 0), [0, 0j]), ((0, 0, 0), [0j, 0])])\n",
      "dict_items([((15000000, 15000000, 0), [0, 0j]), ((0, 0, 0), [0j, 0])])\n"
     ]
    }
   ],
   "source": [
    "N_bodies = 4\n",
    "max_iteration = 2*N_bodies #(dead or alive lol)\n",
    "\n",
    "# body_potential_at_neighbors = {body:(dict(zip(body_neighbors_locs[body], \n",
    "#                                        airy_waves_potential(np.array(body_neighbors_locs[body]),diff_problems[body])))) for body in bodies}\n",
    "\n",
    "\n",
    "iterate = 0\n",
    "while iterate<=max_iteration:\n",
    "    #go back to step 1 and solve the diff and radiation problems again\n",
    "    #if it is slow it is running green's function again so we may need to cache it. now let's just go through with it\n",
    "    diff_problems = {body:update_boundary_condition(cpt.DiffractionProblem(body=body, water_depth = np.infty,\n",
    "                                      omega=omega, wave_direction=0.), new_excitation[loc_bodies[body]]) for body in bodies}\n",
    " \n",
    "    rad_problems = {body: cpt.RadiationProblem(body=body, water_depth = np.infty,\n",
    "                                      omega=omega) for body in bodies}\n",
    "    \n",
    "    diff_results = {body:solver.solve(problem) for body,problem in diff_problems.items()}\n",
    "    rad_results = {body:solver.solve(problem) for body,problem in rad_problems.items()}\n",
    "    body_potential_at_neighbors = {body:dict(zip(body_neighbors_locs[body], \n",
    "                                      solver.compute_potential(np.array(body_neighbors_locs[body]),diff_results[body]))) for body in bodies}\n",
    "    all_other_phi_each_loc = {xyz:{loc_bodies.get(d):k.get(xyz,0) for d,k in body_potential_at_neighbors.items()} for xyz in xyzees}\n",
    "    phi_starj = {xyz:{nbros:phi_j_star(all_other_phi_each_loc[xyz][nbros],thetas[xyz][nbros],nbros,xyz,z,wave_num) for nbros in neighbors} for xyz in xyzees}\n",
    "    new_excitation = get_phistarj_sum(phi_starj,xyzees)\n",
    "    iterate+=1\n"
   ]
  },
  {
   "cell_type": "code",
   "execution_count": null,
   "id": "f9f9e06b",
   "metadata": {},
   "outputs": [],
   "source": []
  },
  {
   "cell_type": "code",
   "execution_count": 31,
   "id": "2029fd40",
   "metadata": {},
   "outputs": [],
   "source": [
    "new_potential = new_excitation"
   ]
  },
  {
   "cell_type": "code",
   "execution_count": null,
   "id": "e8dc324a",
   "metadata": {},
   "outputs": [],
   "source": []
  },
  {
   "cell_type": "code",
   "execution_count": 32,
   "id": "a89000cc",
   "metadata": {},
   "outputs": [],
   "source": [
    "# # function to input new potential from plane-wave approximation\n",
    "# diff_problems = {body:DiffractionProblemIter(body=body, sea_bottom=-np.infty,\n",
    "#                                       omega=omega, wave_direction=0.) for body in bodies}\n",
    "\n",
    "# diff_results = {body:solver.solve(problem) for body,problem in diff_problems.items()}\n",
    "\n",
    "\n",
    "def solve(diff,diff_res, rad_res,new_potential,keep_details=True):\n",
    "        \"\"\"Solve the linear potential flow problem.\n",
    "        Parameters\n",
    "        ----------\n",
    "        problem: LinearPotentialFlowProblem\n",
    "            the problem to be solved\n",
    "        keep_details: bool, optional\n",
    "            if True, store the sources and the potential on the floating body in the output object\n",
    "            (default: True)\n",
    "        Returns\n",
    "        -------\n",
    "        LinearPotentialFlowResult\n",
    "            an object storing the problem data and its results\n",
    "        \"\"\"\n",
    "        \n",
    "        diff_pot = diff_res.potential\n",
    "        print(diff)\n",
    "       \n",
    "        rad_pot = rad_res.potential\n",
    "        potential = new_potential + diff_pot + rad_pot\n",
    "        rho = 1000\n",
    "        new_pressure = rho * potential\n",
    "        # Actually, for diffraction problems: pressure over jω\n",
    "        #           for radiation problems:   pressure over -ω²\n",
    "        # The correction is done in `store_force` in the `result` object.\n",
    "\n",
    "        new_forces = diff.body.integrate_pressure(new_pressure)\n",
    "        \n",
    "\n",
    "        if not keep_details:\n",
    "            results = diff.make_results_container(new_forces)\n",
    "        else:\n",
    "            results = diff.make_results_container(new_forces, diff_res.sources, potential, new_pressure)\n",
    "            \n",
    "        added_mass = np.abs(new_forces['Heave'].real)\n",
    "        \n",
    "        damping = np.abs(new_forces['Heave'].imag) * diff.omega #abs because damping should be positive? does not make sense\n",
    "        return new_forces, {'added_mass':added_mass}, {'damping':damping}\n",
    "    \n",
    "\n",
    "    \n"
   ]
  },
  {
   "cell_type": "code",
   "execution_count": 33,
   "id": "2399ab33",
   "metadata": {},
   "outputs": [
    {
     "data": {
      "text/plain": [
       "{FloatingBody(mesh=sphere_24, dofs={Heave}, name=15000000_15000000_0): {'Heave': (1581.241720675112+49.6873182720709j)},\n",
       " FloatingBody(mesh=sphere_30, dofs={Heave}, name=0_0_0): {'Heave': (-51.97723490949254-504.30275454724193j)}}"
      ]
     },
     "execution_count": 33,
     "metadata": {},
     "output_type": "execute_result"
    }
   ],
   "source": [
    "\n",
    "\n",
    "def solve_forces(diff,diff_res, rad_res,keep_details=True):\n",
    "    \n",
    "    \"\"\"\n",
    "    \"\"\"\n",
    "    diff_pot = diff_res.potential\n",
    "\n",
    "    rad_pot = rad_res.potential\n",
    "    potential =  diff_pot + rad_pot\n",
    "    rho = 1000\n",
    "    new_pressure = rho * potential\n",
    "    # Actually, for diffraction problems: pressure over jω\n",
    "    #           for radiation problems:   pressure over -ω²\n",
    "    # The correction is done in `store_force` in the `result` object.\n",
    "\n",
    "    new_forces = diff.body.integrate_pressure(new_pressure)\n",
    "\n",
    "    #         if not keep_details:\n",
    "    #             result = problem.make_results_container(new_forces)\n",
    "    #         else:\n",
    "    #             result = problem.make_results_container(new_forces, sources, new_potential, new_pressure)\n",
    "    return new_forces\n",
    "\n",
    "new_results = {loc_to_body.get(loc):solve_forces(diff_prob,diff_results[loc_to_body.get(loc)],\n",
    "                                                 rad_results[loc_to_body.get(loc)]) for loc,diff_prob in loc_diff.items()}\n",
    "new_results"
   ]
  },
  {
   "cell_type": "markdown",
   "id": "9e04e6a1",
   "metadata": {},
   "source": [
    "Comparing that to the original results"
   ]
  },
  {
   "cell_type": "code",
   "execution_count": 34,
   "id": "0aa0f45f",
   "metadata": {},
   "outputs": [
    {
     "data": {
      "text/plain": [
       "{FloatingBody(mesh=sphere_24, dofs={Heave}, name=15000000_15000000_0): {'Heave': (1581.241720675112+49.6873182720709j)},\n",
       " FloatingBody(mesh=sphere_30, dofs={Heave}, name=0_0_0): {'Heave': (-51.97723490949254-504.30275454724193j)}}"
      ]
     },
     "execution_count": 34,
     "metadata": {},
     "output_type": "execute_result"
    }
   ],
   "source": [
    "starting_results = {loc_to_body.get(loc):solve_forces(diff_prob,diff_results_first_iter[loc_to_body.get(loc)],\n",
    "                                                 rad_results_first_iter[loc_to_body.get(loc)]) for loc,diff_prob in loc_diff.items()}\n",
    "starting_results"
   ]
  },
  {
   "cell_type": "markdown",
   "id": "c286326f",
   "metadata": {},
   "source": [
    "Okay confirmed..that this gives the correct result if two bodies are very far away!"
   ]
  },
  {
   "cell_type": "code",
   "execution_count": null,
   "id": "33c09a57",
   "metadata": {},
   "outputs": [],
   "source": []
  },
  {
   "cell_type": "code",
   "execution_count": null,
   "id": "e8aeaabb",
   "metadata": {},
   "outputs": [],
   "source": []
  },
  {
   "cell_type": "code",
   "execution_count": null,
   "id": "9365d0f2",
   "metadata": {},
   "outputs": [],
   "source": []
  }
 ],
 "metadata": {
  "kernelspec": {
   "display_name": "Python 3 (ipykernel)",
   "language": "python",
   "name": "python3"
  },
  "language_info": {
   "codemirror_mode": {
    "name": "ipython",
    "version": 3
   },
   "file_extension": ".py",
   "mimetype": "text/x-python",
   "name": "python",
   "nbconvert_exporter": "python",
   "pygments_lexer": "ipython3",
   "version": "3.11.4"
  }
 },
 "nbformat": 4,
 "nbformat_minor": 5
}

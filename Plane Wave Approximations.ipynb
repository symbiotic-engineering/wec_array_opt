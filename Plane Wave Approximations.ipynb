{
 "cells": [
  {
   "cell_type": "markdown",
   "id": "4098eb76",
   "metadata": {},
   "source": [
    " # BEM coupling with plane wave approximation"
   ]
  },
  {
   "cell_type": "code",
   "execution_count": 68,
   "id": "e6919821",
   "metadata": {},
   "outputs": [
    {
     "data": {
      "text/plain": [
       "'2.0'"
      ]
     },
     "execution_count": 68,
     "metadata": {},
     "output_type": "execute_result"
    }
   ],
   "source": [
    "import capytaine as cpt\n",
    "import numpy as np\n",
    "import matplotlib.pyplot as plt\n",
    "from capytaine.bem.airy_waves import airy_waves_potential, airy_waves_velocity, froude_krylov_force\n",
    "from capytaine.bem.solver import BEMSolver\n",
    "from capytaine.green_functions.delhommeau import Delhommeau\n",
    "from capytaine.bem.engines import BasicMatrixEngine\n",
    "from capytaine.bem.problems_and_results import RadiationProblem\n",
    "from capytaine.bodies.predefined.spheres import Sphere\n",
    "cpt.__version__ #get_potential_on_mesh if not version 2.0\n"
   ]
  },
  {
   "cell_type": "markdown",
   "id": "f95ce0a4",
   "metadata": {},
   "source": [
    "### Some functions that are required down the road for implementation"
   ]
  },
  {
   "cell_type": "code",
   "execution_count": 42,
   "id": "20283704",
   "metadata": {},
   "outputs": [],
   "source": [
    "#%%writefile pwa_utils.py\n",
    "def generate_body(xyz):\n",
    "    mesh1 = cpt.meshes.predefined.mesh_sphere(radius=2,center=(xyz[0],xyz[1],xyz[2]))\n",
    "    body = cpt.FloatingBody(mesh1)\n",
    "    body.add_translation_dof(name='Heave')\n",
    "    body = body.immersed_part()\n",
    "    body.name = f'{xyz[0]}_{xyz[1]}_{xyz[2]}'\n",
    "    return body\n",
    "\n",
    "\n",
    "def get_results(problems):\n",
    "    results = [solver.solve(pb, keep_details = True) for pb in sorted(problems)]\n",
    "    return results\n",
    "\n",
    "\n",
    "#calculate angle theta_ij from centre of one body to other\n",
    "def theta_ij(X,Y): \n",
    "    x1,y1= X[0],X[1]\n",
    "    x2,y2 = Y[0], Y[1]\n",
    "    \n",
    "    if x1 ==x2 and y1==y2:\n",
    "        return 0\n",
    "    if x2==x1:\n",
    "        theta = np.pi/2\n",
    "    else:\n",
    "        theta = np.arctan((y2-y1)/(x2-x1))\n",
    "    return theta\n",
    "\n",
    "\n",
    "#step 2\n",
    "def phi_j_star(phi_ij,theta,X,Y,z,k):\n",
    "    \n",
    "    '''phi_ij is the vector of all the effect at that body from all other bodies'''\n",
    "    x,y = X[0],X[1]\n",
    "    xj,yj = Y[0],Y[1]\n",
    "    if x==xj and y==yj:\n",
    "        return 0\n",
    "    multiplier = np.exp((1j*k*(-1*np.abs(x-xj))*np.cos(theta)) + ((-1*np.abs(y-yj))*np.sin(theta)))\n",
    "   # print(f'the multiplier for {X}{Y} and {theta} is {multiplier}')\n",
    "    res = phi_ij * multiplier #kz = 0 #e^kz = 1\n",
    "    return res\n",
    "\n",
    "#{(10, 10, 0): {(10, 10, 0): 0,\n",
    "  #(0, 0, 0): (8.415476709952118-2.9519008598532284j),\n",
    "  #(5, 5, 0): (8.415476709952118-2.9519008598532284j),\n",
    "  #(15, 15, 0): (8.415476709952118-2.9519008598532284j)\n",
    "\n",
    "def get_phistarj_sum(phi_starj,xyzees):\n",
    "    xyz_phi = {xyz :[] for xyz in xyzees}\n",
    "    for k,v in phi_starj.items():\n",
    "        for s,m in v.items():\n",
    "          #  print(f\"thee value of m = {m}\")\n",
    "            xyz_phi[k].append(m)\n",
    "     #   print(\"next xyz\")\n",
    "    print(xyz_phi.items())\n",
    "    xyz_phi = {k:sum(v) for k,v in xyz_phi.items()}\n",
    "    #print(\"Afteer summation \")\n",
    "   # print(xyz_phi.items())\n",
    "    return xyz_phi\n"
   ]
  },
  {
   "cell_type": "markdown",
   "id": "b15b09f8",
   "metadata": {},
   "source": [
    "The method is based upon an idea due to Simon 3\n",
    "originally devised in connection with the theory of arrays\n",
    "of wave-power devices. A diverging wave scattered from\n",
    "one cylinder is replaced by a plane wave of appropriate\n",
    "amplitude in the neighbourhood of another cylinder. Once\n",
    "the amplitude and phase of the equivalent plane wave have\n",
    "been determined, **the problem reduces to summing the\n",
    "effects of plane waves on any given cylinder**"
   ]
  },
  {
   "cell_type": "markdown",
   "id": "43c39ca8",
   "metadata": {},
   "source": [
    "#### 1. Initialize the bodies and define diffraction and radiation problems and solve\n",
    "\n",
    "This step is performed in isolation and this is the first BEM run where we evaluate the green's function"
   ]
  },
  {
   "cell_type": "code",
   "execution_count": 73,
   "id": "2071aded",
   "metadata": {},
   "outputs": [
    {
     "name": "stdout",
     "output_type": "stream",
     "text": [
      "{(10, 10, 0): [(0, 0, 0), (5, 5, 0), (15, 15, 0)], (0, 0, 0): [(10, 10, 0), (5, 5, 0), (15, 15, 0)], (5, 5, 0): [(10, 10, 0), (0, 0, 0), (15, 15, 0)], (15, 15, 0): [(10, 10, 0), (0, 0, 0), (5, 5, 0)]}\n"
     ]
    }
   ],
   "source": [
    "from capytaine import assemble_dataset\n",
    "xyzees = {(0,0,0),(5,5,0),(10,10,0),(15,15,0)}\n",
    "    \n",
    "bodies = [generate_body(xyz) for xyz in xyzees ]\n",
    "\n",
    "neighbors = {(0,0,0):[(5,5,0),(10,10,0),(15,15,0)],  #so bad..need to write a funky func for it\n",
    "            (10,10,0):[(0,0,0),(5,5,0),(15,15,0)],\n",
    "             (5,5,0):[(0,0,0),(10,10,0),(15,15,0)],\n",
    "             (15,15,0):[(0,0,0),(10,10,0),(5,5,0)]     \n",
    "            }\n",
    "\n",
    "\n",
    "\n",
    "def get_neighbors(xyzees):\n",
    "    neighbor = {xyz:[] for xyz in xyzees}\n",
    "    for xyz in xyzees:\n",
    "        for zyx in xyzees:\n",
    "            if not xyz == zyx:\n",
    "                neighbor[xyz].append(zyx)\n",
    "    return neighbor\n",
    "\n",
    "\n",
    "print(get_neighbors(xyzees))\n",
    "\n",
    "\n",
    "loc_bodies = {body:xyz for xyz,body in zip(xyzees,bodies)}\n",
    "loc_to_body = {xyz:body for xyz,body in zip(xyzees,bodies)}\n",
    "#caching interaction matrices help make things go brrrrrrrr\n",
    "\n",
    "cache_engine = BasicMatrixEngine(matrix_cache_size=0)\n",
    "\n",
    "solver = cpt.BEMSolver(engine=cache_engine)\n",
    "\n",
    "\n",
    "diff_problems = {body:cpt.DiffractionProblem(body=body, water_depth = np.infty,\n",
    "                                      omega=omega, wave_direction=0.) for body in bodies}\n",
    "\n",
    "diff_loc= {generate_body(loc):loc for loc in xyzees }\n",
    "\n",
    "loc_diff = {loc_bodies.get(body):diff for body,diff in diff_problems.items() }\n",
    "\n",
    "rad_problems = {body: cpt.RadiationProblem(body=body, water_depth = np.infty,\n",
    "                                      omega=omega) for body in bodies}\n",
    "\n",
    "diff_results = {body:solver.solve(problem) for body,problem in diff_problems.items()}\n",
    "rad_results = {body:solver.solve(problem) for body,problem in rad_problems.items()}\n",
    "\n",
    "\n",
    "diff_results_first_iter = diff_results\n",
    "rad_results_first_iter = rad_results\n",
    "#added_mass = {body:assemble_dataset(result) for body, result in rad_results.items()}\n",
    "\n"
   ]
  },
  {
   "cell_type": "code",
   "execution_count": null,
   "id": "f76a7c91",
   "metadata": {},
   "outputs": [],
   "source": []
  },
  {
   "cell_type": "code",
   "execution_count": 74,
   "id": "ea5288da",
   "metadata": {},
   "outputs": [],
   "source": [
    "#diff problem round 2 \n",
    "def update_boundary_condition(DiffProblem,new_boundary_excitation):\n",
    "    DiffProblem.boundary_condition +=new_boundary_excitation\n",
    "    return DiffProblem\n",
    "# {body:update_boundary_condition(cpt.DiffractionProblem(body=body, water_depth = np.infty,\n",
    "#                                       omega=omega, wave_direction=0.), 0.2) for body in bodies}\n"
   ]
  },
  {
   "cell_type": "markdown",
   "id": "eee436e8",
   "metadata": {},
   "source": [
    "### 2. Get the Incident potentials, diffraction potentials, radiation potentials for each body at their own location and the location of other bodies\n",
    "\n",
    "\n",
    "STEPS\n",
    "\n",
    "1) Assume each body as isolated and solve the diffraction and radiation problem with $usual$ body condition\n",
    "2) Find the potential of the incident PLANE WAVE.$A_{ij}$ being the apmplitude of body $j$ at body $i$, this can be generated at any other location from capytaine. And according to simon(1982) we can approximate the impact of outgoing waves from a body on all other bodies by an incident plane wave of appropriately chosen amplitude $A_{ij}$.\n",
    "\n",
    "3) Find the total effect at each body j due to other body i\n",
    "4) The diffraction potential depends on the boundary condition from the incoming incident plane waves so that has to be updated for new iteration.\n",
    "5)  Having computed the effect at all the bodies in the array we compute the contribution of all the bodies as isolated (step 1) due to the excitation induced by new φ∗\n",
    "    1) New excitation means new boundary condition. CALCULATE NEW BOUNDARY CONDITION for each iteration until convergence.\n",
    "    2) For each body to calculate new diffraction and radiation problem ? Meaning either re-evaluate the influence matrices or store from last time (step 1) if the matrix do not change themselves.\n",
    "    3) Use the already stored influence matrices (green's function matrix and its normal derivative matrix)\n",
    "   \n",
    "\n"
   ]
  },
  {
   "cell_type": "markdown",
   "id": "ae8c255b",
   "metadata": {},
   "source": [
    "#### find the location of neighbors to each floating body"
   ]
  },
  {
   "cell_type": "code",
   "execution_count": 75,
   "id": "17f6faac",
   "metadata": {},
   "outputs": [
    {
     "data": {
      "text/plain": [
       "{FloatingBody(mesh=sphere_368, dofs={Heave}, name=10_10_0): [(0, 0, 0),\n",
       "  (5, 5, 0),\n",
       "  (15, 15, 0)],\n",
       " FloatingBody(mesh=sphere_374, dofs={Heave}, name=0_0_0): [(5, 5, 0),\n",
       "  (10, 10, 0),\n",
       "  (15, 15, 0)],\n",
       " FloatingBody(mesh=sphere_380, dofs={Heave}, name=5_5_0): [(0, 0, 0),\n",
       "  (10, 10, 0),\n",
       "  (15, 15, 0)],\n",
       " FloatingBody(mesh=sphere_386, dofs={Heave}, name=15_15_0): [(0, 0, 0),\n",
       "  (10, 10, 0),\n",
       "  (5, 5, 0)]}"
      ]
     },
     "execution_count": 75,
     "metadata": {},
     "output_type": "execute_result"
    }
   ],
   "source": [
    "body_neighbors_locs = {body:neighbors.get(loc_bodies.get(body)) for body in bodies}\n",
    "body_neighbors_locs"
   ]
  },
  {
   "cell_type": "code",
   "execution_count": null,
   "id": "babac853",
   "metadata": {},
   "outputs": [],
   "source": []
  },
  {
   "cell_type": "markdown",
   "id": "de1f8894",
   "metadata": {},
   "source": [
    "###  Get the potential of a body to other location - Find the potential of incident PLANE WAVE $A_{IJ}$\n",
    "\n",
    "> Capytaine version 1.5 has the function as `get_potential_on_mesh` while new v2.0 have `compute_potential`"
   ]
  },
  {
   "cell_type": "code",
   "execution_count": 76,
   "id": "04fe5850",
   "metadata": {},
   "outputs": [
    {
     "data": {
      "text/plain": [
       "{FloatingBody(mesh=sphere_368, dofs={Heave}, name=10_10_0): {(0,\n",
       "   0,\n",
       "   0): (0.21170762646617497-0.373784640054786j),\n",
       "  (5, 5, 0): (-0.25724943951014706-0.5744665901623189j),\n",
       "  (15, 15, 0): (-0.2633015810441004-0.30840110362005585j)},\n",
       " FloatingBody(mesh=sphere_374, dofs={Heave}, name=0_0_0): {(5,\n",
       "   5,\n",
       "   0): (-0.3781692879872775+0.14637948257042988j),\n",
       "  (10, 10, 0): (-0.21722545979995228-0.1889357468615499j),\n",
       "  (15, 15, 0): (0.0223784454883666-0.2409733291239949j)},\n",
       " FloatingBody(mesh=sphere_380, dofs={Heave}, name=5_5_0): {(0,\n",
       "   0,\n",
       "   0): (-0.5421081018999016-0.3198561289009363j),\n",
       "  (10, 10, 0): (-0.39316353384807745-0.0993045766643363j),\n",
       "  (15, 15, 0): (-0.06793546471711319-0.27976488246579895j)},\n",
       " FloatingBody(mesh=sphere_386, dofs={Heave}, name=15_15_0): {(0,\n",
       "   0,\n",
       "   0): (0.3166969614484385+0.15947099063268683j),\n",
       "  (10, 10, 0): (0.1223895692442929-0.6174220037229015j),\n",
       "  (5, 5, 0): (0.3888894143487696-0.18248314895435763j)}}"
      ]
     },
     "execution_count": 76,
     "metadata": {},
     "output_type": "execute_result"
    }
   ],
   "source": [
    "body_potential_at_neighbors = {body:dict(zip(body_neighbors_locs[body], \n",
    "                                      solver.compute_potential(np.array(body_neighbors_locs[body]),diff_results[body]))) for body in bodies}\n",
    "body_potential_at_neighbors"
   ]
  },
  {
   "cell_type": "markdown",
   "id": "6ccd673e",
   "metadata": {},
   "source": [
    "### $\\phi_{ij}$ or  $𝐴_{ij}$ Get the all other potential at each location/body..\n",
    "\n",
    "\n",
    "This is just re-structuring earlier result so that we have results of all other WECs at each location"
   ]
  },
  {
   "cell_type": "code",
   "execution_count": 77,
   "id": "5053af60",
   "metadata": {},
   "outputs": [
    {
     "data": {
      "text/plain": [
       "{(10, 10, 0): {(10, 10, 0): 0,\n",
       "  (0, 0, 0): (-0.21722545979995228-0.1889357468615499j),\n",
       "  (5, 5, 0): (-0.39316353384807745-0.0993045766643363j),\n",
       "  (15, 15, 0): (0.1223895692442929-0.6174220037229015j)},\n",
       " (0, 0, 0): {(10, 10, 0): (0.21170762646617497-0.373784640054786j),\n",
       "  (0, 0, 0): 0,\n",
       "  (5, 5, 0): (-0.5421081018999016-0.3198561289009363j),\n",
       "  (15, 15, 0): (0.3166969614484385+0.15947099063268683j)},\n",
       " (5, 5, 0): {(10, 10, 0): (-0.25724943951014706-0.5744665901623189j),\n",
       "  (0, 0, 0): (-0.3781692879872775+0.14637948257042988j),\n",
       "  (5, 5, 0): 0,\n",
       "  (15, 15, 0): (0.3888894143487696-0.18248314895435763j)},\n",
       " (15, 15, 0): {(10, 10, 0): (-0.2633015810441004-0.30840110362005585j),\n",
       "  (0, 0, 0): (0.0223784454883666-0.2409733291239949j),\n",
       "  (5, 5, 0): (-0.06793546471711319-0.27976488246579895j),\n",
       "  (15, 15, 0): 0}}"
      ]
     },
     "execution_count": 77,
     "metadata": {},
     "output_type": "execute_result"
    }
   ],
   "source": [
    "# def get_all_other_phi(body_potential_at_neighbors):\n",
    "all_other_phi_each_loc = {xyz:{loc_bodies.get(d):k.get(xyz,0) for d,k in body_potential_at_neighbors.items()} for xyz in xyzees}\n",
    "all_other_phi_each_loc"
   ]
  },
  {
   "cell_type": "markdown",
   "id": "09092ce1",
   "metadata": {},
   "source": [
    "### $\\phi_j^*$ get the total effect of each bodies"
   ]
  },
  {
   "cell_type": "code",
   "execution_count": 78,
   "id": "bb84ea89",
   "metadata": {},
   "outputs": [
    {
     "data": {
      "text/plain": [
       "{(10, 10, 0): {(10, 10, 0): 0,\n",
       "  (0, 0, 0): 0.7853981633974483,\n",
       "  (5, 5, 0): 0.7853981633974483,\n",
       "  (15, 15, 0): 0.7853981633974483},\n",
       " (0, 0, 0): {(10, 10, 0): 0.7853981633974483,\n",
       "  (0, 0, 0): 0,\n",
       "  (5, 5, 0): 0.7853981633974483,\n",
       "  (15, 15, 0): 0.7853981633974483},\n",
       " (5, 5, 0): {(10, 10, 0): 0.7853981633974483,\n",
       "  (0, 0, 0): 0.7853981633974483,\n",
       "  (5, 5, 0): 0,\n",
       "  (15, 15, 0): 0.7853981633974483},\n",
       " (15, 15, 0): {(10, 10, 0): 0.7853981633974483,\n",
       "  (0, 0, 0): 0.7853981633974483,\n",
       "  (5, 5, 0): 0.7853981633974483,\n",
       "  (15, 15, 0): 0}}"
      ]
     },
     "execution_count": 78,
     "metadata": {},
     "output_type": "execute_result"
    }
   ],
   "source": [
    "#First fet the thetas\n",
    "\n",
    "thetas = {k:{s:theta_ij(k,s) for s,m in v.items()} for k,v in all_other_phi_each_loc.items()}\n",
    "thetas"
   ]
  },
  {
   "cell_type": "markdown",
   "id": "27253271",
   "metadata": {},
   "source": []
  },
  {
   "cell_type": "code",
   "execution_count": 79,
   "id": "46fc875a",
   "metadata": {},
   "outputs": [
    {
     "data": {
      "text/plain": [
       "{(10, 10, 0): {(0, 0, 0): (-0.00024451376317394865+1.2086386994561768e-06j),\n",
       "  (10, 10, 0): 0,\n",
       "  (5, 5, 0): (-0.011742510671359488+0.0013325470034138715j),\n",
       "  (15, 15, 0): (-0.003007777329000375-0.018095493743288175j)},\n",
       " (0, 0, 0): {(0, 0, 0): 0,\n",
       "  (10, 10, 0): (-7.443674378986058e-05-0.0003571754677205223j),\n",
       "  (5, 5, 0): (-0.01807104518848055-0.0031513400435567666j),\n",
       "  (15, 15, 0): (7.1699087502590815e-06-5.061766810014366e-06j)},\n",
       " (5, 5, 0): {(0, 0, 0): (-0.008808627226736549+0.007878472235382579j),\n",
       "  (10, 10, 0): (-0.012919408737676986-0.013022384426174267j),\n",
       "  (5, 5, 0): 0,\n",
       "  (15, 15, 0): (0.00014585211493745604-0.00033442832436216024j)},\n",
       " (15, 15, 0): {(0, 0, 0): (-5.003405478129428e-06-3.293789813431611e-06j),\n",
       "  (10, 10, 0): (-0.010350012566845705-0.005704338546179979j),\n",
       "  (5, 5, 0): (-0.0002001687695054356-0.00014043113936613747j),\n",
       "  (15, 15, 0): 0}}"
      ]
     },
     "execution_count": 79,
     "metadata": {},
     "output_type": "execute_result"
    }
   ],
   "source": [
    "z = 0\n",
    "phi_starj = {xyz:{nbros:phi_j_star(all_other_phi_each_loc[xyz][nbros],thetas[xyz][nbros],nbros,xyz,z,wave_num) for nbros in neighbors} for xyz in xyzees}\n",
    "phi_starj"
   ]
  },
  {
   "cell_type": "markdown",
   "id": "03269320",
   "metadata": {},
   "source": [
    "### Get the Total potential on the body surface - \n",
    "#### Make sure we add all N but not when i==j so the value should be 0 for same location "
   ]
  },
  {
   "cell_type": "code",
   "execution_count": 80,
   "id": "dad614bc",
   "metadata": {},
   "outputs": [
    {
     "name": "stdout",
     "output_type": "stream",
     "text": [
      "dict_items([((10, 10, 0), [(-0.00024451376317394865+1.2086386994561768e-06j), 0, (-0.011742510671359488+0.0013325470034138715j), (-0.003007777329000375-0.018095493743288175j)]), ((0, 0, 0), [0, (-7.443674378986058e-05-0.0003571754677205223j), (-0.01807104518848055-0.0031513400435567666j), (7.1699087502590815e-06-5.061766810014366e-06j)]), ((5, 5, 0), [(-0.008808627226736549+0.007878472235382579j), (-0.012919408737676986-0.013022384426174267j), 0, (0.00014585211493745604-0.00033442832436216024j)]), ((15, 15, 0), [(-5.003405478129428e-06-3.293789813431611e-06j), (-0.010350012566845705-0.005704338546179979j), (-0.0002001687695054356-0.00014043113936613747j), 0])])\n"
     ]
    },
    {
     "data": {
      "text/plain": [
       "{(10, 10, 0): (-0.014994801763533813-0.016761738101174848j),\n",
       " (0, 0, 0): (-0.01813831202352015-0.0035135772780873036j),\n",
       " (5, 5, 0): (-0.021582183849476078-0.005478340515153848j),\n",
       " (15, 15, 0): (-0.01055518474182927-0.005848063475359547j)}"
      ]
     },
     "execution_count": 80,
     "metadata": {},
     "output_type": "execute_result"
    }
   ],
   "source": [
    "\n",
    "new_excitation = get_phistarj_sum(phi_starj,xyzees)\n",
    "new_excitation     "
   ]
  },
  {
   "cell_type": "markdown",
   "id": "19cc4376",
   "metadata": {},
   "source": [
    "Having computed this effect at each body in the array we then compute the contribution of all the bodies as isolated ( as in step 1) induced by new excitation"
   ]
  },
  {
   "cell_type": "markdown",
   "id": "dfef575a",
   "metadata": {},
   "source": [
    "#### Get the all other potential at each location/body with new excitation\n",
    "If new excitation is the potential and we have this new excitation **at** each location, how do we go from getting the contribution of this $\\phi$ to other location?\n",
    "\n",
    "- New boundary condition !!!!! and solve the diffraction and radiation problems with new boundary condition. \n",
    " - but how does the new excitation give new boundary condition?\n",
    "\n",
    "- Write a function to get the influence matrices and store them in a dictionary \n",
    "\n",
    "- Calculate new `body_potential_at_neighbors` from earlier to loop it back in a while loop. The potential at other location this time is not going to be the airywave potential calculation but just the  calculation function `phi_j_star` but keep new potential at each neigbors in the format `body_potential_at_neighbors` \n",
    "\n"
   ]
  },
  {
   "cell_type": "code",
   "execution_count": 81,
   "id": "f546ddcd",
   "metadata": {},
   "outputs": [],
   "source": [
    "def update_boundary_condition(DiffProblem,new_boundary_excitation):\n",
    "    DiffProblem.boundary_condition +=new_boundary_excitation\n",
    "    return DiffProblem"
   ]
  },
  {
   "cell_type": "markdown",
   "id": "0bc36d35",
   "metadata": {},
   "source": [
    "### Updated diffraction and radiation problems"
   ]
  },
  {
   "cell_type": "code",
   "execution_count": 82,
   "id": "4a69c6e5",
   "metadata": {},
   "outputs": [],
   "source": [
    "# def get_influence_matrices(prob):\n",
    "#             S, K = self.engine.build_matrices(\n",
    "#             problem.body.mesh, problem.body.mesh,\n",
    "#             problem.free_surface, problem.water_depth, problem.wavenumber,\n",
    "#             self.green_function\n",
    "#         )\n",
    "        \n",
    "#         return S,K\n",
    "\n",
    "\n",
    "diff_problems = {body:update_boundary_condition(cpt.DiffractionProblem(body=body, water_depth = np.infty,\n",
    "                                      omega=omega, wave_direction=0.), new_excitation[loc_bodies[body]]) for body in bodies}\n",
    " \n",
    "# think about updating rad_problems too\n",
    "rad_problems = {body: cpt.RadiationProblem(body=body, water_depth = np.infty,\n",
    "                                      omega=omega) for body in bodies}"
   ]
  },
  {
   "cell_type": "markdown",
   "id": "5dac9cd1",
   "metadata": {},
   "source": [
    "> Now we solve the updated diffraction problem and radiation problem - (back to step1)\n"
   ]
  },
  {
   "cell_type": "code",
   "execution_count": null,
   "id": "77bd0510",
   "metadata": {},
   "outputs": [],
   "source": []
  },
  {
   "cell_type": "markdown",
   "id": "5a1d7a05",
   "metadata": {},
   "source": [
    "### Now we basically while loop the whole thing until the max-iteration"
   ]
  },
  {
   "cell_type": "code",
   "execution_count": 83,
   "id": "838ffde2",
   "metadata": {},
   "outputs": [
    {
     "name": "stdout",
     "output_type": "stream",
     "text": [
      "dict_items([((10, 10, 0), [(-0.0002473804742385538+1.1654730907995674e-05j), 0, (-0.011544610153498941+0.0019437016927648116j), (-0.002988361383914336-0.017747900638906085j)]), ((0, 0, 0), [0, (-8.490738262533846e-05-0.0003491606414067574j), (-0.01787314467062-0.0025401853542058265j), (7.013400921201741e-06-4.9906217916673934e-06j)]), ((5, 5, 0), [(-0.00861567722757264+0.008375345373427094j), (-0.013098243363957164-0.012398674743378345j), 0, (0.00014196044835395883-0.0003285198695973127j)]), ((15, 15, 0), [(-5.197563365712838e-06-3.1160576480178828e-06j), (-0.01052884719312588-0.005080628863384062j), (-0.00020433837153985664-0.0001280598182719446j), 0])])\n",
      "dict_items([((10, 10, 0), [(-0.00024701007989291946+1.1572997833555627e-05j), 0, (-0.011517262029282485+0.001926140735430399j), (-0.0029700107273609674-0.017753205223772203j)]), ((0, 0, 0), [0, (-8.433119060256492e-05-0.0003492425816800744j), (-0.017845796546403538-0.0025577463115402385j), (7.019126614802824e-06-4.983125105596789e-06j)]), ((5, 5, 0), [(-0.008603435312724186+0.00836125660341918j), (-0.013077874367003865-0.012418804969666858j), 0, (0.0001423241920819515-0.0003283842651655213j)]), ((15, 15, 0), [(-5.188887956035223e-06-3.1129446662584767e-06j), (-0.010508478196172587-0.005100759089672571j), (-0.0002036793751442335-0.00012801532171337945j), 0])])\n",
      "dict_items([((10, 10, 0), [(-0.0002470191379896425+1.1555879974454951e-05j), 0, (-0.011518600971596541+0.0019258593777804036j), (-0.002970824359759119-0.01775341025136372j)]), ((0, 0, 0), [0, (-8.434254124398149e-05-0.00034927054154220083j), (-0.017847135488717608-0.002558027669190233j), (7.0190753648872165e-06-4.983536280605126e-06j)]), ((5, 5, 0), [(-0.008604295125854687+0.008360845654644044j), (-0.01307914263144936-0.012419577186712475j), 0, (0.00014231339449869397-0.00032839746285986856j)]), ((15, 15, 0), [(-5.1888526939222145e-06-3.113413950013794e-06j), (-0.010509746460618079-0.00510153130671819j), (-0.00020369782258499795-0.00012803612557978037j), 0])])\n",
      "dict_items([((10, 10, 0), [(-0.0002470193795578538+1.1556655497887871e-05j), 0, (-0.011518597313772116+0.001925929987212032j), (-0.0029708239612250688-0.017753366640982378j)]), ((0, 0, 0), [0, (-8.434293244163066e-05-0.0003492693004277644j), (-0.017847131830893183-0.002557957059758611j), (7.019055364162089e-06-4.983528292235785e-06j)]), ((5, 5, 0), [(-0.008604281937034983+0.008360883385386274j), (-0.013079121706509503-0.012419516669129292j), 0, (0.0001423128729798206-0.00032839674623131004j)]), ((15, 15, 0), [(-5.188867699418501e-06-3.113401127083935e-06j), (-0.010509725535678225-0.0051014707891350085j), (-0.00020369861780395392-0.000128034928813409j), 0])])\n",
      "dict_items([((10, 10, 0), [(-0.00024701933740442825+1.1556656819608531e-05j), 0, (-0.011518595413599212+0.001925927646157686j), (-0.0029708227631615874-0.017753368080708865j)]), ((0, 0, 0), [0, (-8.434286504529868e-05-0.0003492692975054126j), (-0.017847129930720275-0.002557959400812956j), (7.019056241225674e-06-4.983527998484368e-06j)]), ((5, 5, 0), [(-0.008604280232376771+0.008360882201829957j), (-0.013079118957322767-0.012419518529462104j), 0, (0.0001423129099663152-0.00032839675522449026j)]), ((15, 15, 0), [(-5.188866849594277e-06-3.1134005543212506e-06j), (-0.01050972278649149-0.005101472649467811j), (-0.0002036985584446624-0.0001280349440169832j), 0])])\n",
      "dict_items([((10, 10, 0), [(-0.0002470193386829131+1.1556655564121064e-05j), 0, (-0.011518595557153372+0.0019259275834213486j), (-0.002970822852115393-0.017753368120491678j)]), ((0, 0, 0), [0, (-8.434286711403449e-05-0.0003492692995106021j), (-0.01784713007427443-0.002557959463549287j), (7.019056243616008e-06-4.983528046546042e-06j)]), ((5, 5, 0), [(-0.008604280319709192+0.008360882189693601j), (-0.01307911909786468-0.012419518548059416j), 0, (0.0001423129089961028-0.0003283967569508512j)]), ((15, 15, 0), [(-5.188866859638278e-06-3.1134005966887832e-06j), (-0.010509722927033395-0.005101472668065125j), (-0.00020369856002813946-0.00012803494677907605j), 0])])\n",
      "dict_items([((10, 10, 0), [(-0.00024701933872731336+1.1556655646346821e-05j), 0, (-0.01151859555442917+0.0019259275895078132j), (-0.0029708228504536946-0.017753368116692304j)]), ((0, 0, 0), [0, (-8.434286718517542e-05-0.00034926929937858207j), (-0.017847130071550237-0.0025579594574628205j), (7.019056242164709e-06-4.983528045101255e-06j)]), ((5, 5, 0), [(-0.008604280319053324+0.008360882194244834j), (-0.013079119096805807-0.012419518540756354j), 0, (0.00014231290897722283-0.00032839675686871875j)]), ((15, 15, 0), [(-5.188866861615641e-06-3.1134005955723815e-06j), (-0.010509722925974529-0.005101472660762071j), (-0.00020369856005736893-0.00012803494664674966j), 0])])\n"
     ]
    }
   ],
   "source": [
    "N_bodies = 4\n",
    "max_iteration = 2*N_bodies #(dead or alive lol)\n",
    "\n",
    "# body_potential_at_neighbors = {body:(dict(zip(body_neighbors_locs[body], \n",
    "#                                        airy_waves_potential(np.array(body_neighbors_locs[body]),diff_problems[body])))) for body in bodies}\n",
    "\n",
    "\n",
    "iterate = 1\n",
    "while iterate<max_iteration:\n",
    "    #go back to step 1 and solve the diff and radiation problems again\n",
    "    #if it is slow it is running green's function again so we may need to cache it. now let's just go through with it\n",
    "    diff_problems = {body:update_boundary_condition(cpt.DiffractionProblem(body=body, water_depth = np.infty,\n",
    "                                      omega=omega, wave_direction=0.), new_excitation[loc_bodies[body]]) for body in bodies}\n",
    " \n",
    "    rad_problems = {body: cpt.RadiationProblem(body=body, water_depth = np.infty,\n",
    "                                      omega=omega) for body in bodies}\n",
    "    \n",
    "    diff_results = {body:solver.solve(problem) for body,problem in diff_problems.items()}\n",
    "    rad_results = {body:solver.solve(problem) for body,problem in rad_problems.items()}\n",
    "    body_potential_at_neighbors = {body:dict(zip(body_neighbors_locs[body], \n",
    "                                      solver.compute_potential(np.array(body_neighbors_locs[body]),diff_results[body]))) for body in bodies}\n",
    "    all_other_phi_each_loc = {xyz:{loc_bodies.get(d):k.get(xyz,0) for d,k in body_potential_at_neighbors.items()} for xyz in xyzees}\n",
    "    phi_starj = {xyz:{nbros:phi_j_star(all_other_phi_each_loc[xyz][nbros],thetas[xyz][nbros],nbros,xyz,z,wave_num) for nbros in neighbors} for xyz in xyzees}\n",
    "    new_excitation = get_phistarj_sum(phi_starj,xyzees)\n",
    "    iterate+=1\n"
   ]
  },
  {
   "cell_type": "code",
   "execution_count": null,
   "id": "699ea94a",
   "metadata": {},
   "outputs": [],
   "source": []
  },
  {
   "cell_type": "code",
   "execution_count": 84,
   "id": "2029fd40",
   "metadata": {},
   "outputs": [],
   "source": [
    "new_potential = new_excitation"
   ]
  },
  {
   "cell_type": "code",
   "execution_count": 85,
   "id": "e8dc324a",
   "metadata": {},
   "outputs": [
    {
     "data": {
      "text/plain": [
       "(-0.014736437743610178-0.015815883871538143j)"
      ]
     },
     "execution_count": 85,
     "metadata": {},
     "output_type": "execute_result"
    }
   ],
   "source": [
    "new_potential[(10, 10, 0)]"
   ]
  },
  {
   "cell_type": "code",
   "execution_count": 86,
   "id": "a89000cc",
   "metadata": {},
   "outputs": [],
   "source": [
    "# # function to input new potential from plane-wave approximation\n",
    "# diff_problems = {body:DiffractionProblemIter(body=body, sea_bottom=-np.infty,\n",
    "#                                       omega=omega, wave_direction=0.) for body in bodies}\n",
    "\n",
    "# diff_results = {body:solver.solve(problem) for body,problem in diff_problems.items()}\n",
    "\n",
    "\n",
    "def solve(diff,diff_res, rad_res,new_potential,keep_details=True):\n",
    "        \"\"\"Solve the linear potential flow problem.\n",
    "        Parameters\n",
    "        ----------\n",
    "        problem: LinearPotentialFlowProblem\n",
    "            the problem to be solved\n",
    "        keep_details: bool, optional\n",
    "            if True, store the sources and the potential on the floating body in the output object\n",
    "            (default: True)\n",
    "        Returns\n",
    "        -------\n",
    "        LinearPotentialFlowResult\n",
    "            an object storing the problem data and its results\n",
    "        \"\"\"\n",
    "        \n",
    "        diff_pot = diff_res.potential\n",
    "        print(diff)\n",
    "       \n",
    "        rad_pot = rad_res.potential\n",
    "        potential = new_potential + diff_pot + rad_pot\n",
    "        rho = 1000\n",
    "        new_pressure = rho * potential\n",
    "        # Actually, for diffraction problems: pressure over jω\n",
    "        #           for radiation problems:   pressure over -ω²\n",
    "        # The correction is done in `store_force` in the `result` object.\n",
    "\n",
    "        new_forces = diff.body.integrate_pressure(new_pressure)\n",
    "        \n",
    "\n",
    "        if not keep_details:\n",
    "            results = diff.make_results_container(new_forces)\n",
    "        else:\n",
    "            results = diff.make_results_container(new_forces, diff_res.sources, potential, new_pressure)\n",
    "            \n",
    "        added_mass = np.abs(new_forces['Heave'].real)\n",
    "        \n",
    "        damping = np.abs(new_forces['Heave'].imag) * diff.omega #abs because damping should be positive? does not make sense\n",
    "        return new_forces, {'added_mass':added_mass}, {'damping':damping}\n",
    "    \n",
    "\n",
    "    \n"
   ]
  },
  {
   "cell_type": "code",
   "execution_count": 87,
   "id": "2399ab33",
   "metadata": {},
   "outputs": [
    {
     "data": {
      "text/plain": [
       "{FloatingBody(mesh=sphere_368, dofs={Heave}, name=10_10_0): {'Heave': (-8534.448321220536-13639.412306350545j)},\n",
       " FloatingBody(mesh=sphere_374, dofs={Heave}, name=0_0_0): {'Heave': (325.0604431064561-255.06877184924411j)},\n",
       " FloatingBody(mesh=sphere_380, dofs={Heave}, name=5_5_0): {'Heave': (-6108.6209448373465-5628.513314825278j)},\n",
       " FloatingBody(mesh=sphere_386, dofs={Heave}, name=15_15_0): {'Heave': (-5532.209903194393-21856.816424337747j)}}"
      ]
     },
     "execution_count": 87,
     "metadata": {},
     "output_type": "execute_result"
    }
   ],
   "source": [
    "\n",
    "\n",
    "def solve_forces(diff,diff_res, rad_res,keep_details=True):\n",
    "    \n",
    "    \"\"\"\n",
    "    \"\"\"\n",
    "    diff_pot = diff_res.potential\n",
    "\n",
    "    rad_pot = rad_res.potential\n",
    "    potential =  diff_pot + rad_pot\n",
    "    rho = 1000\n",
    "    new_pressure = rho * potential\n",
    "    # Actually, for diffraction problems: pressure over jω\n",
    "    #           for radiation problems:   pressure over -ω²\n",
    "    # The correction is done in `store_force` in the `result` object.\n",
    "\n",
    "    new_forces = diff.body.integrate_pressure(new_pressure)\n",
    "\n",
    "    #         if not keep_details:\n",
    "    #             result = problem.make_results_container(new_forces)\n",
    "    #         else:\n",
    "    #             result = problem.make_results_container(new_forces, sources, new_potential, new_pressure)\n",
    "    return new_forces\n",
    "\n",
    "new_results = {loc_to_body.get(loc):solve_forces(diff_prob,diff_results[loc_to_body.get(loc)],\n",
    "                                                 rad_results[loc_to_body.get(loc)]) for loc,diff_prob in loc_diff.items()}\n",
    "new_results"
   ]
  },
  {
   "cell_type": "markdown",
   "id": "42369e08",
   "metadata": {},
   "source": [
    "Comparing that to the original results"
   ]
  },
  {
   "cell_type": "code",
   "execution_count": 88,
   "id": "30f6fe55",
   "metadata": {},
   "outputs": [
    {
     "data": {
      "text/plain": [
       "{FloatingBody(mesh=sphere_368, dofs={Heave}, name=10_10_0): {'Heave': (-8707.29214405837-14148.920007860754j)},\n",
       " FloatingBody(mesh=sphere_374, dofs={Heave}, name=0_0_0): {'Heave': (-51.97723490949254-504.30275454724193j)},\n",
       " FloatingBody(mesh=sphere_380, dofs={Heave}, name=5_5_0): {'Heave': (-6552.668727839911-5948.170816614101j)},\n",
       " FloatingBody(mesh=sphere_386, dofs={Heave}, name=15_15_0): {'Heave': (-5722.003368438647-22085.086607019854j)}}"
      ]
     },
     "execution_count": 88,
     "metadata": {},
     "output_type": "execute_result"
    }
   ],
   "source": [
    "starting_results = {loc_to_body.get(loc):solve_forces(diff_prob,diff_results_first_iter[loc_to_body.get(loc)],\n",
    "                                                 rad_results_first_iter[loc_to_body.get(loc)]) for loc,diff_prob in loc_diff.items()}\n",
    "starting_results"
   ]
  },
  {
   "cell_type": "markdown",
   "id": "c286326f",
   "metadata": {},
   "source": [
    "Somehow keep track of the delta and use the last one before it got less than 10e-2??"
   ]
  },
  {
   "cell_type": "code",
   "execution_count": null,
   "id": "33c09a57",
   "metadata": {},
   "outputs": [],
   "source": []
  },
  {
   "cell_type": "code",
   "execution_count": null,
   "id": "d9c6a328",
   "metadata": {},
   "outputs": [],
   "source": []
  },
  {
   "cell_type": "code",
   "execution_count": null,
   "id": "9365d0f2",
   "metadata": {},
   "outputs": [],
   "source": []
  }
 ],
 "metadata": {
  "kernelspec": {
   "display_name": "Python 3 (ipykernel)",
   "language": "python",
   "name": "python3"
  },
  "language_info": {
   "codemirror_mode": {
    "name": "ipython",
    "version": 3
   },
   "file_extension": ".py",
   "mimetype": "text/x-python",
   "name": "python",
   "nbconvert_exporter": "python",
   "pygments_lexer": "ipython3",
   "version": "3.11.4"
  }
 },
 "nbformat": 4,
 "nbformat_minor": 5
}

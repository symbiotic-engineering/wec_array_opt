{
 "cells": [
  {
   "cell_type": "code",
   "execution_count": 1,
   "metadata": {},
   "outputs": [],
   "source": [
    "\n",
    "import capytaine as cpt\n",
    "import numpy as np\n",
    "import matplotlib.pyplot as plt\n",
    "from capytaine.bem.airy_waves import airy_waves_potential, airy_waves_velocity, froude_krylov_force\n",
    "from capytaine.bem.solver import BEMSolver\n",
    "from capytaine.green_functions.delhommeau import Delhommeau\n",
    "from capytaine.bem.engines import BasicMatrixEngine\n",
    "from capytaine.bem.problems_and_results import RadiationProblem\n",
    "\n",
    "cpt.__version__ #requires version 2.0\n",
    "\n",
    "omega = 0.5\n",
    "rho = 1025\n",
    "a0 = 1\n",
    "wave_num =  (omega**2)/9.81"
   ]
  },
  {
   "cell_type": "code",
   "execution_count": 2,
   "metadata": {},
   "outputs": [],
   "source": [
    "def generate_body(xyz):\n",
    "    mesh1 = cpt.meshes.predefined.mesh_vertical_cylinder(radius=10, length=10, center=(xyz[0], xyz[1], xyz[2]))\n",
    "    body = cpt.FloatingBody(mesh1,\n",
    "                           cpt.rigid_body_dofs(rotation_center = mesh1.center_of_buoyancy),\n",
    "                            center_of_mass = mesh1.center_of_buoyancy)\n",
    "    body.add_translation_dof(name='Heave')\n",
    "    body = body.immersed_part()\n",
    "    body.keep_only_dofs(['Heave'])\n",
    "    body.name = f'{xyz[0]}_{xyz[1]}_{xyz[2]}'\n",
    "    return body"
   ]
  },
  {
   "cell_type": "code",
   "execution_count": 3,
   "metadata": {},
   "outputs": [
    {
     "data": {
      "image/png": "[encoded data removed]",
      "text/plain": [
       "<Figure size 640x480 with 1 Axes>"
      ]
     },
     "metadata": {},
     "output_type": "display_data"
    }
   ],
   "source": [
    "num_bodies = 2 #on each x, and y axis\n",
    "radius = 10 #update on generate_body as well\n",
    "distance = 4\n",
    "grid_range = num_bodies * distance\n",
    "x_coords,y_coords = np.arange(0,grid_range,distance),np.arange(0,grid_range,distance)\n",
    "X, Y = np.meshgrid(x_coords, y_coords)\n",
    "# Flatten the mesh grid coordinates\n",
    "x_flattened = X.flatten()\n",
    "y_flattened = Y.flatten()\n",
    "\n",
    "# Plot the scatter plot\n",
    "plt.scatter(x_flattened, y_flattened, color='blue')\n",
    "plt.xlabel('X')\n",
    "plt.ylabel('Y')\n",
    "plt.title('Scatter Plot of WEC Grid Points')\n",
    "plt.grid(True)\n",
    "plt.show()"
   ]
  },
  {
   "cell_type": "code",
   "execution_count": 4,
   "metadata": {},
   "outputs": [],
   "source": [
    "\n",
    "xyzees = {(0,0,0),(100,0,0)}\n",
    "#xyzees = {(x,y,0) for x,y in zip(x_flattened,y_flattened)}\n",
    "\n",
    "bodies = [generate_body(xyz) for xyz in xyzees ]\n",
    "body_to_loc = {body:xyz for xyz,body in zip(xyzees,bodies)}\n",
    "cache_engine = BasicMatrixEngine(matrix_cache_size=1)\n",
    "solver = cpt.BEMSolver(engine=cache_engine)\n"
   ]
  },
  {
   "cell_type": "code",
   "execution_count": 5,
   "metadata": {},
   "outputs": [],
   "source": [
    "\n",
    "\n",
    "def calculate_theta(I,J,wave_direction = 0): \n",
    "    x1,y1= I[0],I[1]\n",
    "    x2,y2 = J[0], J[1]\n",
    "    theta = np.arctan2((y2-y1),(x2-x1))\n",
    "    return theta\n",
    "\n",
    "\n",
    "def get_neighbors(xyzees):\n",
    "    neighbor = {xyz:[] for xyz in xyzees}\n",
    "    for xyz in xyzees:\n",
    "        for zyx in xyzees:\n",
    "            if not xyz == zyx:\n",
    "                neighbor[xyz].append(zyx)\n",
    "    return neighbor\n",
    "\n",
    "\n",
    "def get_unit_radiation_data(body,solver):\n",
    "    '''This function gives A(w) and B(w) for given body'''\n",
    "    #print(\"Getting the unit radiation data \")\n",
    "    radiationProblem = cpt.RadiationProblem(body = body, water_depth = np.infty,\n",
    "                                      omega=omega) \n",
    "    rsolved = solver.solve(radiationProblem)\n",
    "\n",
    "    dataset = cpt.assemble_dataset([rsolved])\n",
    "\n",
    "    inertia_matrix = body.compute_rigid_body_inertia().sel(\n",
    "    influenced_dof='Heave', radiating_dof='Heave'\n",
    "    ).values\n",
    "    stiffness = body.compute_hydrostatic_stiffness().sel( \n",
    "        influenced_dof='Heave', radiating_dof='Heave').values\n",
    "    added_mass =  dataset['added_mass'].sel(radiating_dof='Heave', influenced_dof='Heave').values.flatten()[0]\n",
    "    rad_data = {'A':added_mass,'B':dataset['radiation_damping'].values.flatten()[0],\n",
    "                'sigma_r':rsolved.sources,'potential':rsolved.potential,\n",
    "                'I':inertia_matrix, 'stiffness':stiffness,\n",
    "                'omega':omega}\n",
    "    \n",
    "\n",
    "    return rad_data\n",
    "\n",
    "def get_unit_diffraction_data(solver,bodyj,bodyi):\n",
    "    '''This function gives diffraction for given bodyi when interacting with bodyj\n",
    "      with theta_ij  '''\n",
    "   # print(f\"calculating Diffraction for {bodyi}\" and {bodyj})\n",
    "    theta_ij = calculate_theta(body_to_loc[bodyj], body_to_loc[bodyi]) #theta kj or ji?\n",
    "   # print(f\"for {body_to_loc[bodyj]} and {body_to_loc[bodyi]} is theta = {theta_ij}\")\n",
    "    #whats this when same body..solve regular diffraction\n",
    "    #F_e_i, S_i\n",
    "  \n",
    "    if theta_ij !=0:\n",
    "      #  print(\"theta for different ij body diffraction problem\")\n",
    "        diffProblem = cpt.DiffractionProblem(body= bodyi, water_depth = np.infty,\n",
    "                                        omega=omega, wave_direction = theta_ij ) \n",
    "    else:\n",
    "      #  print(\"theta for same body diffraction problem\")\n",
    "        diffProblem = cpt.DiffractionProblem(body= bodyi, water_depth = np.infty,\n",
    "                                        omega=omega, wave_direction = 0.0 ) \n",
    "   \n",
    "         \n",
    "    solved = solver.solve(diffProblem)\n",
    "    \n",
    "       \n",
    "    diff_data = {'Fe':solved.forces['Heave'] + froude_krylov_force(diffProblem)['Heave'] ,'sigma_d':solved.sources,\n",
    "                 'potential':solved.potential}\n",
    "       \n",
    "    return diff_data # for one body combo..run for all ij in main program #for body i\n",
    "\n",
    "\n",
    "# step 2\n",
    "# initialize a_ij as a piecewise function with  a_ij= a0 for same body and a_ij = 0 for j!=i.\n",
    "def init_pseudo_amplitude(bodyi,bodyj,a0 = 1):\n",
    "    bodyi_loc = body_to_loc[bodyi]\n",
    "    bodyj_loc = body_to_loc[bodyj]\n",
    "   \n",
    "    if bodyi_loc != bodyj_loc:\n",
    "        a_ij = 0\n",
    "    else:\n",
    "        a_ij = 1\n",
    "    return a_ij\n",
    "\n",
    "# step 3\n",
    "# Motion response\n",
    "def solve_motion_response(rad_unit_data,diff_unit_data_list,a_ij,bodies,bodyi):\n",
    "      #get unit dataset \n",
    "     #print(f\"for body {bodyi}\")\n",
    "     Mi = rad_unit_data['I'] \n",
    "     Ai  = rad_unit_data['A']\n",
    "     w = omega\n",
    "     Bi = rad_unit_data['B']\n",
    "     Ki = rad_unit_data['stiffness']\n",
    "     lhs = (w**2)*(-1*(Mi+ Ai)) + 1j* w *Bi + Ki # '-' or '+' ?\n",
    "     #print(f\"for the diff_list in solve motion is {diff_unit_data_list.keys()}\")\n",
    "     #print(lhs)\n",
    "     rhs = np.sum([a_ij[bodyj] * diff_unit_data_list[bodyj]['Fe'] for bodyj in bodies ])\n",
    "     \n",
    "     X_i = rhs/lhs\n",
    "     #print(f\"Calculating Xi value {X_i}\")\n",
    "     return X_i\n",
    "\n",
    "\n",
    "\n",
    "# Update incident waves amplitude \n",
    "\n",
    "\n",
    "def update_compute_potential(rad_unit_data_j, diff_unit_data_j,a_ij_list,X,bodyj,bodies,bodyi):\n",
    "    ''' only update the amplitude from neighbors'''\n",
    "    integrand_first = -1j* omega * rad_unit_data_j['sigma_r'] * X \n",
    "   # print(f\"value of integrand first in {integrand_first}\")\n",
    "    result = []\n",
    "    for bodyk in bodies:\n",
    "                if bodyk not in [bodyj,bodyi]:\n",
    "                   # print(f\"{body_to_loc[bodyj]} and {body_to_loc[bodyk]}==>  {a_ij_list[bodyk]}\")\n",
    "                    res = a_ij_list[bodyk] * diff_unit_data_j[bodyk]['sigma_d']\n",
    "                   # print(f\"value of both bodies before summing \\n {res}\")\n",
    "                    result.append(res)\n",
    "    \n",
    "   # print(result)\n",
    "    integrand_second = np.sum(np.array(result),axis = 0)\n",
    "    integrand = integrand_first + integrand_second\n",
    "    #print(f\"value of integrand second for {bodyj} is => {integrand_second}\")\n",
    "    # print(f\"value of integrand{integrand}\")\n",
    "    #transpose it?\n",
    "    integral = bodyj.mesh.surface_integral(integrand)\n",
    "    #print(f\"Integral by compute_potential {bodyj} is \\n {integral}\") # this is a scalar representing a potential at the centre\n",
    "    return (-1/(4*np.pi))* integral\n",
    "\n",
    "def check_convergence(a_ij,prev_aij): #check delta a_ij?\n",
    "    a_ij_all  = np.array([a_ij[bodyi][bodyj] - prev_aij[bodyi][bodyj]  for bodyi in bodies for bodyj in bodies])\n",
    "    return np.all(np.abs(a_ij_all)<=0.001)\n",
    "\n",
    "\n",
    "\n"
   ]
  },
  {
   "attachments": {},
   "cell_type": "markdown",
   "metadata": {},
   "source": [
    "### Update here to change the number and spacing of bodies"
   ]
  },
  {
   "attachments": {},
   "cell_type": "markdown",
   "metadata": {},
   "source": [
    "### Algorithm by Babarit \n",
    "1) Solve radiation problem for each body - radiation only involves the body itself like the definition\n",
    "2) Solve the diffraction problem of the body and its effect on other bodies when the waves diffract\n",
    "3) Initialize the starting amplitude for the pseudo plane waves\n"
   ]
  },
  {
   "cell_type": "code",
   "execution_count": 6,
   "metadata": {},
   "outputs": [
    {
     "name": "stdout",
     "output_type": "stream",
     "text": [
      "updates a_i_list {FloatingBody(mesh=cylinder_0, dofs={Heave}, name=100_0_0): {FloatingBody(mesh=cylinder_0, dofs={Heave}, name=100_0_0): 1, FloatingBody(mesh=cylinder_6, dofs={Heave}, name=0_0_0): (0.19558277509543953+0.08816115068660699j)}, FloatingBody(mesh=cylinder_6, dofs={Heave}, name=0_0_0): {FloatingBody(mesh=cylinder_0, dofs={Heave}, name=100_0_0): (0.15507915025116814-0.14824124784214238j), FloatingBody(mesh=cylinder_6, dofs={Heave}, name=0_0_0): 1}}\n",
      "step======================== \n",
      " \n",
      " 1\n",
      "updates a_i_list {FloatingBody(mesh=cylinder_0, dofs={Heave}, name=100_0_0): {FloatingBody(mesh=cylinder_0, dofs={Heave}, name=100_0_0): 1, FloatingBody(mesh=cylinder_6, dofs={Heave}, name=0_0_0): (0.23898270464998742+0.07283967238367416j)}, FloatingBody(mesh=cylinder_6, dofs={Heave}, name=0_0_0): {FloatingBody(mesh=cylinder_0, dofs={Heave}, name=100_0_0): (0.19847907980571597-0.16356272614507517j), FloatingBody(mesh=cylinder_6, dofs={Heave}, name=0_0_0): 1}}\n",
      "step======================== \n",
      " \n",
      " 2\n",
      "updates a_i_list {FloatingBody(mesh=cylinder_0, dofs={Heave}, name=100_0_0): {FloatingBody(mesh=cylinder_0, dofs={Heave}, name=100_0_0): 1, FloatingBody(mesh=cylinder_6, dofs={Heave}, name=0_0_0): (0.24882174246861888+0.07366924286786863j)}, FloatingBody(mesh=cylinder_6, dofs={Heave}, name=0_0_0): {FloatingBody(mesh=cylinder_0, dofs={Heave}, name=100_0_0): (0.2029382289395827-0.17237242769431294j), FloatingBody(mesh=cylinder_6, dofs={Heave}, name=0_0_0): 1}}\n",
      "step======================== \n",
      " \n",
      " 3\n",
      "updates a_i_list {FloatingBody(mesh=cylinder_0, dofs={Heave}, name=100_0_0): {FloatingBody(mesh=cylinder_0, dofs={Heave}, name=100_0_0): 1, FloatingBody(mesh=cylinder_6, dofs={Heave}, name=0_0_0): (0.2504705486565713+0.07233934070983096j)}, FloatingBody(mesh=cylinder_6, dofs={Heave}, name=0_0_0): {FloatingBody(mesh=cylinder_0, dofs={Heave}, name=100_0_0): (0.2045870351275353-0.1737023298523506j), FloatingBody(mesh=cylinder_6, dofs={Heave}, name=0_0_0): 1}}\n",
      "step======================== \n",
      " \n",
      " 4\n",
      "updates a_i_list {FloatingBody(mesh=cylinder_0, dofs={Heave}, name=100_0_0): {FloatingBody(mesh=cylinder_0, dofs={Heave}, name=100_0_0): 1, FloatingBody(mesh=cylinder_6, dofs={Heave}, name=0_0_0): (0.25091027245095887+0.07222459540594568j)}, FloatingBody(mesh=cylinder_6, dofs={Heave}, name=0_0_0): {FloatingBody(mesh=cylinder_0, dofs={Heave}, name=100_0_0): (0.2046455842346763-0.17415299103568818j), FloatingBody(mesh=cylinder_6, dofs={Heave}, name=0_0_0): 1}}\n",
      "step======================== \n",
      " \n",
      " 5\n",
      "the loop has succesfully converged? True\n"
     ]
    }
   ],
   "source": [
    "\n",
    "unit_diffraction_data_list = {bodyi:{bodyj:get_unit_diffraction_data(solver,bodyj,bodyi)\n",
    "                               for bodyj in bodies} for bodyi in bodies}\n",
    "unit_rad_data_list = {body:get_unit_radiation_data(body,solver) for body in bodies}\n",
    "\n",
    "\n",
    "a_ij_list = {bodyi:{bodyj:init_pseudo_amplitude(bodyi,bodyj) for bodyj in bodies}  for bodyi in bodies}\n",
    "\n",
    "#print(a_ij_list)\n",
    "converged = False\n",
    "\n",
    "\n",
    "count = 0\n",
    "while (not converged):\n",
    "  X_i_list = {body:solve_motion_response(unit_rad_data_list[body],\n",
    "                                                  unit_diffraction_data_list[body],a_ij_list[body],\n",
    "                                                  bodies,body) \n",
    "                                                    for body in bodies}\n",
    "\n",
    "  new_phi_ij = {bodyi:{bodyj: update_compute_potential(unit_rad_data_list[bodyj],\n",
    "                                                    unit_diffraction_data_list[bodyj],\n",
    "                                                    a_ij_list[bodyj],\n",
    "                                                    X_i_list[bodyj],\n",
    "                                                    bodyj,bodies,bodyi) if bodyi!=bodyj else 0 for bodyj in bodies} \n",
    "                                                    for bodyi in bodies }\n",
    "  #including x-xj\n",
    " #print (\"Phi_ij list\")\n",
    "  #print(new_phi_ij)\n",
    "  e_stuff = {bodyi: {bodyj:(np.exp(1j*wave_num*((body_to_loc[bodyi][0])*np.cos(calculate_theta(body_to_loc[bodyj],body_to_loc[bodyi])) + \n",
    "                                                      (body_to_loc[bodyi][1])*np.sin(calculate_theta(body_to_loc[bodyj],body_to_loc[bodyi]))\n",
    "                                                        ))) for bodyj in bodies} \n",
    "                                                        for bodyi in bodies}\n",
    "\n",
    "#- body_to_loc[bodyj][0]\n",
    "  prev_aij_list = a_ij_list\n",
    "  a_ij_list = {bodyi: {bodyj:new_phi_ij[bodyi][bodyj]*omega/(e_stuff[bodyi][bodyj]*9.8)  if bodyi!=bodyj else 1 for bodyj in bodies} \n",
    "                                                        for bodyi in bodies }\n",
    "  # check a_ij < 10^(-3)\n",
    "  print(f\"updates a_i_list {a_ij_list}\")\n",
    "\n",
    "  count += 1\n",
    "  converged = check_convergence(a_ij_list,prev_aij_list)\n",
    "  \n",
    "  print(f\"step======================== \\n \\n {count}\")\n",
    " \n",
    " \n",
    "print(f\"the loop has succesfully converged? {converged}\")\n"
   ]
  },
  {
   "attachments": {},
   "cell_type": "markdown",
   "metadata": {},
   "source": [
    "So now do we sum all the phi_ij from other body to a body and itself without interaction and use that to solve for the added mass and such?"
   ]
  },
  {
   "cell_type": "code",
   "execution_count": 7,
   "metadata": {},
   "outputs": [
    {
     "data": {
      "text/plain": [
       "{FloatingBody(mesh=cylinder_0, dofs={Heave}, name=100_0_0): [(-4.869046935249037+1.5752696939260096j)],\n",
       " FloatingBody(mesh=cylinder_6, dofs={Heave}, name=0_0_0): [(4.011053450999656-3.4133986242994885j)]}"
      ]
     },
     "execution_count": 7,
     "metadata": {},
     "output_type": "execute_result"
    }
   ],
   "source": [
    "def get_total_each_body(result_dict, bodies):\n",
    "    res_each_bodies = {body:[] for body in bodies}\n",
    "    for bodyi,neighbor in result_dict.items():\n",
    "        for bodyj,res in neighbor.items():\n",
    "            if bodyi!=bodyj:\n",
    "                res_each_bodies[bodyi].append(res)\n",
    "    return res_each_bodies\n",
    "\n",
    "phi_each_bodies = get_total_each_body(new_phi_ij,bodies)\n",
    "\n",
    "\n",
    "phi_each_bodies "
   ]
  },
  {
   "cell_type": "code",
   "execution_count": 8,
   "metadata": {},
   "outputs": [],
   "source": [
    "diff_problems = {body:cpt.DiffractionProblem(body=body, water_depth = np.infty,\n",
    "                                      omega=omega, wave_direction=0.) for body in bodies}\n",
    "\n",
    "rad_problems = {body: cpt.RadiationProblem(body=body, water_depth = np.infty,\n",
    "                                      omega=omega) for body in bodies}\n",
    "\n",
    "diff_results = {body:solver.solve(problem) for body,problem in diff_problems.items()}\n",
    "rad_results = {body:solver.solve(problem) for body,problem in rad_problems.items()}\n",
    "\n"
   ]
  },
  {
   "cell_type": "code",
   "execution_count": 9,
   "metadata": {},
   "outputs": [
    {
     "data": {
      "text/plain": [
       "{FloatingBody(mesh=cylinder_0, dofs={Heave}, name=100_0_0): (-4.869046935249037+1.5752696939260096j),\n",
       " FloatingBody(mesh=cylinder_6, dofs={Heave}, name=0_0_0): (4.011053450999656-3.4133986242994885j)}"
      ]
     },
     "execution_count": 9,
     "metadata": {},
     "output_type": "execute_result"
    }
   ],
   "source": [
    "body_total_phi = {body:np.sum(np.array(phi_each_bodies[body])) for body in phi_each_bodies.keys()}\n",
    "# + diff_results[body].potential\n",
    "\n",
    "body_total_phi"
   ]
  },
  {
   "cell_type": "code",
   "execution_count": 10,
   "metadata": {},
   "outputs": [
    {
     "data": {
      "text/plain": [
       "{FloatingBody(mesh=cylinder_0, dofs={Heave}, name=100_0_0): {'Heave': (-1701518.8185502454+852772.2381792255j)},\n",
       " FloatingBody(mesh=cylinder_6, dofs={Heave}, name=0_0_0): {'Heave': (3364808.885218418+573176.7397448362j)}}"
      ]
     },
     "execution_count": 10,
     "metadata": {},
     "output_type": "execute_result"
    }
   ],
   "source": [
    "#usual_potential = {body:diff_results[body].potential for body in bodies}\n",
    "\n",
    "def solve(body,PhiPwa,phiD,phiR,phiI):\n",
    "    total_phi = PhiPwa + phiD + phiR + phiI\n",
    "    pressure = 1j * omega * rho * total_phi\n",
    "    force = body.integrate_pressure(pressure)\n",
    "    return force\n",
    "\n",
    "phi_Indv = {body:airy_waves_potential(np.array(body_to_loc[body]),diff_problems[body]) for body in bodies}\n",
    "\n",
    "body_force = {body:solve(body,body_total_phi[body], \n",
    "                         unit_diffraction_data_list[body][body]['potential'],\n",
    "                         unit_rad_data_list[body]['potential'], phi_Indv[body]\n",
    "                         ) for body in  bodies}\n",
    "# + diff_results[body].potential\n",
    "\n",
    "body_force\n"
   ]
  },
  {
   "attachments": {},
   "cell_type": "markdown",
   "metadata": {},
   "source": [
    "#### Solving single separately to compare the results\n"
   ]
  },
  {
   "attachments": {},
   "cell_type": "markdown",
   "metadata": {},
   "source": [
    "### Solving combined (by joining) to compare the results "
   ]
  },
  {
   "cell_type": "code",
   "execution_count": 11,
   "metadata": {},
   "outputs": [],
   "source": [
    "# Combine the two individual bodies into a single body.\n",
    "all_bodies =  bodies[0].join_bodies(*bodies[1:])\n",
    "all_bodies.keep_immersed_part()\n",
    "\n",
    "# The merged body can be used to define the problems in the usual way\n",
    "problems = [cpt.RadiationProblem(body=all_bodies, radiating_dof=dof, omega=1.0) for dof in all_bodies.dofs]\n",
    "problems = [cpt.DiffractionProblem(body=all_bodies, wave_direction=0.0, omega=omega)]\n",
    "\n",
    "# Solves the problem\n",
    "solver = cpt.BEMSolver()\n",
    "results_all_bodies = [solver.solve(problem) for problem in problems]\n"
   ]
  },
  {
   "cell_type": "markdown",
   "metadata": {},
   "source": [
    "### Excitation force for all bodies when Joined"
   ]
  },
  {
   "cell_type": "code",
   "execution_count": 12,
   "metadata": {},
   "outputs": [
    {
     "data": {
      "text/plain": [
       "(1940936.4072283448-80733.40076351748j)"
      ]
     },
     "execution_count": 12,
     "metadata": {},
     "output_type": "execute_result"
    }
   ],
   "source": [
    "theoretical_joint = results_all_bodies[0].forces['0_0_0__Heave'] + froude_krylov_force(problems[0])['0_0_0__Heave']\n",
    "theoretical_joint"
   ]
  },
  {
   "cell_type": "markdown",
   "metadata": {},
   "source": [
    "##### excitation force for a individual body"
   ]
  },
  {
   "cell_type": "code",
   "execution_count": 13,
   "metadata": {},
   "outputs": [
    {
     "data": {
      "text/plain": [
       "(2003976.973441435-116853.7610143722j)"
      ]
     },
     "execution_count": 13,
     "metadata": {},
     "output_type": "execute_result"
    }
   ],
   "source": [
    "#print(bodies) - second one is the 0_0_0\n",
    "single_body = diff_results[bodies[1]].forces ['Heave']  + froude_krylov_force(diff_problems[bodies[1]])['Heave']\n",
    "single_body"
   ]
  },
  {
   "cell_type": "markdown",
   "metadata": {},
   "source": [
    "### PWA approximation  gets very close to the theoretical one..\n",
    "\n",
    "the difference between two approximation"
   ]
  },
  {
   "cell_type": "code",
   "execution_count": 14,
   "metadata": {},
   "outputs": [
    {
     "data": {
      "text/plain": [
       "97.973975523436"
      ]
     },
     "execution_count": 14,
     "metadata": {},
     "output_type": "execute_result"
    }
   ],
   "source": [
    "np.abs(body_force[bodies[0]]['Heave'])/np.abs(theoretical_joint) * 100 #np.abs takes the magnitude of complex excitation force"
   ]
  },
  {
   "cell_type": "markdown",
   "metadata": {},
   "source": [
    "% of the interaction is captured by PWA at that distance?"
   ]
  },
  {
   "cell_type": "code",
   "execution_count": null,
   "metadata": {},
   "outputs": [],
   "source": []
  },
  {
   "cell_type": "code",
   "execution_count": null,
   "metadata": {},
   "outputs": [],
   "source": []
  }
 ],
 "metadata": {
  "kernelspec": {
   "display_name": "WEC_array",
   "language": "python",
   "name": "python3"
  },
  "language_info": {
   "codemirror_mode": {
    "name": "ipython",
    "version": 3
   },
   "file_extension": ".py",
   "mimetype": "text/x-python",
   "name": "python",
   "nbconvert_exporter": "python",
   "pygments_lexer": "ipython3",
   "version": "3.11.4"
  },
  "orig_nbformat": 4
 },
 "nbformat": 4,
 "nbformat_minor": 2
}

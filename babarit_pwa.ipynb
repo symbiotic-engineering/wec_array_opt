{
 "cells": [
  {
   "cell_type": "code",
   "execution_count": 101,
   "metadata": {},
   "outputs": [],
   "source": [
    "\n",
    "import capytaine as cpt\n",
    "import numpy as np\n",
    "import matplotlib.pyplot as plt\n",
    "from capytaine.bem.airy_waves import airy_waves_potential, airy_waves_velocity, froude_krylov_force\n",
    "from capytaine.bem.solver import BEMSolver\n",
    "from capytaine.green_functions.delhommeau import Delhommeau\n",
    "from capytaine.bem.engines import BasicMatrixEngine\n",
    "from capytaine.bem.problems_and_results import RadiationProblem\n",
    "\n",
    "cpt.__version__ #get_potential_on_mesh if not version 2.0\n",
    "\n",
    "\n",
    "\n",
    "omega = 0.1\n",
    "rho = 1000# density of our special material\n",
    "a0 = 1\n",
    "wave_num =  (omega**2)/9.81"
   ]
  },
  {
   "cell_type": "code",
   "execution_count": 102,
   "metadata": {},
   "outputs": [],
   "source": [
    "def generate_body(xyz):\n",
    "    mesh1 = cpt.meshes.predefined.mesh_vertical_cylinder(radius=2, length=2, center=(xyz[0], xyz[1], xyz[2]))\n",
    "    body = cpt.FloatingBody(mesh1,\n",
    "                           cpt.rigid_body_dofs(rotation_center = mesh1.center_of_buoyancy),\n",
    "                            center_of_mass = mesh1.center_of_buoyancy)\n",
    "    body.add_translation_dof(name='Heave')\n",
    "    body = body.immersed_part()\n",
    "    body.name = f'{xyz[0]}_{xyz[1]}_{xyz[2]}'\n",
    "    return body"
   ]
  },
  {
   "cell_type": "code",
   "execution_count": 103,
   "metadata": {},
   "outputs": [
    {
     "data": {
      "image/png": "[encoded data removed]",
      "text/plain": [
       "<Figure size 640x480 with 1 Axes>"
      ]
     },
     "metadata": {},
     "output_type": "display_data"
    }
   ],
   "source": [
    "num_bodies = 2 #on each x, and y axis\n",
    "radius = 2 #update on generate_body as well\n",
    "distance = 4\n",
    "grid_range = num_bodies * distance\n",
    "x_coords,y_coords = np.arange(0,grid_range,distance),np.arange(0,grid_range,distance)\n",
    "X, Y = np.meshgrid(x_coords, y_coords)\n",
    "# Flatten the mesh grid coordinates\n",
    "x_flattened = X.flatten()\n",
    "y_flattened = Y.flatten()\n",
    "\n",
    "# Plot the scatter plot\n",
    "plt.scatter(x_flattened, y_flattened, color='blue')\n",
    "plt.xlabel('X')\n",
    "plt.ylabel('Y')\n",
    "plt.title('Scatter Plot of WEC Grid Points')\n",
    "plt.grid(True)\n",
    "plt.show()"
   ]
  },
  {
   "cell_type": "code",
   "execution_count": 104,
   "metadata": {},
   "outputs": [
    {
     "data": {
      "text/plain": [
       "4"
      ]
     },
     "execution_count": 104,
     "metadata": {},
     "output_type": "execute_result"
    }
   ],
   "source": [
    "#iterate\n",
    "\n",
    "xyzees = {(x,y,0) for x,y in zip(x_flattened,y_flattened)}\n",
    "#if using more bodies from above\n",
    "#xyzees = {(x,y,0) for x,y in zip(x_flattened,y_flattened)}\n",
    "#print(xyzees)\n",
    "    \n",
    "bodies = [generate_body(xyz) for xyz in xyzees ]\n",
    "body_to_loc = {body:xyz for xyz,body in zip(xyzees,bodies)}\n",
    "\n",
    "cache_engine = BasicMatrixEngine(matrix_cache_size=1)\n",
    "\n",
    "solver = cpt.BEMSolver(engine=cache_engine)\n",
    "\n",
    "\n",
    "body_to_loc[bodies[0]][0]"
   ]
  },
  {
   "cell_type": "code",
   "execution_count": 105,
   "metadata": {},
   "outputs": [],
   "source": [
    "\n",
    "\n",
    "def calculate_theta(X,Y,wave_direction = 0): \n",
    "    x1,y1= X[0],X[1]\n",
    "    x2,y2 = Y[0], Y[1]\n",
    "    \n",
    "    if x1 ==x2 and y1==y2: # if samee body then should be wave direction for the diffraction\n",
    "        return wave_direction\n",
    "    if x2==x1:\n",
    "        theta = np.pi/2\n",
    "    else:\n",
    "        theta = np.arctan2((y2-y1),(x2-x1))\n",
    "    return theta\n",
    "\n",
    "\n",
    "def get_neighbors(xyzees):\n",
    "    neighbor = {xyz:[] for xyz in xyzees}\n",
    "    for xyz in xyzees:\n",
    "        for zyx in xyzees:\n",
    "            if not xyz == zyx:\n",
    "                neighbor[xyz].append(zyx)\n",
    "    return neighbor\n",
    "\n",
    "\n",
    "def get_unit_radiation_data(body,solver):\n",
    "    '''This function gives A(w) and B(w) for given body'''\n",
    "    radiationProblem = cpt.RadiationProblem(body = body, water_depth = np.infty,\n",
    "                                      omega=omega) \n",
    "    solved = solver.solve(radiationProblem)\n",
    "    dataset = cpt.assemble_dataset([solved])\n",
    "    inertia_matrix = body.compute_rigid_body_inertia().sel(\n",
    "    influenced_dof='Heave', radiating_dof='Heave'\n",
    "    ).values\n",
    "  \n",
    "    stiffness = body.compute_hydrostatic_stiffness().sel( \n",
    "        influenced_dof='Heave', radiating_dof='Heave').values\n",
    "    \n",
    "   \n",
    "    rad_data = {'A':dataset['added_mass'].values.flatten()[0],'B':dataset['radiation_damping'].values.flatten()[0],\n",
    "                'sigma_r':solved.sources,\n",
    "                'I':inertia_matrix, 'stiffness':stiffness,\n",
    "                'omega':dataset['omega']}\n",
    "    return rad_data\n",
    "\n",
    "def get_unit_diffraction_data(solver,bodyj,bodyi):\n",
    "    '''This function gives A(w) and B(w) for given body. \n",
    "    There is one more loop inside this function. \n",
    "    body '''\n",
    "    theta_ij = calculate_theta(body_to_loc[bodyj], body_to_loc[bodyi]) \n",
    "    #F_e_i, S_i\n",
    "    diffProblem = cpt.DiffractionProblem(body= bodyi, water_depth = np.infty,\n",
    "                                        omega=omega, wave_direction = theta_ij ) \n",
    "    solved = solver.solve(diffProblem)\n",
    "       \n",
    "    diff_data = {'Fe':solved.forces['Heave'],'sigma_d':solved.sources}\n",
    "       \n",
    "    return diff_data # for one body combo..run for all ij in main program #for body i\n",
    "\n",
    "\n",
    "# step 2\n",
    "# initialize a_ij as a piecewise function with  a_ij= a0 for same body and a_ij = 0 for j!=i.\n",
    "def init_pseudo_amplitude(bodyi_loc,bodyj_loc,a0 = 1):\n",
    "    if bodyi_loc == bodyj_loc:\n",
    "        a_ij = a0\n",
    "    else:\n",
    "        a_ij = 0\n",
    "    return a_ij\n",
    "\n",
    "# step 3\n",
    "# Motion response\n",
    "def solve_motion_response(rad_unit_data,diff_unit_data_list,a_ij,bodies):\n",
    "      #get unit dataset \n",
    "     lhs = np.array([((-rad_unit_data['omega']**2)*(rad_unit_data['I'] + rad_unit_data['A'])\n",
    "         - 1j*-rad_unit_data['omega']*rad_unit_data['B']\n",
    "         + rad_unit_data['stiffness'])])\n",
    "     rhs = np.sum([a_ij[bodyj] * diff_unit_data_list[bodyj]['Fe'] for bodyj in bodies])\n",
    "     X_i = rhs/lhs\n",
    "     return X_i\n",
    "\n",
    "\n",
    "\n",
    "# Update incident waves amplitude \n",
    "\n",
    "\n",
    "def update_compute_potential(rad_unit_data, diff_unit_data,a_ij_list,X,bodyj,bodies,bodyi):\n",
    "    ''' only update the amplitude from neighbors'''\n",
    "    integrand_first = -1j*rad_unit_data['omega'].values * rad_unit_data['sigma_r'] * X \n",
    "  \n",
    "    result = []\n",
    "    for bodyk in bodies:\n",
    "                if bodyk!=bodyj:\n",
    "                    res = a_ij_list[bodyk] * diff_unit_data[bodyk]['sigma_d']\n",
    "                    result.append(res)\n",
    "    integrand_second = np.sum(np.array(result),axis = 0)\n",
    "    integrand = integrand_first +  integrand_second\n",
    "    integral = -1*(1/(4*np.pi)) * bodyj.mesh.surface_integral(integrand)\n",
    "    #print(integral.shape) # this is a scalar representing a potential at the centre\n",
    "    return integral\n",
    "\n",
    "def check_convergence(a_ij):\n",
    "    a_ij_all  = np.array([a_ij[bodyi][bodyj] for bodyi in bodies for bodyj in bodies])\n",
    "    return np.all(np.abs(a_ij_all)<=0.001)\n",
    "\n",
    "\n",
    "\n"
   ]
  },
  {
   "attachments": {},
   "cell_type": "markdown",
   "metadata": {},
   "source": [
    "### Update here to change the number and spacing of bodies"
   ]
  },
  {
   "attachments": {},
   "cell_type": "markdown",
   "metadata": {},
   "source": [
    "### Algorithm by Babarit \n",
    "1) Solve radiation problem for each body - radiation only involves the body itself like the definition\n",
    "2) Solve the diffraction problem of the body and its effect on other bodies when the waves diffract\n",
    "3) Initialize the starting amplitude for the pseudo plane waves\n"
   ]
  },
  {
   "cell_type": "code",
   "execution_count": 117,
   "metadata": {},
   "outputs": [
    {
     "name": "stdout",
     "output_type": "stream",
     "text": [
      "the loop has succesfully converged? True\n"
     ]
    }
   ],
   "source": [
    "\n",
    "unit_diffraction_data_list = {bodyi:{bodyj:get_unit_diffraction_data(solver,bodyj,bodyi)\n",
    "                               for bodyj in bodies} for bodyi in bodies}\n",
    "unit_rad_data_list = {bodyi:get_unit_radiation_data(bodyi,solver) for bodyi in bodies}\n",
    "\n",
    "\n",
    "a_ij_list = {bodyi:{bodyj:init_pseudo_amplitude(body_to_loc[bodyi],body_to_loc[bodyj]) for bodyj in bodies} for bodyi in bodies}\n",
    "converged = False\n",
    "count = 0\n",
    "while count < 2*(len(xyzees)) :\n",
    "  X_i_list = {body:solve_motion_response(unit_rad_data_list[body],\n",
    "                                                  unit_diffraction_data_list[body],a_ij_list[body],\n",
    "                                                  bodies)\n",
    "                                                    for body in bodies}\n",
    "\n",
    "  new_phi_ij = {bodyi:{bodyj: update_compute_potential(unit_rad_data_list[bodyj],\n",
    "                                                    unit_diffraction_data_list[bodyj],\n",
    "                                                    a_ij_list[bodyj],\n",
    "                                                    X_i_list[bodyj],\n",
    "                                                    bodyj,bodies,bodyi) for bodyj in bodies} \n",
    "                                                    for bodyi in bodies }\n",
    "  #including x-xj\n",
    "  # e_stuff = {bodyi: {bodyj:(np.exp(1j*wave_num*(body_to_loc[bodyi][0]*np.cos(calculate_theta(body_to_loc[bodyj],body_to_loc[bodyi])) + \n",
    "  #                                                     body_to_loc[bodyi][1]*np.sin(calculate_theta(body_to_loc[bodyj],body_to_loc[bodyi]))\n",
    "  #                                                       ))) for bodyj in bodies} \n",
    "  #                                                       for bodyi in bodies}\n",
    "\n",
    "#- body_to_loc[bodyj][0]\n",
    " \n",
    "  a_ij_list = {bodyi: {bodyj:new_phi_ij[bodyi][bodyj]/(np.exp(1j*wave_num*((body_to_loc[bodyj][0])*np.cos(calculate_theta(body_to_loc[bodyj],body_to_loc[bodyi])) + \n",
    "                                                     ( body_to_loc[bodyj][1])*np.sin(calculate_theta(body_to_loc[bodyj],body_to_loc[bodyi]))\n",
    "                                                        ))) for bodyj in bodies} \n",
    "                                                        for bodyi in bodies}\n",
    "  \n",
    "  # check a_ij < 10^(-3)\n",
    "  count += 1\n",
    "  converged = check_convergence(a_ij_list)\n",
    "  \n",
    "  \n",
    "\n",
    " \n",
    "print(f\"the loop has succesfully converged? {converged}\")\n"
   ]
  },
  {
   "cell_type": "code",
   "execution_count": 118,
   "metadata": {},
   "outputs": [
    {
     "name": "stdout",
     "output_type": "stream",
     "text": [
      "16 amplitude is less than 1e-3 out of  16 total\n"
     ]
    }
   ],
   "source": [
    "#update pseudo incident waves amplitudes\n",
    "\n",
    "#a_ij values are supposed to be smaller each iteration\n",
    "amplitude_all = []\n",
    "for bodyi,neighbor in a_ij_list.items():\n",
    "    for bodyj,amplitude in neighbor.items():\n",
    "        amplitude_all.append(amplitude)\n",
    "#print(f\"only {np.sum(np.array(amplitude_all)==1.0)} amplitude is equal 1 from {len(amplitude_all)}\")\n",
    "#there should be at least 4 amplitude that is 1 which is not supposed to be updated.\n",
    "print(f\"{np.sum(np.array(np.abs(amplitude_all))<=1e-3)} amplitude is less than 1e-3 out of  {len(amplitude_all)} total\")"
   ]
  },
  {
   "attachments": {},
   "cell_type": "markdown",
   "metadata": {},
   "source": [
    "So now do we sum all the phi_ij from other body to a body and itself without interaction and use that to solve for the added mass and such?"
   ]
  },
  {
   "cell_type": "code",
   "execution_count": null,
   "metadata": {},
   "outputs": [],
   "source": [
    "def get_total_each_body(result_dict, bodies):\n",
    "    res_each_bodies = {body:[] for body in bodies}\n",
    "    for bodyi,neighbor in result_dict.items():\n",
    "        for bodyj,res in neighbor.items():\n",
    "            res_each_bodies[bodyi].append(res)\n",
    "    return res_each_bodies\n",
    "\n",
    "phi_each_bodies = get_total_each_body(new_phi_ij,bodies)\n",
    "\n",
    "\n"
   ]
  },
  {
   "cell_type": "code",
   "execution_count": 120,
   "metadata": {},
   "outputs": [],
   "source": [
    "diff_problems = {body:cpt.DiffractionProblem(body=body, water_depth = np.infty,\n",
    "                                      omega=omega, wave_direction=0.) for body in bodies}\n",
    "\n",
    "rad_problems = {body: cpt.RadiationProblem(body=body, water_depth = np.infty,\n",
    "                                      omega=omega) for body in bodies}\n",
    "\n",
    "diff_results = {body:solver.solve(problem) for body,problem in diff_problems.items()}\n",
    "rad_results = {body:solver.solve(problem) for body,problem in rad_problems.items()}"
   ]
  },
  {
   "cell_type": "code",
   "execution_count": 121,
   "metadata": {},
   "outputs": [],
   "source": [
    "body_total_phi = {body:np.sum(np.array(phi_each_bodies[body])) for body in phi_each_bodies.keys()}\n",
    "# + diff_results[body].potential"
   ]
  },
  {
   "cell_type": "code",
   "execution_count": 122,
   "metadata": {},
   "outputs": [],
   "source": [
    "#usual_potential = {body:diff_results[body].potential for body in bodies}\n"
   ]
  },
  {
   "attachments": {},
   "cell_type": "markdown",
   "metadata": {},
   "source": [
    "#### Solving single separately to compare the results\n"
   ]
  },
  {
   "cell_type": "code",
   "execution_count": 123,
   "metadata": {},
   "outputs": [
    {
     "data": {
      "text/plain": [
       "{FloatingBody(mesh=cylinder_174, dofs={Surge, Sway, Heave, Roll, Pitch, Yaw}, name=4_4_0): (-2.321192384350799e-22-5.669313056683448e-24j),\n",
       " FloatingBody(mesh=cylinder_180, dofs={Surge, Sway, Heave, Roll, Pitch, Yaw}, name=0_0_0): (-2.3211923843507993e-22-5.669313056683449e-24j),\n",
       " FloatingBody(mesh=cylinder_186, dofs={Surge, Sway, Heave, Roll, Pitch, Yaw}, name=0_4_0): (-2.3211923843507993e-22-5.669313056683449e-24j),\n",
       " FloatingBody(mesh=cylinder_192, dofs={Surge, Sway, Heave, Roll, Pitch, Yaw}, name=4_0_0): (-2.321192384350799e-22-5.669313056683449e-24j)}"
      ]
     },
     "execution_count": 123,
     "metadata": {},
     "output_type": "execute_result"
    }
   ],
   "source": [
    "def solve(body,potential,omega):\n",
    "        \n",
    "        \"\"\"Solve the linear potential flow problem.\n",
    "        Parameters\n",
    "        ----------\n",
    "      diff results without interactions\n",
    "        Returns\n",
    "        -------\n",
    "        LinearPotentialFlowResult\n",
    "            an object storing the problem data and its results\n",
    "        \"\"\"\n",
    "        rho = 1000\n",
    "        new_pressure = 1j * rho * potential * omega\n",
    "        #new_pressure = [new_pressure for i in  range(56)]\n",
    "      \n",
    "        forces = body.integrate_pressure(new_pressure)['Heave']\n",
    "        return forces\n",
    "# + solver.solve(diff_problems[body]).forces['Heave'] \n",
    "total_result = {body:solve(body,phi,omega)for body,phi in body_total_phi.items()}\n",
    "total_result\n",
    "    "
   ]
  },
  {
   "attachments": {},
   "cell_type": "markdown",
   "metadata": {},
   "source": [
    "### Solving combined (by joining) to compare the results "
   ]
  },
  {
   "cell_type": "code",
   "execution_count": 124,
   "metadata": {},
   "outputs": [
    {
     "name": "stdout",
     "output_type": "stream",
     "text": [
      "{'4_4_0__Surge': (-22.94429709841562-57.244163294930104j), '4_4_0__Sway': (-23.280979039684514+6.858035331673889j), '4_4_0__Heave': (-272.3149762286837+21.345557185227896j), '4_4_0__Roll': (3.8284992954197454+0.10526999287234062j), '4_4_0__Pitch': (-3.8721606195618845+8.450295468567674j), '4_4_0__Yaw': (-3.77860565002609e-14+1.0375055632217947e-14j), '0_0_0__Surge': (23.17752609856291-57.15104272434692j), '0_0_0__Sway': (23.252823707162715+6.951995820953709j), '0_0_0__Heave': (-272.2167660134676-26.821404016639697j), '0_0_0__Roll': (-3.828897014049049+0.08980874315519394j), '0_0_0__Pitch': (3.8376741457071653+8.465863626599685j), '0_0_0__Yaw': (9.152774556569857e-16+1.2130916622149387e-14j), '0_4_0__Surge': (23.1775260985629-57.151042724346965j), '0_4_0__Sway': (-23.2528237071627-6.951995820953709j), '0_4_0__Heave': (-272.2167660134676-26.82140401663972j), '0_4_0__Roll': (3.828897014049584-0.08980874315514953j), '0_4_0__Pitch': (3.83767414570711+8.465863626599713j), '0_4_0__Yaw': (2.402125258913302e-14-9.764594453718764e-14j), '4_0_0__Surge': (-22.944297098415635-57.244163294930125j), '4_0_0__Sway': (23.280979039684507-6.8580353316738965j), '4_0_0__Heave': (-272.31497622868363+21.34555718522789j), '4_0_0__Roll': (-3.8284992954197112-0.10526999287233885j), '4_0_0__Pitch': (-3.872160619562302+8.45029546856772j), '4_0_0__Yaw': (-4.478760537829857e-14+1.9311118084528973e-14j)}\n"
     ]
    }
   ],
   "source": [
    "# Combine the two individual bodies into a single body.\n",
    "all_bodies =  bodies[0].join_bodies(*bodies[1:])\n",
    "all_bodies.keep_immersed_part()\n",
    "\n",
    "# The merged body can be used to define the problems in the usual way\n",
    "#problems = [cpt.RadiationProblem(body=all_bodies, radiating_dof=dof, omega=1.0) for dof in all_bodies.dofs]\n",
    "problems = cpt.DiffractionProblem(body=all_bodies, wave_direction=0.0, omega=omega)\n",
    "\n",
    "# Solves the problem\n",
    "solver = cpt.BEMSolver()\n",
    "results_all_bodies = solver.solve(problems)\n",
    "\n",
    "print(results_all_bodies.forces)"
   ]
  },
  {
   "cell_type": "code",
   "execution_count": 125,
   "metadata": {},
   "outputs": [
    {
     "data": {
      "text/plain": [
       "(-272.2167660134676-26.821404016639697j)"
      ]
     },
     "execution_count": 125,
     "metadata": {},
     "output_type": "execute_result"
    }
   ],
   "source": [
    "results_all_bodies.forces['0_0_0__Heave'] "
   ]
  },
  {
   "cell_type": "code",
   "execution_count": 126,
   "metadata": {},
   "outputs": [
    {
     "data": {
      "text/plain": [
       "(-154.0006496668115-1.174054132335016j)"
      ]
     },
     "execution_count": 126,
     "metadata": {},
     "output_type": "execute_result"
    }
   ],
   "source": [
    "diff_results[bodies[0]].forces['Heave']"
   ]
  },
  {
   "cell_type": "code",
   "execution_count": 127,
   "metadata": {},
   "outputs": [
    {
     "data": {
      "text/plain": [
       "(-118.21611634665607-25.64734988430468j)"
      ]
     },
     "execution_count": 127,
     "metadata": {},
     "output_type": "execute_result"
    }
   ],
   "source": [
    "results_all_bodies.forces['0_0_0__Heave']  - diff_results[bodies[0]].forces['Heave']"
   ]
  },
  {
   "cell_type": "code",
   "execution_count": null,
   "metadata": {},
   "outputs": [],
   "source": []
  }
 ],
 "metadata": {
  "kernelspec": {
   "display_name": "WEC_array",
   "language": "python",
   "name": "python3"
  },
  "language_info": {
   "codemirror_mode": {
    "name": "ipython",
    "version": 3
   },
   "file_extension": ".py",
   "mimetype": "text/x-python",
   "name": "python",
   "nbconvert_exporter": "python",
   "pygments_lexer": "ipython3",
   "version": "3.11.4"
  },
  "orig_nbformat": 4
 },
 "nbformat": 4,
 "nbformat_minor": 2
}
